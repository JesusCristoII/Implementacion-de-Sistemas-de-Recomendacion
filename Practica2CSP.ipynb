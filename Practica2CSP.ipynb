{
 "cells": [
  {
   "cell_type": "markdown",
   "id": "83e3b242",
   "metadata": {},
   "source": [
    "## Práctica 2. Computación Social y Personalización. Sistemas de recomendación.\n",
    "#### Autores: Jaime Carrero Galisteo y Jesús Blázquez Bautista."
   ]
  },
  {
   "cell_type": "code",
   "execution_count": 1,
   "id": "0050fcf5",
   "metadata": {},
   "outputs": [],
   "source": [
    "# Cargamos las librerías necesarias y algunos de nuestros métodos realizados\n",
    "import numpy as np\n",
    "import pandas as pd\n",
    "import math\n",
    "import matplotlib.pyplot as plt\n",
    "import random\n",
    "from KNN import KNN\n",
    "from Matrix_factorization import Matrix_factorization, Matrix_factorization_bias\n",
    "from Metrics import metrics\n",
    "import json"
   ]
  },
  {
   "cell_type": "markdown",
   "id": "15c7b825",
   "metadata": {},
   "source": [
    "### Tras recoger los datos en el notebook Obtencion_ratings.ipynb procedemos al análisis del mismo."
   ]
  },
  {
   "cell_type": "code",
   "execution_count": null,
   "id": "eb62e4fe",
   "metadata": {},
   "outputs": [
    {
     "data": {
      "text/html": [
       "<div>\n",
       "<style scoped>\n",
       "    .dataframe tbody tr th:only-of-type {\n",
       "        vertical-align: middle;\n",
       "    }\n",
       "\n",
       "    .dataframe tbody tr th {\n",
       "        vertical-align: top;\n",
       "    }\n",
       "\n",
       "    .dataframe thead th {\n",
       "        text-align: right;\n",
       "    }\n",
       "</style>\n",
       "<table border=\"1\" class=\"dataframe\">\n",
       "  <thead>\n",
       "    <tr style=\"text-align: right;\">\n",
       "      <th></th>\n",
       "      <th>user_id</th>\n",
       "      <th>item_id</th>\n",
       "      <th>rating</th>\n",
       "      <th>timestamp</th>\n",
       "    </tr>\n",
       "  </thead>\n",
       "  <tbody>\n",
       "    <tr>\n",
       "      <th>0</th>\n",
       "      <td>0</td>\n",
       "      <td>122339</td>\n",
       "      <td>5.0</td>\n",
       "      <td>1485216000</td>\n",
       "    </tr>\n",
       "    <tr>\n",
       "      <th>1</th>\n",
       "      <td>0</td>\n",
       "      <td>44777</td>\n",
       "      <td>4.0</td>\n",
       "      <td>1449360000</td>\n",
       "    </tr>\n",
       "    <tr>\n",
       "      <th>2</th>\n",
       "      <td>0</td>\n",
       "      <td>107972</td>\n",
       "      <td>5.0</td>\n",
       "      <td>1421280000</td>\n",
       "    </tr>\n",
       "    <tr>\n",
       "      <th>3</th>\n",
       "      <td>0</td>\n",
       "      <td>97552</td>\n",
       "      <td>5.0</td>\n",
       "      <td>1390262400</td>\n",
       "    </tr>\n",
       "    <tr>\n",
       "      <th>4</th>\n",
       "      <td>1</td>\n",
       "      <td>26825</td>\n",
       "      <td>5.0</td>\n",
       "      <td>1289865600</td>\n",
       "    </tr>\n",
       "    <tr>\n",
       "      <th>...</th>\n",
       "      <td>...</td>\n",
       "      <td>...</td>\n",
       "      <td>...</td>\n",
       "      <td>...</td>\n",
       "    </tr>\n",
       "    <tr>\n",
       "      <th>147131</th>\n",
       "      <td>1547</td>\n",
       "      <td>96038</td>\n",
       "      <td>5.0</td>\n",
       "      <td>1513209600</td>\n",
       "    </tr>\n",
       "    <tr>\n",
       "      <th>147132</th>\n",
       "      <td>1547</td>\n",
       "      <td>8286</td>\n",
       "      <td>5.0</td>\n",
       "      <td>1513900800</td>\n",
       "    </tr>\n",
       "    <tr>\n",
       "      <th>147133</th>\n",
       "      <td>1547</td>\n",
       "      <td>41056</td>\n",
       "      <td>5.0</td>\n",
       "      <td>1514160000</td>\n",
       "    </tr>\n",
       "    <tr>\n",
       "      <th>147134</th>\n",
       "      <td>1547</td>\n",
       "      <td>115290</td>\n",
       "      <td>5.0</td>\n",
       "      <td>1510963200</td>\n",
       "    </tr>\n",
       "    <tr>\n",
       "      <th>147135</th>\n",
       "      <td>1547</td>\n",
       "      <td>116882</td>\n",
       "      <td>5.0</td>\n",
       "      <td>1534204800</td>\n",
       "    </tr>\n",
       "  </tbody>\n",
       "</table>\n",
       "<p>147136 rows × 4 columns</p>\n",
       "</div>"
      ],
      "text/plain": [
       "        user_id  item_id  rating   timestamp\n",
       "0             0   122339     5.0  1485216000\n",
       "1             0    44777     4.0  1449360000\n",
       "2             0   107972     5.0  1421280000\n",
       "3             0    97552     5.0  1390262400\n",
       "4             1    26825     5.0  1289865600\n",
       "...         ...      ...     ...         ...\n",
       "147131     1547    96038     5.0  1513209600\n",
       "147132     1547     8286     5.0  1513900800\n",
       "147133     1547    41056     5.0  1514160000\n",
       "147134     1547   115290     5.0  1510963200\n",
       "147135     1547   116882     5.0  1534204800\n",
       "\n",
       "[147136 rows x 4 columns]"
      ]
     },
     "metadata": {},
     "output_type": "display_data"
    }
   ],
   "source": [
    "# Cargamos el dataset\n",
    "data = pd.read_csv('ratings_bien.csv', engine= 'python')\n",
    "data.sort_values(by=('user_id'), inplace= True)\n",
    "data.reset_index(inplace= True, drop= True)\n",
    "data"
   ]
  },
  {
   "cell_type": "code",
   "execution_count": null,
   "id": "527157c4",
   "metadata": {},
   "outputs": [],
   "source": [
    "NUM_USERS = data.user_id.nunique()\n",
    "NUM_ITEMS = data.item_id.nunique()\n",
    "NUM_RATINGS = len(data)\n",
    "\n",
    "MIN_RATING = int(data.rating.min())\n",
    "MAX_RATING = int(data.rating.max())"
   ]
  },
  {
   "cell_type": "code",
   "execution_count": null,
   "id": "c7a2c685",
   "metadata": {},
   "outputs": [
    {
     "name": "stdout",
     "output_type": "stream",
     "text": [
      "El dataset está formado por 1548 usuarios, 128877 ítems y 147136 votaciones.\n",
      "La puntuación mínima es de 1, la puntuación máxima es de 5.\n",
      "La puntuación media de las votaciones es de 4.67.\n"
     ]
    }
   ],
   "source": [
    "print(f'El dataset está formado por {NUM_USERS} usuarios, {NUM_ITEMS} ítems y {NUM_RATINGS} votaciones.')\n",
    "print(f'La puntuación mínima es de {MIN_RATING}, la puntuación máxima es de {MAX_RATING}.')\n",
    "print(f'La puntuación media de las votaciones es de {data.rating.mean():.2f}.')"
   ]
  },
  {
   "cell_type": "code",
   "execution_count": null,
   "id": "787174e3",
   "metadata": {},
   "outputs": [
    {
     "data": {
      "image/png": "[encoded data removed]",
      "text/plain": [
       "<Figure size 800x500 with 1 Axes>"
      ]
     },
     "metadata": {},
     "output_type": "display_data"
    }
   ],
   "source": [
    "frecuencias = data.rating.value_counts().sort_index()\n",
    "\n",
    "# Gráfico de las valoraciones\n",
    "plt.figure(figsize=(8, 5))\n",
    "frecuencias.plot(kind='bar', color='#ffbd59')\n",
    "plt.title(\"Valoraciones\")\n",
    "plt.xlabel(\"Puntuación\")\n",
    "plt.ylabel(\"Frecuencia\")\n",
    "plt.xticks(rotation=0)\n",
    "plt.grid(axis='y')\n",
    "plt.show()"
   ]
  },
  {
   "cell_type": "code",
   "execution_count": null,
   "id": "51d25889",
   "metadata": {},
   "outputs": [
    {
     "data": {
      "image/png": "[encoded data removed]",
      "text/plain": [
       "<Figure size 800x500 with 1 Axes>"
      ]
     },
     "metadata": {},
     "output_type": "display_data"
    }
   ],
   "source": [
    "import pandas as pd\n",
    "import seaborn as sns\n",
    "import matplotlib.pyplot as plt\n",
    "\n",
    "user_vote_counts = data['user_id'].value_counts()\n",
    "\n",
    "# Paso 2: Contar cuántos usuarios tienen X cantidad de votos\n",
    "vote_distribution = user_vote_counts.value_counts().sort_index()\n",
    "\n",
    "# Paso 3: Hacer el plot\n",
    "plt.figure(figsize=(8, 5))\n",
    "plt.plot(vote_distribution.index, vote_distribution.values, marker='o', color='#ffbd59')\n",
    "plt.xscale('log')\n",
    "plt.xlabel('Votos realizados por un usuario')\n",
    "plt.ylabel('Usuarios que han votado x ítems')\n",
    "plt.grid(True)\n",
    "plt.tight_layout()\n",
    "plt.show()"
   ]
  },
  {
   "cell_type": "markdown",
   "id": "c02ac789",
   "metadata": {},
   "source": [
    "En este gráfico podemos observar que la puntuación máxima de 5 es la que con más frecuencia aparece, seguida de 4 y 1."
   ]
  },
  {
   "cell_type": "code",
   "execution_count": null,
   "id": "5c9abb91",
   "metadata": {},
   "outputs": [
    {
     "name": "stdout",
     "output_type": "stream",
     "text": [
      "Los 3 usuarios que más ítems han votado han sido:\n",
      "Usuario 195 -> 8157 votos\n",
      "Usuario 100 -> 5415 votos\n",
      "Usuario 308 -> 3486 votos\n",
      "\n",
      "Los 3 ítems que han recibido más votos han sido:\n",
      "Ítem 3307 -> 39 votos\n",
      "Ítem 28337 -> 31 votos\n",
      "Ítem 91291 -> 26 votos\n"
     ]
    }
   ],
   "source": [
    "voto_users = data.user_id.value_counts()[:3].to_dict()\n",
    "voto_items = data.item_id.value_counts()[:3].to_dict()\n",
    "\n",
    "print(f'Los 3 usuarios que más ítems han votado han sido:')\n",
    "for i, j in voto_users.items():\n",
    "    print(f'Usuario {i} -> {j} votos')\n",
    "\n",
    "print(f'\\nLos 3 ítems que han recibido más votos han sido:')\n",
    "for i, j in voto_items.items():\n",
    "    print(f'Ítem {i} -> {j} votos')\n"
   ]
  },
  {
   "cell_type": "code",
   "execution_count": null,
   "id": "e682dfab",
   "metadata": {},
   "outputs": [
    {
     "name": "stdout",
     "output_type": "stream",
     "text": [
      "El 99.93% de las posibles votaciones están vacías.\n"
     ]
    }
   ],
   "source": [
    "votaciones_vacias = 100 - NUM_RATINGS / (NUM_ITEMS * NUM_USERS) * 100\n",
    "print(f'El {votaciones_vacias:.2f}% de las posibles votaciones están vacías.')"
   ]
  },
  {
   "cell_type": "markdown",
   "id": "6bc127fc",
   "metadata": {},
   "source": [
    "### Ahora vamos a comprobar que tal funciona el método de KNN."
   ]
  },
  {
   "cell_type": "markdown",
   "id": "7117ccd2",
   "metadata": {},
   "source": [
    "#### Primero pasamos los datos a una matriz con filas usuarios, columnas ítems y los valores son el rating del usuario al ítem."
   ]
  },
  {
   "cell_type": "code",
   "execution_count": null,
   "id": "4899c25f",
   "metadata": {},
   "outputs": [],
   "source": [
    "X_train = data.sample(int(0.8 * data.shape[0]), random_state= 42)"
   ]
  },
  {
   "cell_type": "code",
   "execution_count": null,
   "id": "2eb5499e",
   "metadata": {},
   "outputs": [],
   "source": [
    "X_test = data.loc[np.setdiff1d(data.index, X_train.index), :]"
   ]
  },
  {
   "cell_type": "code",
   "execution_count": null,
   "id": "09dbbfc0",
   "metadata": {},
   "outputs": [
    {
     "data": {
      "text/html": [
       "<div>\n",
       "<style scoped>\n",
       "    .dataframe tbody tr th:only-of-type {\n",
       "        vertical-align: middle;\n",
       "    }\n",
       "\n",
       "    .dataframe tbody tr th {\n",
       "        vertical-align: top;\n",
       "    }\n",
       "\n",
       "    .dataframe thead th {\n",
       "        text-align: right;\n",
       "    }\n",
       "</style>\n",
       "<table border=\"1\" class=\"dataframe\">\n",
       "  <thead>\n",
       "    <tr style=\"text-align: right;\">\n",
       "      <th></th>\n",
       "      <th>0</th>\n",
       "      <th>1</th>\n",
       "      <th>2</th>\n",
       "      <th>3</th>\n",
       "      <th>4</th>\n",
       "      <th>5</th>\n",
       "      <th>6</th>\n",
       "      <th>7</th>\n",
       "      <th>8</th>\n",
       "      <th>9</th>\n",
       "      <th>...</th>\n",
       "      <th>128867</th>\n",
       "      <th>128868</th>\n",
       "      <th>128869</th>\n",
       "      <th>128870</th>\n",
       "      <th>128871</th>\n",
       "      <th>128872</th>\n",
       "      <th>128873</th>\n",
       "      <th>128874</th>\n",
       "      <th>128875</th>\n",
       "      <th>128876</th>\n",
       "    </tr>\n",
       "  </thead>\n",
       "  <tbody>\n",
       "    <tr>\n",
       "      <th>0</th>\n",
       "      <td>NaN</td>\n",
       "      <td>NaN</td>\n",
       "      <td>NaN</td>\n",
       "      <td>NaN</td>\n",
       "      <td>NaN</td>\n",
       "      <td>NaN</td>\n",
       "      <td>NaN</td>\n",
       "      <td>NaN</td>\n",
       "      <td>NaN</td>\n",
       "      <td>NaN</td>\n",
       "      <td>...</td>\n",
       "      <td>NaN</td>\n",
       "      <td>NaN</td>\n",
       "      <td>NaN</td>\n",
       "      <td>NaN</td>\n",
       "      <td>NaN</td>\n",
       "      <td>NaN</td>\n",
       "      <td>NaN</td>\n",
       "      <td>NaN</td>\n",
       "      <td>NaN</td>\n",
       "      <td>NaN</td>\n",
       "    </tr>\n",
       "    <tr>\n",
       "      <th>1</th>\n",
       "      <td>NaN</td>\n",
       "      <td>NaN</td>\n",
       "      <td>NaN</td>\n",
       "      <td>NaN</td>\n",
       "      <td>NaN</td>\n",
       "      <td>NaN</td>\n",
       "      <td>NaN</td>\n",
       "      <td>NaN</td>\n",
       "      <td>NaN</td>\n",
       "      <td>NaN</td>\n",
       "      <td>...</td>\n",
       "      <td>NaN</td>\n",
       "      <td>NaN</td>\n",
       "      <td>NaN</td>\n",
       "      <td>NaN</td>\n",
       "      <td>NaN</td>\n",
       "      <td>NaN</td>\n",
       "      <td>NaN</td>\n",
       "      <td>NaN</td>\n",
       "      <td>NaN</td>\n",
       "      <td>NaN</td>\n",
       "    </tr>\n",
       "    <tr>\n",
       "      <th>2</th>\n",
       "      <td>NaN</td>\n",
       "      <td>NaN</td>\n",
       "      <td>NaN</td>\n",
       "      <td>NaN</td>\n",
       "      <td>NaN</td>\n",
       "      <td>NaN</td>\n",
       "      <td>NaN</td>\n",
       "      <td>NaN</td>\n",
       "      <td>NaN</td>\n",
       "      <td>NaN</td>\n",
       "      <td>...</td>\n",
       "      <td>NaN</td>\n",
       "      <td>NaN</td>\n",
       "      <td>NaN</td>\n",
       "      <td>NaN</td>\n",
       "      <td>NaN</td>\n",
       "      <td>NaN</td>\n",
       "      <td>NaN</td>\n",
       "      <td>NaN</td>\n",
       "      <td>NaN</td>\n",
       "      <td>NaN</td>\n",
       "    </tr>\n",
       "    <tr>\n",
       "      <th>3</th>\n",
       "      <td>NaN</td>\n",
       "      <td>NaN</td>\n",
       "      <td>NaN</td>\n",
       "      <td>NaN</td>\n",
       "      <td>NaN</td>\n",
       "      <td>NaN</td>\n",
       "      <td>NaN</td>\n",
       "      <td>NaN</td>\n",
       "      <td>NaN</td>\n",
       "      <td>NaN</td>\n",
       "      <td>...</td>\n",
       "      <td>NaN</td>\n",
       "      <td>NaN</td>\n",
       "      <td>NaN</td>\n",
       "      <td>NaN</td>\n",
       "      <td>NaN</td>\n",
       "      <td>NaN</td>\n",
       "      <td>NaN</td>\n",
       "      <td>NaN</td>\n",
       "      <td>NaN</td>\n",
       "      <td>NaN</td>\n",
       "    </tr>\n",
       "    <tr>\n",
       "      <th>4</th>\n",
       "      <td>NaN</td>\n",
       "      <td>NaN</td>\n",
       "      <td>NaN</td>\n",
       "      <td>NaN</td>\n",
       "      <td>NaN</td>\n",
       "      <td>NaN</td>\n",
       "      <td>NaN</td>\n",
       "      <td>NaN</td>\n",
       "      <td>NaN</td>\n",
       "      <td>NaN</td>\n",
       "      <td>...</td>\n",
       "      <td>NaN</td>\n",
       "      <td>NaN</td>\n",
       "      <td>NaN</td>\n",
       "      <td>NaN</td>\n",
       "      <td>NaN</td>\n",
       "      <td>NaN</td>\n",
       "      <td>NaN</td>\n",
       "      <td>NaN</td>\n",
       "      <td>NaN</td>\n",
       "      <td>NaN</td>\n",
       "    </tr>\n",
       "    <tr>\n",
       "      <th>...</th>\n",
       "      <td>...</td>\n",
       "      <td>...</td>\n",
       "      <td>...</td>\n",
       "      <td>...</td>\n",
       "      <td>...</td>\n",
       "      <td>...</td>\n",
       "      <td>...</td>\n",
       "      <td>...</td>\n",
       "      <td>...</td>\n",
       "      <td>...</td>\n",
       "      <td>...</td>\n",
       "      <td>...</td>\n",
       "      <td>...</td>\n",
       "      <td>...</td>\n",
       "      <td>...</td>\n",
       "      <td>...</td>\n",
       "      <td>...</td>\n",
       "      <td>...</td>\n",
       "      <td>...</td>\n",
       "      <td>...</td>\n",
       "      <td>...</td>\n",
       "    </tr>\n",
       "    <tr>\n",
       "      <th>1543</th>\n",
       "      <td>NaN</td>\n",
       "      <td>NaN</td>\n",
       "      <td>NaN</td>\n",
       "      <td>NaN</td>\n",
       "      <td>NaN</td>\n",
       "      <td>NaN</td>\n",
       "      <td>NaN</td>\n",
       "      <td>NaN</td>\n",
       "      <td>NaN</td>\n",
       "      <td>NaN</td>\n",
       "      <td>...</td>\n",
       "      <td>NaN</td>\n",
       "      <td>NaN</td>\n",
       "      <td>NaN</td>\n",
       "      <td>NaN</td>\n",
       "      <td>NaN</td>\n",
       "      <td>NaN</td>\n",
       "      <td>NaN</td>\n",
       "      <td>NaN</td>\n",
       "      <td>NaN</td>\n",
       "      <td>NaN</td>\n",
       "    </tr>\n",
       "    <tr>\n",
       "      <th>1544</th>\n",
       "      <td>NaN</td>\n",
       "      <td>NaN</td>\n",
       "      <td>NaN</td>\n",
       "      <td>NaN</td>\n",
       "      <td>NaN</td>\n",
       "      <td>NaN</td>\n",
       "      <td>NaN</td>\n",
       "      <td>NaN</td>\n",
       "      <td>NaN</td>\n",
       "      <td>NaN</td>\n",
       "      <td>...</td>\n",
       "      <td>NaN</td>\n",
       "      <td>NaN</td>\n",
       "      <td>NaN</td>\n",
       "      <td>NaN</td>\n",
       "      <td>NaN</td>\n",
       "      <td>NaN</td>\n",
       "      <td>NaN</td>\n",
       "      <td>NaN</td>\n",
       "      <td>NaN</td>\n",
       "      <td>NaN</td>\n",
       "    </tr>\n",
       "    <tr>\n",
       "      <th>1545</th>\n",
       "      <td>NaN</td>\n",
       "      <td>NaN</td>\n",
       "      <td>NaN</td>\n",
       "      <td>NaN</td>\n",
       "      <td>NaN</td>\n",
       "      <td>NaN</td>\n",
       "      <td>NaN</td>\n",
       "      <td>NaN</td>\n",
       "      <td>NaN</td>\n",
       "      <td>NaN</td>\n",
       "      <td>...</td>\n",
       "      <td>NaN</td>\n",
       "      <td>NaN</td>\n",
       "      <td>NaN</td>\n",
       "      <td>NaN</td>\n",
       "      <td>NaN</td>\n",
       "      <td>NaN</td>\n",
       "      <td>NaN</td>\n",
       "      <td>NaN</td>\n",
       "      <td>NaN</td>\n",
       "      <td>NaN</td>\n",
       "    </tr>\n",
       "    <tr>\n",
       "      <th>1546</th>\n",
       "      <td>NaN</td>\n",
       "      <td>NaN</td>\n",
       "      <td>NaN</td>\n",
       "      <td>NaN</td>\n",
       "      <td>NaN</td>\n",
       "      <td>NaN</td>\n",
       "      <td>NaN</td>\n",
       "      <td>NaN</td>\n",
       "      <td>NaN</td>\n",
       "      <td>NaN</td>\n",
       "      <td>...</td>\n",
       "      <td>NaN</td>\n",
       "      <td>NaN</td>\n",
       "      <td>NaN</td>\n",
       "      <td>NaN</td>\n",
       "      <td>NaN</td>\n",
       "      <td>NaN</td>\n",
       "      <td>NaN</td>\n",
       "      <td>NaN</td>\n",
       "      <td>NaN</td>\n",
       "      <td>NaN</td>\n",
       "    </tr>\n",
       "    <tr>\n",
       "      <th>1547</th>\n",
       "      <td>NaN</td>\n",
       "      <td>NaN</td>\n",
       "      <td>NaN</td>\n",
       "      <td>NaN</td>\n",
       "      <td>NaN</td>\n",
       "      <td>NaN</td>\n",
       "      <td>NaN</td>\n",
       "      <td>NaN</td>\n",
       "      <td>NaN</td>\n",
       "      <td>NaN</td>\n",
       "      <td>...</td>\n",
       "      <td>NaN</td>\n",
       "      <td>NaN</td>\n",
       "      <td>NaN</td>\n",
       "      <td>NaN</td>\n",
       "      <td>NaN</td>\n",
       "      <td>NaN</td>\n",
       "      <td>NaN</td>\n",
       "      <td>NaN</td>\n",
       "      <td>NaN</td>\n",
       "      <td>NaN</td>\n",
       "    </tr>\n",
       "  </tbody>\n",
       "</table>\n",
       "<p>1548 rows × 128877 columns</p>\n",
       "</div>"
      ],
      "text/plain": [
       "      0       1       2       3       4       5       6       7       8       \\\n",
       "0        NaN     NaN     NaN     NaN     NaN     NaN     NaN     NaN     NaN   \n",
       "1        NaN     NaN     NaN     NaN     NaN     NaN     NaN     NaN     NaN   \n",
       "2        NaN     NaN     NaN     NaN     NaN     NaN     NaN     NaN     NaN   \n",
       "3        NaN     NaN     NaN     NaN     NaN     NaN     NaN     NaN     NaN   \n",
       "4        NaN     NaN     NaN     NaN     NaN     NaN     NaN     NaN     NaN   \n",
       "...      ...     ...     ...     ...     ...     ...     ...     ...     ...   \n",
       "1543     NaN     NaN     NaN     NaN     NaN     NaN     NaN     NaN     NaN   \n",
       "1544     NaN     NaN     NaN     NaN     NaN     NaN     NaN     NaN     NaN   \n",
       "1545     NaN     NaN     NaN     NaN     NaN     NaN     NaN     NaN     NaN   \n",
       "1546     NaN     NaN     NaN     NaN     NaN     NaN     NaN     NaN     NaN   \n",
       "1547     NaN     NaN     NaN     NaN     NaN     NaN     NaN     NaN     NaN   \n",
       "\n",
       "      9       ...  128867  128868  128869  128870  128871  128872  128873  \\\n",
       "0        NaN  ...     NaN     NaN     NaN     NaN     NaN     NaN     NaN   \n",
       "1        NaN  ...     NaN     NaN     NaN     NaN     NaN     NaN     NaN   \n",
       "2        NaN  ...     NaN     NaN     NaN     NaN     NaN     NaN     NaN   \n",
       "3        NaN  ...     NaN     NaN     NaN     NaN     NaN     NaN     NaN   \n",
       "4        NaN  ...     NaN     NaN     NaN     NaN     NaN     NaN     NaN   \n",
       "...      ...  ...     ...     ...     ...     ...     ...     ...     ...   \n",
       "1543     NaN  ...     NaN     NaN     NaN     NaN     NaN     NaN     NaN   \n",
       "1544     NaN  ...     NaN     NaN     NaN     NaN     NaN     NaN     NaN   \n",
       "1545     NaN  ...     NaN     NaN     NaN     NaN     NaN     NaN     NaN   \n",
       "1546     NaN  ...     NaN     NaN     NaN     NaN     NaN     NaN     NaN   \n",
       "1547     NaN  ...     NaN     NaN     NaN     NaN     NaN     NaN     NaN   \n",
       "\n",
       "      128874  128875  128876  \n",
       "0        NaN     NaN     NaN  \n",
       "1        NaN     NaN     NaN  \n",
       "2        NaN     NaN     NaN  \n",
       "3        NaN     NaN     NaN  \n",
       "4        NaN     NaN     NaN  \n",
       "...      ...     ...     ...  \n",
       "1543     NaN     NaN     NaN  \n",
       "1544     NaN     NaN     NaN  \n",
       "1545     NaN     NaN     NaN  \n",
       "1546     NaN     NaN     NaN  \n",
       "1547     NaN     NaN     NaN  \n",
       "\n",
       "[1548 rows x 128877 columns]"
      ]
     },
     "metadata": {},
     "output_type": "display_data"
    }
   ],
   "source": [
    "ratings = np.array([[np.nan] * data['item_id'].nunique()] * data['user_id'].nunique(), dtype= 'float32')\n",
    "ratings = pd.DataFrame(ratings)\n",
    "for i in range(X_train.shape[0]):\n",
    "    rating = X_train.iloc[i]\n",
    "    ratings.loc[rating['user_id'], rating['item_id']] = rating['rating']\n",
    "ratings"
   ]
  },
  {
   "cell_type": "code",
   "execution_count": null,
   "id": "75da0732",
   "metadata": {},
   "outputs": [
    {
     "data": {
      "text/html": [
       "<div>\n",
       "<style scoped>\n",
       "    .dataframe tbody tr th:only-of-type {\n",
       "        vertical-align: middle;\n",
       "    }\n",
       "\n",
       "    .dataframe tbody tr th {\n",
       "        vertical-align: top;\n",
       "    }\n",
       "\n",
       "    .dataframe thead th {\n",
       "        text-align: right;\n",
       "    }\n",
       "</style>\n",
       "<table border=\"1\" class=\"dataframe\">\n",
       "  <thead>\n",
       "    <tr style=\"text-align: right;\">\n",
       "      <th></th>\n",
       "      <th>0</th>\n",
       "      <th>1</th>\n",
       "      <th>2</th>\n",
       "      <th>3</th>\n",
       "      <th>4</th>\n",
       "      <th>5</th>\n",
       "      <th>6</th>\n",
       "      <th>7</th>\n",
       "      <th>8</th>\n",
       "      <th>9</th>\n",
       "      <th>...</th>\n",
       "      <th>128867</th>\n",
       "      <th>128868</th>\n",
       "      <th>128869</th>\n",
       "      <th>128870</th>\n",
       "      <th>128871</th>\n",
       "      <th>128872</th>\n",
       "      <th>128873</th>\n",
       "      <th>128874</th>\n",
       "      <th>128875</th>\n",
       "      <th>128876</th>\n",
       "    </tr>\n",
       "  </thead>\n",
       "  <tbody>\n",
       "    <tr>\n",
       "      <th>0</th>\n",
       "      <td>NaN</td>\n",
       "      <td>NaN</td>\n",
       "      <td>NaN</td>\n",
       "      <td>NaN</td>\n",
       "      <td>NaN</td>\n",
       "      <td>NaN</td>\n",
       "      <td>NaN</td>\n",
       "      <td>NaN</td>\n",
       "      <td>NaN</td>\n",
       "      <td>NaN</td>\n",
       "      <td>...</td>\n",
       "      <td>NaN</td>\n",
       "      <td>NaN</td>\n",
       "      <td>NaN</td>\n",
       "      <td>NaN</td>\n",
       "      <td>NaN</td>\n",
       "      <td>NaN</td>\n",
       "      <td>NaN</td>\n",
       "      <td>NaN</td>\n",
       "      <td>NaN</td>\n",
       "      <td>NaN</td>\n",
       "    </tr>\n",
       "    <tr>\n",
       "      <th>1</th>\n",
       "      <td>NaN</td>\n",
       "      <td>NaN</td>\n",
       "      <td>NaN</td>\n",
       "      <td>NaN</td>\n",
       "      <td>NaN</td>\n",
       "      <td>NaN</td>\n",
       "      <td>NaN</td>\n",
       "      <td>NaN</td>\n",
       "      <td>NaN</td>\n",
       "      <td>NaN</td>\n",
       "      <td>...</td>\n",
       "      <td>NaN</td>\n",
       "      <td>NaN</td>\n",
       "      <td>NaN</td>\n",
       "      <td>NaN</td>\n",
       "      <td>NaN</td>\n",
       "      <td>NaN</td>\n",
       "      <td>NaN</td>\n",
       "      <td>NaN</td>\n",
       "      <td>NaN</td>\n",
       "      <td>NaN</td>\n",
       "    </tr>\n",
       "    <tr>\n",
       "      <th>2</th>\n",
       "      <td>NaN</td>\n",
       "      <td>NaN</td>\n",
       "      <td>NaN</td>\n",
       "      <td>NaN</td>\n",
       "      <td>NaN</td>\n",
       "      <td>NaN</td>\n",
       "      <td>NaN</td>\n",
       "      <td>NaN</td>\n",
       "      <td>NaN</td>\n",
       "      <td>NaN</td>\n",
       "      <td>...</td>\n",
       "      <td>NaN</td>\n",
       "      <td>NaN</td>\n",
       "      <td>NaN</td>\n",
       "      <td>NaN</td>\n",
       "      <td>NaN</td>\n",
       "      <td>NaN</td>\n",
       "      <td>NaN</td>\n",
       "      <td>NaN</td>\n",
       "      <td>NaN</td>\n",
       "      <td>NaN</td>\n",
       "    </tr>\n",
       "    <tr>\n",
       "      <th>3</th>\n",
       "      <td>NaN</td>\n",
       "      <td>NaN</td>\n",
       "      <td>NaN</td>\n",
       "      <td>NaN</td>\n",
       "      <td>NaN</td>\n",
       "      <td>NaN</td>\n",
       "      <td>NaN</td>\n",
       "      <td>NaN</td>\n",
       "      <td>NaN</td>\n",
       "      <td>NaN</td>\n",
       "      <td>...</td>\n",
       "      <td>NaN</td>\n",
       "      <td>NaN</td>\n",
       "      <td>NaN</td>\n",
       "      <td>NaN</td>\n",
       "      <td>NaN</td>\n",
       "      <td>NaN</td>\n",
       "      <td>NaN</td>\n",
       "      <td>NaN</td>\n",
       "      <td>NaN</td>\n",
       "      <td>NaN</td>\n",
       "    </tr>\n",
       "    <tr>\n",
       "      <th>4</th>\n",
       "      <td>NaN</td>\n",
       "      <td>NaN</td>\n",
       "      <td>NaN</td>\n",
       "      <td>NaN</td>\n",
       "      <td>NaN</td>\n",
       "      <td>NaN</td>\n",
       "      <td>NaN</td>\n",
       "      <td>NaN</td>\n",
       "      <td>NaN</td>\n",
       "      <td>NaN</td>\n",
       "      <td>...</td>\n",
       "      <td>NaN</td>\n",
       "      <td>NaN</td>\n",
       "      <td>NaN</td>\n",
       "      <td>NaN</td>\n",
       "      <td>NaN</td>\n",
       "      <td>NaN</td>\n",
       "      <td>NaN</td>\n",
       "      <td>NaN</td>\n",
       "      <td>NaN</td>\n",
       "      <td>NaN</td>\n",
       "    </tr>\n",
       "    <tr>\n",
       "      <th>...</th>\n",
       "      <td>...</td>\n",
       "      <td>...</td>\n",
       "      <td>...</td>\n",
       "      <td>...</td>\n",
       "      <td>...</td>\n",
       "      <td>...</td>\n",
       "      <td>...</td>\n",
       "      <td>...</td>\n",
       "      <td>...</td>\n",
       "      <td>...</td>\n",
       "      <td>...</td>\n",
       "      <td>...</td>\n",
       "      <td>...</td>\n",
       "      <td>...</td>\n",
       "      <td>...</td>\n",
       "      <td>...</td>\n",
       "      <td>...</td>\n",
       "      <td>...</td>\n",
       "      <td>...</td>\n",
       "      <td>...</td>\n",
       "      <td>...</td>\n",
       "    </tr>\n",
       "    <tr>\n",
       "      <th>1543</th>\n",
       "      <td>NaN</td>\n",
       "      <td>NaN</td>\n",
       "      <td>NaN</td>\n",
       "      <td>NaN</td>\n",
       "      <td>NaN</td>\n",
       "      <td>NaN</td>\n",
       "      <td>NaN</td>\n",
       "      <td>NaN</td>\n",
       "      <td>NaN</td>\n",
       "      <td>NaN</td>\n",
       "      <td>...</td>\n",
       "      <td>NaN</td>\n",
       "      <td>NaN</td>\n",
       "      <td>NaN</td>\n",
       "      <td>NaN</td>\n",
       "      <td>NaN</td>\n",
       "      <td>NaN</td>\n",
       "      <td>NaN</td>\n",
       "      <td>NaN</td>\n",
       "      <td>NaN</td>\n",
       "      <td>NaN</td>\n",
       "    </tr>\n",
       "    <tr>\n",
       "      <th>1544</th>\n",
       "      <td>NaN</td>\n",
       "      <td>NaN</td>\n",
       "      <td>NaN</td>\n",
       "      <td>NaN</td>\n",
       "      <td>NaN</td>\n",
       "      <td>NaN</td>\n",
       "      <td>NaN</td>\n",
       "      <td>NaN</td>\n",
       "      <td>NaN</td>\n",
       "      <td>NaN</td>\n",
       "      <td>...</td>\n",
       "      <td>NaN</td>\n",
       "      <td>NaN</td>\n",
       "      <td>NaN</td>\n",
       "      <td>NaN</td>\n",
       "      <td>NaN</td>\n",
       "      <td>NaN</td>\n",
       "      <td>NaN</td>\n",
       "      <td>NaN</td>\n",
       "      <td>NaN</td>\n",
       "      <td>NaN</td>\n",
       "    </tr>\n",
       "    <tr>\n",
       "      <th>1545</th>\n",
       "      <td>NaN</td>\n",
       "      <td>NaN</td>\n",
       "      <td>NaN</td>\n",
       "      <td>NaN</td>\n",
       "      <td>NaN</td>\n",
       "      <td>NaN</td>\n",
       "      <td>NaN</td>\n",
       "      <td>NaN</td>\n",
       "      <td>NaN</td>\n",
       "      <td>NaN</td>\n",
       "      <td>...</td>\n",
       "      <td>NaN</td>\n",
       "      <td>NaN</td>\n",
       "      <td>NaN</td>\n",
       "      <td>NaN</td>\n",
       "      <td>NaN</td>\n",
       "      <td>NaN</td>\n",
       "      <td>NaN</td>\n",
       "      <td>NaN</td>\n",
       "      <td>NaN</td>\n",
       "      <td>NaN</td>\n",
       "    </tr>\n",
       "    <tr>\n",
       "      <th>1546</th>\n",
       "      <td>NaN</td>\n",
       "      <td>NaN</td>\n",
       "      <td>NaN</td>\n",
       "      <td>NaN</td>\n",
       "      <td>NaN</td>\n",
       "      <td>NaN</td>\n",
       "      <td>NaN</td>\n",
       "      <td>NaN</td>\n",
       "      <td>NaN</td>\n",
       "      <td>NaN</td>\n",
       "      <td>...</td>\n",
       "      <td>NaN</td>\n",
       "      <td>NaN</td>\n",
       "      <td>NaN</td>\n",
       "      <td>NaN</td>\n",
       "      <td>NaN</td>\n",
       "      <td>NaN</td>\n",
       "      <td>NaN</td>\n",
       "      <td>NaN</td>\n",
       "      <td>NaN</td>\n",
       "      <td>NaN</td>\n",
       "    </tr>\n",
       "    <tr>\n",
       "      <th>1547</th>\n",
       "      <td>NaN</td>\n",
       "      <td>NaN</td>\n",
       "      <td>NaN</td>\n",
       "      <td>NaN</td>\n",
       "      <td>NaN</td>\n",
       "      <td>NaN</td>\n",
       "      <td>NaN</td>\n",
       "      <td>NaN</td>\n",
       "      <td>NaN</td>\n",
       "      <td>NaN</td>\n",
       "      <td>...</td>\n",
       "      <td>NaN</td>\n",
       "      <td>NaN</td>\n",
       "      <td>NaN</td>\n",
       "      <td>NaN</td>\n",
       "      <td>NaN</td>\n",
       "      <td>NaN</td>\n",
       "      <td>NaN</td>\n",
       "      <td>NaN</td>\n",
       "      <td>NaN</td>\n",
       "      <td>NaN</td>\n",
       "    </tr>\n",
       "  </tbody>\n",
       "</table>\n",
       "<p>1548 rows × 128877 columns</p>\n",
       "</div>"
      ],
      "text/plain": [
       "      0       1       2       3       4       5       6       7       8       \\\n",
       "0        NaN     NaN     NaN     NaN     NaN     NaN     NaN     NaN     NaN   \n",
       "1        NaN     NaN     NaN     NaN     NaN     NaN     NaN     NaN     NaN   \n",
       "2        NaN     NaN     NaN     NaN     NaN     NaN     NaN     NaN     NaN   \n",
       "3        NaN     NaN     NaN     NaN     NaN     NaN     NaN     NaN     NaN   \n",
       "4        NaN     NaN     NaN     NaN     NaN     NaN     NaN     NaN     NaN   \n",
       "...      ...     ...     ...     ...     ...     ...     ...     ...     ...   \n",
       "1543     NaN     NaN     NaN     NaN     NaN     NaN     NaN     NaN     NaN   \n",
       "1544     NaN     NaN     NaN     NaN     NaN     NaN     NaN     NaN     NaN   \n",
       "1545     NaN     NaN     NaN     NaN     NaN     NaN     NaN     NaN     NaN   \n",
       "1546     NaN     NaN     NaN     NaN     NaN     NaN     NaN     NaN     NaN   \n",
       "1547     NaN     NaN     NaN     NaN     NaN     NaN     NaN     NaN     NaN   \n",
       "\n",
       "      9       ...  128867  128868  128869  128870  128871  128872  128873  \\\n",
       "0        NaN  ...     NaN     NaN     NaN     NaN     NaN     NaN     NaN   \n",
       "1        NaN  ...     NaN     NaN     NaN     NaN     NaN     NaN     NaN   \n",
       "2        NaN  ...     NaN     NaN     NaN     NaN     NaN     NaN     NaN   \n",
       "3        NaN  ...     NaN     NaN     NaN     NaN     NaN     NaN     NaN   \n",
       "4        NaN  ...     NaN     NaN     NaN     NaN     NaN     NaN     NaN   \n",
       "...      ...  ...     ...     ...     ...     ...     ...     ...     ...   \n",
       "1543     NaN  ...     NaN     NaN     NaN     NaN     NaN     NaN     NaN   \n",
       "1544     NaN  ...     NaN     NaN     NaN     NaN     NaN     NaN     NaN   \n",
       "1545     NaN  ...     NaN     NaN     NaN     NaN     NaN     NaN     NaN   \n",
       "1546     NaN  ...     NaN     NaN     NaN     NaN     NaN     NaN     NaN   \n",
       "1547     NaN  ...     NaN     NaN     NaN     NaN     NaN     NaN     NaN   \n",
       "\n",
       "      128874  128875  128876  \n",
       "0        NaN     NaN     NaN  \n",
       "1        NaN     NaN     NaN  \n",
       "2        NaN     NaN     NaN  \n",
       "3        NaN     NaN     NaN  \n",
       "4        NaN     NaN     NaN  \n",
       "...      ...     ...     ...  \n",
       "1543     NaN     NaN     NaN  \n",
       "1544     NaN     NaN     NaN  \n",
       "1545     NaN     NaN     NaN  \n",
       "1546     NaN     NaN     NaN  \n",
       "1547     NaN     NaN     NaN  \n",
       "\n",
       "[1548 rows x 128877 columns]"
      ]
     },
     "metadata": {},
     "output_type": "display_data"
    }
   ],
   "source": [
    "test_ratings = np.array([[np.nan] * data['item_id'].nunique()] * data['user_id'].nunique(), dtype= 'float32')\n",
    "test_ratings = pd.DataFrame(test_ratings)\n",
    "for i in range(X_test.shape[0]):\n",
    "    rating = X_train.iloc[i]\n",
    "    test_ratings.loc[rating['user_id'], rating['item_id']] = rating['rating']\n",
    "test_ratings"
   ]
  },
  {
   "cell_type": "code",
   "execution_count": null,
   "id": "ecf63efc",
   "metadata": {},
   "outputs": [],
   "source": [
    "# Definimos esta función que usaremos más adelante\n",
    "def to_json(dicc, name, pred= False):\n",
    "    '''Función que sirve para pasar los datos de uno de los diccionarios generados por nuestros\n",
    "    métodos de recomendación a un objeto json.'''\n",
    "\n",
    "    if pred:\n",
    "        new_dicc = {str((k[0], k[1])) : float(dicc[k]) if dicc[k] is not None else None for k in dicc.keys()}\n",
    "    else:\n",
    "        new_dicc = {int(k) : [int(dicc[k][i]) for i in range(len(dicc[k]))] for k in dicc.keys()}\n",
    "    with open(name, 'w', encoding= 'utf-8') as f:\n",
    "        json.dump(new_dicc, f, indent= 4)"
   ]
  },
  {
   "cell_type": "markdown",
   "id": "71334153",
   "metadata": {},
   "source": [
    "#### Posteriormente pasamos a hacer las comprobaciones."
   ]
  },
  {
   "cell_type": "code",
   "execution_count": null,
   "id": "43d8fac7",
   "metadata": {},
   "outputs": [],
   "source": [
    "knn = KNN(ratings.values, test_ratings.values)"
   ]
  },
  {
   "cell_type": "code",
   "execution_count": null,
   "id": "6594be3d",
   "metadata": {},
   "outputs": [
    {
     "name": "stderr",
     "output_type": "stream",
     "text": [
      "100%|██████████| 1188/1188 [00:00<00:00, 4128.17it/s]\n"
     ]
    }
   ],
   "source": [
    "# Miramos las recomendaciones reales que se habrían hecho con los datos de test\n",
    "true_recomendations_test = knn.get_recomendations(users= X_test['user_id'].unique(), test= True, pred= True)\n",
    "to_json(true_recomendations_test, 'true_recomendations_test.json')"
   ]
  },
  {
   "cell_type": "code",
   "execution_count": null,
   "id": "1a005b63",
   "metadata": {},
   "outputs": [
    {
     "name": "stderr",
     "output_type": "stream",
     "text": [
      "100%|██████████| 1188/1188 [14:54<00:00,  1.33it/s]\n"
     ]
    }
   ],
   "source": [
    "recomendations_test_wap_jsmd = knn.get_recomendations(users= X_test['user_id'].unique() ,pred= True)\n",
    "to_json(recomendations_test_wap_jsmd, 'recomendations_test_wap_jsmd.json')\n",
    "to_json(knn.predictions, 'predicciones_test_wap_jsmd.json', pred= True)"
   ]
  },
  {
   "cell_type": "code",
   "execution_count": null,
   "id": "ea4f9f5d",
   "metadata": {},
   "outputs": [
    {
     "name": "stderr",
     "output_type": "stream",
     "text": [
      "100%|██████████| 1188/1188 [13:09<00:00,  1.50it/s]\n"
     ]
    }
   ],
   "source": [
    "recomendations_test_ap_jsmd = knn.get_recomendations(users= X_test['user_id'].unique() ,pred= True, ap= True)\n",
    "to_json(recomendations_test_ap_jsmd, 'recomendations_test_ap_jsmd.json')\n",
    "to_json(knn.predictions, 'predicciones_test_ap_jsmd.json', pred= True)"
   ]
  },
  {
   "cell_type": "code",
   "execution_count": null,
   "id": "f60f14fe",
   "metadata": {},
   "outputs": [
    {
     "name": "stderr",
     "output_type": "stream",
     "text": [
      "100%|██████████| 1188/1188 [18:32<00:00,  1.07it/s]\n"
     ]
    }
   ],
   "source": [
    "recomendations_test_dpmf_jsmd = knn.get_recomendations(users= X_test['user_id'].unique() ,pred= True, dpmf= True)\n",
    "to_json(recomendations_test_dpmf_jsmd, 'recomendations_test_dpmf_jsmd.json')\n",
    "to_json(knn.predictions, 'predicciones_test_dpmf_jsmd.json', pred= True)"
   ]
  },
  {
   "cell_type": "code",
   "execution_count": null,
   "id": "10200eb0",
   "metadata": {},
   "outputs": [
    {
     "name": "stderr",
     "output_type": "stream",
     "text": [
      "100%|██████████| 1188/1188 [07:20<00:00,  2.70it/s]\n"
     ]
    }
   ],
   "source": [
    "recomendations_test_dpmf_corr = knn.get_recomendations(users= X_test['user_id'].unique() ,pred= True, dpmf= True, corr= True)\n",
    "to_json(recomendations_test_dpmf_corr, 'recomendations_test_dpmf_corr.json')\n",
    "to_json(knn.predictions, 'predicciones_test_dpmf_corr.json', pred= True)"
   ]
  },
  {
   "cell_type": "code",
   "execution_count": null,
   "id": "f4f1a719",
   "metadata": {},
   "outputs": [
    {
     "name": "stderr",
     "output_type": "stream",
     "text": [
      "100%|██████████| 1188/1188 [07:09<00:00,  2.77it/s]\n"
     ]
    }
   ],
   "source": [
    "recomendations_test_dpmf_corr = knn.get_recomendations(users= X_test['user_id'].unique() ,pred= True, corr= True)\n",
    "to_json(recomendations_test_dpmf_corr, 'recomendations_test_wap_corr.json')\n",
    "to_json(knn.predictions, 'predicciones_test_wap_corr.json', pred= True)"
   ]
  },
  {
   "cell_type": "code",
   "execution_count": null,
   "id": "334e85b6",
   "metadata": {},
   "outputs": [
    {
     "name": "stderr",
     "output_type": "stream",
     "text": [
      "100%|██████████| 1188/1188 [07:03<00:00,  2.81it/s]\n"
     ]
    }
   ],
   "source": [
    "recomendations_test_dpmf_corr = knn.get_recomendations(users= X_test['user_id'].unique() ,pred= True, ap= True, corr= True)\n",
    "to_json(recomendations_test_dpmf_corr, 'recomendations_test_ap_corr.json')\n",
    "to_json(knn.predictions, 'predicciones_test_ap_corr.json', pred= True)"
   ]
  },
  {
   "cell_type": "markdown",
   "id": "9d575dff",
   "metadata": {},
   "source": [
    "#### Comprobamos con las métricas que tal ha funcionado\n"
   ]
  },
  {
   "cell_type": "code",
   "execution_count": null,
   "id": "dad73ed3",
   "metadata": {},
   "outputs": [],
   "source": [
    "preds = ['predicciones_test_wap_jsmd.json', 'predicciones_test_ap_jsmd.json', 'predicciones_test_dpmf_jsmd.json',\\\n",
    "         'predicciones_test_wap_corr.json', 'predicciones_test_ap_corr.json', 'predicciones_test_dpmf_corr.json']\n",
    "preds_names = ['wap_jsmd', 'ap_jsmd', 'dpmf_jsmd', 'wap_corr', 'ap_corr', 'dpmf_corr']"
   ]
  },
  {
   "cell_type": "code",
   "execution_count": null,
   "id": "2abb8c00",
   "metadata": {},
   "outputs": [
    {
     "name": "stdout",
     "output_type": "stream",
     "text": [
      "wap_jsmd mae: (0.15753424657534246, 73)\n",
      "wap_jsmd rmse: (0.2089041095890411, 73)\n",
      "ap_jsmd mae: (0.15753424657534246, 73)\n",
      "ap_jsmd rmse: (0.2089041095890411, 73)\n",
      "dpmf_jsmd mae: (0.15753424657534246, 73)\n",
      "dpmf_jsmd rmse: (0.2089041095890411, 73)\n",
      "wap_corr mae: (0.15753424657534246, 73)\n",
      "wap_corr rmse: (0.2089041095890411, 73)\n",
      "ap_corr mae: (0.15753424657534246, 73)\n",
      "ap_corr rmse: (0.2089041095890411, 73)\n",
      "dpmf_corr mae: (0.15753424657534246, 73)\n",
      "dpmf_corr rmse: (0.2089041095890411, 73)\n"
     ]
    }
   ],
   "source": [
    "metricas = metrics()\n",
    "for i in range(len(preds)):\n",
    "    with open(preds[i], 'r', encoding='utf-8') as f:\n",
    "        predicciones = json.load(f)\n",
    "        print(f'{preds_names[i]} mae: {metricas.get_mae(predicciones, X_test)}')\n",
    "        print(f'{preds_names[i]} rmse: {metricas.get_rmse(predicciones, X_test)}')"
   ]
  },
  {
   "cell_type": "code",
   "execution_count": null,
   "id": "40c6d0c7",
   "metadata": {},
   "outputs": [],
   "source": [
    "recs = ['recomendations_test_ap_corr.json', 'recomendations_test_ap_jsmd.json', 'recomendations_test_dpmf_corr.json',\\\n",
    "        'recomendations_test_dpmf_jsmd.json', 'recomendations_test_wap_corr.json', 'recomendations_test_wap_jsmd.json']\n",
    "recs_names = ['ap_corr', 'ap_jsmd', 'dpmf_corr', 'dmpf_jsmd', 'wap_corr', 'wap_jsmd']\n",
    "with open('true_recomendations_test.json', 'r', encoding='utf-8') as f:\n",
    "    true_recomendations_test = json.load(f)"
   ]
  },
  {
   "cell_type": "code",
   "execution_count": null,
   "id": "79ceae08",
   "metadata": {},
   "outputs": [
    {
     "name": "stdout",
     "output_type": "stream",
     "text": [
      "ap_corr precisión: 0.05260739719733517\n",
      "ap_corr recall: 0.05260739719733517\n",
      "ap_corr F1: 0.05260739719733517\n",
      "ap_jsmd precisión: 0.05812083620491615\n",
      "ap_jsmd recall: 0.05812083620491615\n",
      "ap_jsmd F1: 0.05812083620491615\n",
      "dpmf_corr precisión: 0.03009418791637951\n",
      "dpmf_corr recall: 0.03009418791637951\n",
      "dpmf_corr F1: 0.03009418791637951\n",
      "dmpf_jsmd precisión: 0.03308063404548587\n",
      "dmpf_jsmd recall: 0.03308063404548587\n",
      "dmpf_jsmd F1: 0.03308063404548587\n",
      "wap_corr precisión: 0.028715828164484265\n",
      "wap_corr recall: 0.028715828164484265\n",
      "wap_corr F1: 0.028715828164484265\n",
      "wap_jsmd precisión: 0.03170227429359063\n",
      "wap_jsmd recall: 0.03170227429359063\n",
      "wap_jsmd F1: 0.03170227429359063\n"
     ]
    }
   ],
   "source": [
    "metricas = metrics()\n",
    "for i in range(len(recs)):\n",
    "    with open(recs[i], 'r', encoding='utf-8') as f:\n",
    "        recomendaciones = json.load(f)\n",
    "        print(f'{recs_names[i]} precisión: {metricas.precision(true_recomendations_test, recomendaciones)}')\n",
    "        print(f'{recs_names[i]} recall: {metricas.recall(true_recomendations_test, recomendaciones)}')\n",
    "        print(f'{recs_names[i]} F1: {metricas.f1(true_recomendations_test, recomendaciones)}')"
   ]
  },
  {
   "cell_type": "markdown",
   "id": "2438f7d0",
   "metadata": {},
   "source": [
    "### A continuación seguimos con la Factorización Matricial."
   ]
  },
  {
   "cell_type": "markdown",
   "id": "f8850585",
   "metadata": {},
   "source": [
    "#### Primero sin bias."
   ]
  },
  {
   "cell_type": "markdown",
   "id": "804d5bdd",
   "metadata": {},
   "source": [
    "Miramos cual es el número de factores latentes que minimiza el mae."
   ]
  },
  {
   "cell_type": "code",
   "execution_count": null,
   "id": "8b68c832",
   "metadata": {},
   "outputs": [
    {
     "name": "stderr",
     "output_type": "stream",
     "text": [
      "100%|██████████| 50/50 [00:43<00:00,  1.15it/s]\n"
     ]
    },
    {
     "name": "stdout",
     "output_type": "stream",
     "text": [
      "(2.166263558909998, 29428)\n"
     ]
    },
    {
     "name": "stderr",
     "output_type": "stream",
     "text": [
      "100%|██████████| 1188/1188 [00:00<00:00, 11358.57it/s]\n",
      "100%|██████████| 50/50 [00:42<00:00,  1.18it/s]\n"
     ]
    },
    {
     "name": "stdout",
     "output_type": "stream",
     "text": [
      "(1.8979841541336786, 29428)\n"
     ]
    },
    {
     "name": "stderr",
     "output_type": "stream",
     "text": [
      "100%|██████████| 1188/1188 [00:00<00:00, 15911.66it/s]\n",
      "100%|██████████| 50/50 [00:42<00:00,  1.19it/s]\n"
     ]
    },
    {
     "name": "stdout",
     "output_type": "stream",
     "text": [
      "(1.7007034539079406, 29428)\n"
     ]
    },
    {
     "name": "stderr",
     "output_type": "stream",
     "text": [
      "100%|██████████| 1188/1188 [00:00<00:00, 17052.29it/s]\n",
      "100%|██████████| 50/50 [00:42<00:00,  1.18it/s]\n"
     ]
    },
    {
     "name": "stdout",
     "output_type": "stream",
     "text": [
      "(1.5400350503445204, 29428)\n"
     ]
    },
    {
     "name": "stderr",
     "output_type": "stream",
     "text": [
      "100%|██████████| 1188/1188 [00:00<00:00, 17970.14it/s]\n",
      "100%|██████████| 50/50 [00:42<00:00,  1.18it/s]\n"
     ]
    },
    {
     "name": "stdout",
     "output_type": "stream",
     "text": [
      "(1.4177467111688584, 29428)\n"
     ]
    },
    {
     "name": "stderr",
     "output_type": "stream",
     "text": [
      "100%|██████████| 1188/1188 [00:00<00:00, 17848.55it/s]\n",
      "100%|██████████| 50/50 [00:42<00:00,  1.17it/s]\n"
     ]
    },
    {
     "name": "stdout",
     "output_type": "stream",
     "text": [
      "(1.326398265115507, 29428)\n"
     ]
    },
    {
     "name": "stderr",
     "output_type": "stream",
     "text": [
      "100%|██████████| 1188/1188 [00:00<00:00, 17999.35it/s]\n",
      "100%|██████████| 50/50 [00:43<00:00,  1.16it/s]\n"
     ]
    },
    {
     "name": "stdout",
     "output_type": "stream",
     "text": [
      "(1.2307443712712, 29428)\n"
     ]
    },
    {
     "name": "stderr",
     "output_type": "stream",
     "text": [
      "100%|██████████| 1188/1188 [00:00<00:00, 15631.24it/s]\n",
      "100%|██████████| 50/50 [00:42<00:00,  1.17it/s]\n"
     ]
    },
    {
     "name": "stdout",
     "output_type": "stream",
     "text": [
      "(1.1658144171851341, 29428)\n"
     ]
    },
    {
     "name": "stderr",
     "output_type": "stream",
     "text": [
      "100%|██████████| 1188/1188 [00:00<00:00, 14745.82it/s]\n",
      "100%|██████████| 50/50 [00:43<00:00,  1.15it/s]\n"
     ]
    },
    {
     "name": "stdout",
     "output_type": "stream",
     "text": [
      "(1.1504126690973435, 29428)\n"
     ]
    },
    {
     "name": "stderr",
     "output_type": "stream",
     "text": [
      "100%|██████████| 1188/1188 [00:00<00:00, 13621.07it/s]\n",
      "100%|██████████| 50/50 [00:44<00:00,  1.13it/s]\n"
     ]
    },
    {
     "name": "stdout",
     "output_type": "stream",
     "text": [
      "(1.0577299806288638, 29428)\n"
     ]
    },
    {
     "name": "stderr",
     "output_type": "stream",
     "text": [
      "100%|██████████| 1188/1188 [00:00<00:00, 16732.03it/s]\n",
      "100%|██████████| 50/50 [00:43<00:00,  1.15it/s]\n"
     ]
    },
    {
     "name": "stdout",
     "output_type": "stream",
     "text": [
      "(1.0096210375502217, 29428)\n"
     ]
    },
    {
     "name": "stderr",
     "output_type": "stream",
     "text": [
      "100%|██████████| 1188/1188 [00:00<00:00, 16730.69it/s]\n",
      "100%|██████████| 50/50 [00:43<00:00,  1.15it/s]\n"
     ]
    },
    {
     "name": "stdout",
     "output_type": "stream",
     "text": [
      "(0.9967964964553184, 29428)\n"
     ]
    },
    {
     "name": "stderr",
     "output_type": "stream",
     "text": [
      "100%|██████████| 1188/1188 [00:00<00:00, 13408.73it/s]\n",
      "100%|██████████| 50/50 [00:43<00:00,  1.15it/s]\n"
     ]
    },
    {
     "name": "stdout",
     "output_type": "stream",
     "text": [
      "(1.0149976127195397, 29428)\n"
     ]
    },
    {
     "name": "stderr",
     "output_type": "stream",
     "text": [
      "100%|██████████| 1188/1188 [00:00<00:00, 16960.70it/s]\n",
      "100%|██████████| 50/50 [00:43<00:00,  1.16it/s]\n"
     ]
    },
    {
     "name": "stdout",
     "output_type": "stream",
     "text": [
      "(1.0734932813681035, 29428)\n"
     ]
    },
    {
     "name": "stderr",
     "output_type": "stream",
     "text": [
      "100%|██████████| 1188/1188 [00:00<00:00, 14877.77it/s]\n",
      "100%|██████████| 50/50 [00:43<00:00,  1.15it/s]\n"
     ]
    },
    {
     "name": "stdout",
     "output_type": "stream",
     "text": [
      "(1.1752729477372452, 29428)\n"
     ]
    },
    {
     "name": "stderr",
     "output_type": "stream",
     "text": [
      "100%|██████████| 1188/1188 [00:00<00:00, 14486.24it/s]\n",
      "100%|██████████| 50/50 [00:43<00:00,  1.14it/s]\n"
     ]
    },
    {
     "name": "stdout",
     "output_type": "stream",
     "text": [
      "(1.298584009253579, 29428)\n"
     ]
    },
    {
     "name": "stderr",
     "output_type": "stream",
     "text": [
      "100%|██████████| 1188/1188 [00:00<00:00, 14842.80it/s]\n",
      "100%|██████████| 50/50 [00:43<00:00,  1.15it/s]\n"
     ]
    },
    {
     "name": "stdout",
     "output_type": "stream",
     "text": [
      "(1.518356643685241, 29428)\n"
     ]
    },
    {
     "name": "stderr",
     "output_type": "stream",
     "text": [
      "100%|██████████| 1188/1188 [00:00<00:00, 15976.76it/s]\n"
     ]
    }
   ],
   "source": [
    "Num_factors = np.arange(3,20)\n",
    "metricas = metrics()\n",
    "mae = []\n",
    "f1 = []\n",
    "for nf in Num_factors:\n",
    "    \n",
    "    MF = Matrix_factorization(ratings.values, test_ratings.values, nf, 0.0001, 0.2)\n",
    "    MF.train(50)\n",
    "\n",
    "    # Calculamos las predicciones\n",
    "    predictions = {}\n",
    "    for i in range(X_test.shape[0]):\n",
    "        linea = X_test.iloc[i]\n",
    "        predictions[f'({int(linea[\"user_id\"])}, {int(linea[\"item_id\"])})'] = MF.compute_prediction(int(linea[\"user_id\"]), int(linea[\"item_id\"]))\n",
    "\n",
    "    # Calculamos el mae y lo añadimos a la lista\n",
    "    mae.append(metricas.get_mae(predictions, X_test)[0])\n",
    "    print(metricas.get_mae(predictions, X_test))\n",
    "\n",
    "    # Calculamos las recomendaciones\n",
    "    mf_recomendations = MF.get_recommendations(N= 5, pred= True, users= X_test['user_id'].unique())\n",
    "\n",
    "    # Calcualmos el f1\n",
    "    f1.append(metricas.f1(true_recomendations_test, mf_recomendations))\n"
   ]
  },
  {
   "cell_type": "markdown",
   "id": "6a48342c",
   "metadata": {},
   "source": [
    "Graficamos el MAE y el F1 con respecto al número de factores latentes."
   ]
  },
  {
   "cell_type": "code",
   "execution_count": null,
   "id": "f63d97ed",
   "metadata": {},
   "outputs": [
    {
     "data": {
      "image/png": "[encoded data removed]",
      "text/plain": [
       "<Figure size 800x500 with 1 Axes>"
      ]
     },
     "metadata": {},
     "output_type": "display_data"
    }
   ],
   "source": [
    "plt.figure(figsize=(8, 5))\n",
    "plt.plot(Num_factors, mae, label='MAE')\n",
    "plt.plot(Num_factors, f1, label='F1')\n",
    "\n",
    "plt.xticks(Num_factors)\n",
    "plt.legend()\n",
    "plt.grid(True)\n",
    "\n",
    "plt.show()"
   ]
  },
  {
   "cell_type": "code",
   "execution_count": null,
   "id": "4deab97b",
   "metadata": {},
   "outputs": [
    {
     "name": "stdout",
     "output_type": "stream",
     "text": [
      "El mejor número de factores latentes es 14\n"
     ]
    }
   ],
   "source": [
    "print(f'El mejor número de factores latentes es {Num_factors[mae.index(min(mae))]}')"
   ]
  },
  {
   "cell_type": "markdown",
   "id": "3de20f44",
   "metadata": {},
   "source": [
    "Una vez que tenemos el mejor número de factores latentes miramos más métricas a parte del MAE y del F1."
   ]
  },
  {
   "cell_type": "code",
   "execution_count": null,
   "id": "7fdc058b",
   "metadata": {},
   "outputs": [],
   "source": [
    "MF = Matrix_factorization(ratings.values, test_ratings.values, 14, 0.0001, 0.2)"
   ]
  },
  {
   "cell_type": "code",
   "execution_count": null,
   "id": "9bbce863",
   "metadata": {},
   "outputs": [
    {
     "name": "stderr",
     "output_type": "stream",
     "text": [
      "100%|██████████| 50/50 [02:46<00:00,  3.34s/it]\n"
     ]
    }
   ],
   "source": [
    "MF.train(50)"
   ]
  },
  {
   "cell_type": "code",
   "execution_count": null,
   "id": "76787f7f",
   "metadata": {},
   "outputs": [],
   "source": [
    "predictions = {}\n",
    "for i in range(X_test.shape[0]):\n",
    "    linea = X_test.iloc[i]\n",
    "    predictions[f'({int(linea[\"user_id\"])}, {int(linea[\"item_id\"])})'] = MF.compute_prediction(int(linea[\"user_id\"]), int(linea[\"item_id\"]))\n",
    "#to_json(predictions, 'predicciones_test_MF.json', pred= True)"
   ]
  },
  {
   "cell_type": "code",
   "execution_count": null,
   "id": "6c5c33f2",
   "metadata": {},
   "outputs": [],
   "source": [
    "metricas = metrics()"
   ]
  },
  {
   "cell_type": "code",
   "execution_count": null,
   "id": "d155f07d",
   "metadata": {},
   "outputs": [
    {
     "name": "stdout",
     "output_type": "stream",
     "text": [
      "MAE: (0.9943176083093934, 29428)\n",
      "RMSE: (1.6453485696725536, 29428)\n"
     ]
    }
   ],
   "source": [
    "print(f'MAE: {metricas.get_mae(predictions, X_test)}')\n",
    "print(f'RMSE: {metricas.get_rmse(predictions, X_test)}')"
   ]
  },
  {
   "cell_type": "code",
   "execution_count": null,
   "id": "8314e97f",
   "metadata": {},
   "outputs": [],
   "source": [
    "mf_recomendations = MF.get_recommendations(N= 5, pred= True, users= X_test['user_id'].unique())\n",
    "to_json(mf_recomendations, 'recomendations_test_mf.json')"
   ]
  },
  {
   "cell_type": "code",
   "execution_count": null,
   "id": "c6b36825",
   "metadata": {},
   "outputs": [
    {
     "name": "stdout",
     "output_type": "stream",
     "text": [
      "Precisión: 0.1438\n",
      "Recall: 0.1438\n",
      "F1: 0.1438\n"
     ]
    }
   ],
   "source": [
    "print(f'Precisión: {metricas.precision(true_recomendations_test, mf_recomendations)}')\n",
    "print(f'Recall: {metricas.recall(true_recomendations_test, mf_recomendations)}')\n",
    "print(f'F1: {metricas.f1(true_recomendations_test, mf_recomendations)}')"
   ]
  },
  {
   "cell_type": "markdown",
   "id": "76e8d0ab",
   "metadata": {},
   "source": [
    "#### A continuación probamos con los bias."
   ]
  },
  {
   "cell_type": "markdown",
   "id": "292c03e0",
   "metadata": {},
   "source": [
    "Miramos cual es el número de factores latentes que minimiza el mae."
   ]
  },
  {
   "cell_type": "code",
   "execution_count": null,
   "id": "8e01f803",
   "metadata": {},
   "outputs": [
    {
     "name": "stderr",
     "output_type": "stream",
     "text": [
      "100%|██████████| 50/50 [00:51<00:00,  1.03s/it]\n"
     ]
    },
    {
     "name": "stdout",
     "output_type": "stream",
     "text": [
      "(0.6942332484294026, 29428)\n"
     ]
    },
    {
     "name": "stderr",
     "output_type": "stream",
     "text": [
      "100%|██████████| 1188/1188 [00:00<00:00, 11396.76it/s]\n",
      "100%|██████████| 50/50 [00:51<00:00,  1.02s/it]\n"
     ]
    },
    {
     "name": "stdout",
     "output_type": "stream",
     "text": [
      "(0.7153431405817786, 29428)\n"
     ]
    },
    {
     "name": "stderr",
     "output_type": "stream",
     "text": [
      "100%|██████████| 1188/1188 [00:00<00:00, 11476.85it/s]\n",
      "100%|██████████| 50/50 [00:49<00:00,  1.00it/s]\n"
     ]
    },
    {
     "name": "stdout",
     "output_type": "stream",
     "text": [
      "(0.7346736177414935, 29428)\n"
     ]
    },
    {
     "name": "stderr",
     "output_type": "stream",
     "text": [
      "100%|██████████| 1188/1188 [00:00<00:00, 10312.13it/s]\n",
      "100%|██████████| 50/50 [00:50<00:00,  1.01s/it]\n"
     ]
    },
    {
     "name": "stdout",
     "output_type": "stream",
     "text": [
      "(0.7529089113831074, 29428)\n"
     ]
    },
    {
     "name": "stderr",
     "output_type": "stream",
     "text": [
      "100%|██████████| 1188/1188 [00:00<00:00, 9691.10it/s]\n",
      "100%|██████████| 50/50 [00:50<00:00,  1.01s/it]\n"
     ]
    },
    {
     "name": "stdout",
     "output_type": "stream",
     "text": [
      "(0.763132039651995, 29428)\n"
     ]
    },
    {
     "name": "stderr",
     "output_type": "stream",
     "text": [
      "100%|██████████| 1188/1188 [00:00<00:00, 9851.82it/s]\n",
      "100%|██████████| 50/50 [00:50<00:00,  1.01s/it]\n"
     ]
    },
    {
     "name": "stdout",
     "output_type": "stream",
     "text": [
      "(0.7995499912014642, 29428)\n"
     ]
    },
    {
     "name": "stderr",
     "output_type": "stream",
     "text": [
      "100%|██████████| 1188/1188 [00:00<00:00, 10279.27it/s]\n",
      "100%|██████████| 50/50 [00:50<00:00,  1.01s/it]\n"
     ]
    },
    {
     "name": "stdout",
     "output_type": "stream",
     "text": [
      "(0.8017367475983365, 29428)\n"
     ]
    },
    {
     "name": "stderr",
     "output_type": "stream",
     "text": [
      "100%|██████████| 1188/1188 [00:00<00:00, 14907.37it/s]\n",
      "100%|██████████| 50/50 [00:49<00:00,  1.01it/s]\n"
     ]
    },
    {
     "name": "stdout",
     "output_type": "stream",
     "text": [
      "(0.8160651033109203, 29428)\n"
     ]
    },
    {
     "name": "stderr",
     "output_type": "stream",
     "text": [
      "100%|██████████| 1188/1188 [00:00<00:00, 15125.99it/s]\n",
      "100%|██████████| 50/50 [00:49<00:00,  1.01it/s]\n"
     ]
    },
    {
     "name": "stdout",
     "output_type": "stream",
     "text": [
      "(0.8315196571030927, 29428)\n"
     ]
    },
    {
     "name": "stderr",
     "output_type": "stream",
     "text": [
      "100%|██████████| 1188/1188 [00:00<00:00, 14288.92it/s]\n",
      "100%|██████████| 50/50 [00:49<00:00,  1.00it/s]\n"
     ]
    },
    {
     "name": "stdout",
     "output_type": "stream",
     "text": [
      "(0.8430446059097838, 29428)\n"
     ]
    },
    {
     "name": "stderr",
     "output_type": "stream",
     "text": [
      "100%|██████████| 1188/1188 [00:00<00:00, 10503.07it/s]\n",
      "100%|██████████| 50/50 [00:49<00:00,  1.00it/s]\n"
     ]
    },
    {
     "name": "stdout",
     "output_type": "stream",
     "text": [
      "(0.8541130868240112, 29428)\n"
     ]
    },
    {
     "name": "stderr",
     "output_type": "stream",
     "text": [
      "100%|██████████| 1188/1188 [00:00<00:00, 14034.73it/s]\n",
      "100%|██████████| 50/50 [00:50<00:00,  1.00s/it]\n"
     ]
    },
    {
     "name": "stdout",
     "output_type": "stream",
     "text": [
      "(0.8755324935331144, 29428)\n"
     ]
    },
    {
     "name": "stderr",
     "output_type": "stream",
     "text": [
      "100%|██████████| 1188/1188 [00:00<00:00, 14046.16it/s]\n"
     ]
    }
   ],
   "source": [
    "Num_factors = np.arange(3,15)\n",
    "metricas = metrics()\n",
    "mae = []\n",
    "f1 = []\n",
    "for nf in Num_factors:\n",
    "    \n",
    "    MFb = Matrix_factorization_bias(ratings.values, test_ratings.values, nf, 0.0001, 0.2)\n",
    "    MFb.train(50)\n",
    "\n",
    "    # Calculamos las predicciones\n",
    "    predictions = {}\n",
    "    for i in range(X_test.shape[0]):\n",
    "        linea = X_test.iloc[i]\n",
    "        predictions[f'({int(linea[\"user_id\"])}, {int(linea[\"item_id\"])})'] = MFb.compute_prediction(int(linea[\"user_id\"]), int(linea[\"item_id\"]))\n",
    "\n",
    "    # Calculamos el mae y lo añadimos a la lista\n",
    "    mae.append(metricas.get_mae(predictions, X_test)[0])\n",
    "    print(metricas.get_mae(predictions, X_test))\n",
    "\n",
    "    # Calculamos las recomendaciones\n",
    "    mf_recomendations = MFb.get_recommendations(N= 5, pred= True, users= X_test['user_id'].unique())\n",
    "\n",
    "    # Calcualmos el f1\n",
    "    f1.append(metricas.f1(true_recomendations_test, mf_recomendations))\n"
   ]
  },
  {
   "cell_type": "markdown",
   "id": "a51496cf",
   "metadata": {},
   "source": [
    "Graficamos el MAE y el F1 con respecto al número de factores latentes."
   ]
  },
  {
   "cell_type": "code",
   "execution_count": null,
   "id": "7b458fc7",
   "metadata": {},
   "outputs": [
    {
     "data": {
      "image/png": "[encoded data removed]",
      "text/plain": [
       "<Figure size 800x500 with 1 Axes>"
      ]
     },
     "metadata": {},
     "output_type": "display_data"
    }
   ],
   "source": [
    "plt.figure(figsize=(8, 5))\n",
    "plt.plot(Num_factors, mae, label='MAE')\n",
    "plt.plot(Num_factors, f1, label='F1')\n",
    "\n",
    "plt.xticks(Num_factors)\n",
    "plt.legend()\n",
    "plt.grid(True)\n",
    "\n",
    "plt.show()"
   ]
  },
  {
   "cell_type": "code",
   "execution_count": null,
   "id": "7ca252e8",
   "metadata": {},
   "outputs": [
    {
     "name": "stdout",
     "output_type": "stream",
     "text": [
      "El mejor número de factores latentes es 3\n"
     ]
    }
   ],
   "source": [
    "print(f'El mejor número de factores latentes es {Num_factors[mae.index(min(mae))]}')"
   ]
  },
  {
   "cell_type": "markdown",
   "id": "e2b70a48",
   "metadata": {},
   "source": [
    "Una vez que tenemos el mejor número de factores latentes miramos más métricas a parte del MAE y del F1."
   ]
  },
  {
   "cell_type": "code",
   "execution_count": null,
   "id": "ca4d0c9a",
   "metadata": {},
   "outputs": [],
   "source": [
    "MFb = Matrix_factorization_bias(ratings.values, test_ratings.values, 3, 0.0001, 0.2) # 4, 0.0001, 0.2"
   ]
  },
  {
   "cell_type": "code",
   "execution_count": null,
   "id": "9c5565ff",
   "metadata": {},
   "outputs": [
    {
     "name": "stderr",
     "output_type": "stream",
     "text": [
      "100%|██████████| 50/50 [00:58<00:00,  1.18s/it]\n"
     ]
    }
   ],
   "source": [
    "MFb.train(50)"
   ]
  },
  {
   "cell_type": "code",
   "execution_count": null,
   "id": "2dcac30a",
   "metadata": {},
   "outputs": [],
   "source": [
    "predictions = {}\n",
    "for i in range(X_test.shape[0]):\n",
    "    linea = X_test.iloc[i]\n",
    "    predictions[f'({int(linea[\"user_id\"])}, {int(linea[\"item_id\"])})'] = MFb.compute_prediction(int(linea[\"user_id\"]), int(linea[\"item_id\"]))\n",
    "#to_json(predictions, 'predicciones_test_MF.json', pred= True)"
   ]
  },
  {
   "cell_type": "code",
   "execution_count": null,
   "id": "f704b327",
   "metadata": {},
   "outputs": [],
   "source": [
    "metricas = metrics()"
   ]
  },
  {
   "cell_type": "code",
   "execution_count": null,
   "id": "aa0a1c69",
   "metadata": {},
   "outputs": [
    {
     "name": "stdout",
     "output_type": "stream",
     "text": [
      "MAE: (0.6395220241808965, 29428)\n",
      "RMSE: (1.1858256219112409, 29428)\n"
     ]
    }
   ],
   "source": [
    "print(f'MAE: {metricas.get_mae(predictions, X_test)}')\n",
    "print(f'RMSE: {metricas.get_rmse(predictions, X_test)}')"
   ]
  },
  {
   "cell_type": "code",
   "execution_count": null,
   "id": "b0682d53",
   "metadata": {},
   "outputs": [
    {
     "name": "stderr",
     "output_type": "stream",
     "text": [
      "100%|██████████| 1188/1188 [00:00<00:00, 14039.95it/s]\n"
     ]
    }
   ],
   "source": [
    "mfb_recomendations = MFb.get_recommendations(N= 5, pred= True, users= X_test['user_id'].unique())\n",
    "#to_json(mfb_recomendations, 'recomendations_test_mfb.json')"
   ]
  },
  {
   "cell_type": "code",
   "execution_count": null,
   "id": "70f870fb",
   "metadata": {},
   "outputs": [
    {
     "name": "stdout",
     "output_type": "stream",
     "text": [
      "Precisión: 0.1406\n",
      "Recall: 0.1406\n",
      "F1: 0.1406\n"
     ]
    }
   ],
   "source": [
    "print(f'Precisión: {metricas.precision(true_recomendations_test, mfb_recomendations)}')\n",
    "print(f'Recall: {metricas.recall(true_recomendations_test, mfb_recomendations)}')\n",
    "print(f'F1: {metricas.f1(true_recomendations_test, mfb_recomendations)}')"
   ]
  },
  {
   "cell_type": "markdown",
   "id": "227845f6",
   "metadata": {},
   "source": [
    "## Bernouilli Matrix Factorization"
   ]
  },
  {
   "cell_type": "markdown",
   "id": "d6850f1b",
   "metadata": {},
   "source": [
    "Dado que este método requiere una mayor potencia computacional que los anteriores, vamos a reducir el dataset para facilitar los cálculos."
   ]
  },
  {
   "cell_type": "code",
   "execution_count": null,
   "id": "cbf02ca0",
   "metadata": {},
   "outputs": [
    {
     "data": {
      "text/html": [
       "<div>\n",
       "<style scoped>\n",
       "    .dataframe tbody tr th:only-of-type {\n",
       "        vertical-align: middle;\n",
       "    }\n",
       "\n",
       "    .dataframe tbody tr th {\n",
       "        vertical-align: top;\n",
       "    }\n",
       "\n",
       "    .dataframe thead th {\n",
       "        text-align: right;\n",
       "    }\n",
       "</style>\n",
       "<table border=\"1\" class=\"dataframe\">\n",
       "  <thead>\n",
       "    <tr style=\"text-align: right;\">\n",
       "      <th></th>\n",
       "      <th>user_id</th>\n",
       "      <th>item_id</th>\n",
       "      <th>rating</th>\n",
       "      <th>timestamp</th>\n",
       "    </tr>\n",
       "  </thead>\n",
       "  <tbody>\n",
       "    <tr>\n",
       "      <th>0</th>\n",
       "      <td>0</td>\n",
       "      <td>107972</td>\n",
       "      <td>5.0</td>\n",
       "      <td>1421280000</td>\n",
       "    </tr>\n",
       "    <tr>\n",
       "      <th>1</th>\n",
       "      <td>0</td>\n",
       "      <td>97552</td>\n",
       "      <td>5.0</td>\n",
       "      <td>1390262400</td>\n",
       "    </tr>\n",
       "    <tr>\n",
       "      <th>2</th>\n",
       "      <td>0</td>\n",
       "      <td>44777</td>\n",
       "      <td>4.0</td>\n",
       "      <td>1449360000</td>\n",
       "    </tr>\n",
       "    <tr>\n",
       "      <th>3</th>\n",
       "      <td>0</td>\n",
       "      <td>122339</td>\n",
       "      <td>5.0</td>\n",
       "      <td>1485216000</td>\n",
       "    </tr>\n",
       "    <tr>\n",
       "      <th>4</th>\n",
       "      <td>1</td>\n",
       "      <td>26825</td>\n",
       "      <td>5.0</td>\n",
       "      <td>1289865600</td>\n",
       "    </tr>\n",
       "    <tr>\n",
       "      <th>...</th>\n",
       "      <td>...</td>\n",
       "      <td>...</td>\n",
       "      <td>...</td>\n",
       "      <td>...</td>\n",
       "    </tr>\n",
       "    <tr>\n",
       "      <th>147131</th>\n",
       "      <td>1547</td>\n",
       "      <td>26621</td>\n",
       "      <td>5.0</td>\n",
       "      <td>1473465600</td>\n",
       "    </tr>\n",
       "    <tr>\n",
       "      <th>147132</th>\n",
       "      <td>1547</td>\n",
       "      <td>54943</td>\n",
       "      <td>5.0</td>\n",
       "      <td>1473811200</td>\n",
       "    </tr>\n",
       "    <tr>\n",
       "      <th>147133</th>\n",
       "      <td>1547</td>\n",
       "      <td>39991</td>\n",
       "      <td>5.0</td>\n",
       "      <td>1474416000</td>\n",
       "    </tr>\n",
       "    <tr>\n",
       "      <th>147134</th>\n",
       "      <td>1547</td>\n",
       "      <td>113315</td>\n",
       "      <td>5.0</td>\n",
       "      <td>1533254400</td>\n",
       "    </tr>\n",
       "    <tr>\n",
       "      <th>147135</th>\n",
       "      <td>1547</td>\n",
       "      <td>7729</td>\n",
       "      <td>5.0</td>\n",
       "      <td>1533340800</td>\n",
       "    </tr>\n",
       "  </tbody>\n",
       "</table>\n",
       "<p>147136 rows × 4 columns</p>\n",
       "</div>"
      ],
      "text/plain": [
       "        user_id  item_id  rating   timestamp\n",
       "0             0   107972     5.0  1421280000\n",
       "1             0    97552     5.0  1390262400\n",
       "2             0    44777     4.0  1449360000\n",
       "3             0   122339     5.0  1485216000\n",
       "4             1    26825     5.0  1289865600\n",
       "...         ...      ...     ...         ...\n",
       "147131     1547    26621     5.0  1473465600\n",
       "147132     1547    54943     5.0  1473811200\n",
       "147133     1547    39991     5.0  1474416000\n",
       "147134     1547   113315     5.0  1533254400\n",
       "147135     1547     7729     5.0  1533340800\n",
       "\n",
       "[147136 rows x 4 columns]"
      ]
     },
     "metadata": {},
     "output_type": "display_data"
    }
   ],
   "source": [
    "# Cargamos el dataset\n",
    "data = pd.read_csv('ratings_bien.csv', engine= 'python')\n",
    "data.sort_values(by=('user_id'), inplace= True)\n",
    "data.reset_index(inplace= True, drop= True)\n",
    "data"
   ]
  },
  {
   "cell_type": "code",
   "execution_count": null,
   "id": "1d9db874",
   "metadata": {},
   "outputs": [
    {
     "name": "stderr",
     "output_type": "stream",
     "text": [
      "C:\\Users\\jcarr\\AppData\\Local\\Temp\\ipykernel_13556\\2813850836.py:9: SettingWithCopyWarning: \n",
      "A value is trying to be set on a copy of a slice from a DataFrame.\n",
      "Try using .loc[row_indexer,col_indexer] = value instead\n",
      "\n",
      "See the caveats in the documentation: https://pandas.pydata.org/pandas-docs/stable/user_guide/indexing.html#returning-a-view-versus-a-copy\n",
      "  data['user_id'] = data['user_id'].map(user_map)\n",
      "C:\\Users\\jcarr\\AppData\\Local\\Temp\\ipykernel_13556\\2813850836.py:10: SettingWithCopyWarning: \n",
      "A value is trying to be set on a copy of a slice from a DataFrame.\n",
      "Try using .loc[row_indexer,col_indexer] = value instead\n",
      "\n",
      "See the caveats in the documentation: https://pandas.pydata.org/pandas-docs/stable/user_guide/indexing.html#returning-a-view-versus-a-copy\n",
      "  data['item_id'] = data['item_id'].map(item_map)\n"
     ]
    }
   ],
   "source": [
    "# Usamos la mitad de las votaciones del dataset\n",
    "data = data.iloc[:(len(data) // 2)]\n",
    "\n",
    "# Mapeamos los ids de usuarios e ítems para que vayan de 0 a N - 1\n",
    "user_map = {old: new for new, old in enumerate(data['user_id'].unique())}\n",
    "item_map = {old: new for new, old in enumerate(data['item_id'].unique())}\n",
    "\n",
    "# Aplicar el mapeo\n",
    "data['user_id'] = data['user_id'].map(user_map)\n",
    "data['item_id'] = data['item_id'].map(item_map)"
   ]
  },
  {
   "cell_type": "code",
   "execution_count": null,
   "id": "17638929",
   "metadata": {},
   "outputs": [],
   "source": [
    "NUM_USERS = data['user_id'].nunique()\n",
    "NUM_ITEMS = data['item_id'].nunique()\n",
    "NUM_RATINGS = len(data)\n",
    "\n",
    "MIN_RATING = data.rating.min()\n",
    "MAX_RATING = data.rating.max()"
   ]
  },
  {
   "cell_type": "markdown",
   "id": "ffdd3211",
   "metadata": {},
   "source": [
    "Ahora vamos a dividir el dataset en dos matrices de votaciones y votaciones de test."
   ]
  },
  {
   "cell_type": "code",
   "execution_count": null,
   "id": "1bfb5b5b",
   "metadata": {},
   "outputs": [],
   "source": [
    "# Dividimos en 80% para entrenamiento, 20% para test\n",
    "X_train = data.sample(int(0.8 * data.shape[0]), random_state= 42)\n",
    "X_test = data.loc[np.setdiff1d(data.index, X_train.index), :]\n"
   ]
  },
  {
   "cell_type": "code",
   "execution_count": null,
   "id": "f8965ebd",
   "metadata": {},
   "outputs": [],
   "source": [
    "ratings = [[None for _ in range(NUM_ITEMS)] for _ in range(NUM_USERS)]\n",
    "\n",
    "for idx, row in X_train.iterrows():\n",
    "    u, i, rating = row['user_id'], row['item_id'], row['rating']\n",
    "    ratings[int(u)][int(i)] = int(rating)"
   ]
  },
  {
   "cell_type": "code",
   "execution_count": null,
   "id": "db7fbb79",
   "metadata": {},
   "outputs": [],
   "source": [
    "test_ratings = [[None for _ in range(NUM_ITEMS)] for _ in range(NUM_USERS)]\n",
    "\n",
    "for idx, row in X_test.iterrows():\n",
    "    u, i, rating = row['user_id'], row['item_id'], row['rating']\n",
    "    test_ratings[int(u)][int(i)] = int(rating)"
   ]
  },
  {
   "cell_type": "markdown",
   "id": "01bd35b3",
   "metadata": {},
   "source": [
    "Una vez divido el dataset en entrenamiento y test, vamos a pasar a probar los diferentes métodos:"
   ]
  },
  {
   "cell_type": "code",
   "execution_count": null,
   "id": "77fd0ba5",
   "metadata": {},
   "outputs": [],
   "source": [
    "N = 5"
   ]
  },
  {
   "cell_type": "code",
   "execution_count": null,
   "id": "085bbe51",
   "metadata": {},
   "outputs": [],
   "source": [
    "def get_recommendations (predictions):\n",
    "  recommendations = [None for _ in range(N)]\n",
    "\n",
    "  for n in range(N):\n",
    "\n",
    "    max_value = 0\n",
    "    item = None\n",
    "\n",
    "    for i, value in enumerate(predictions):\n",
    "      if i not in recommendations and value != None and value > max_value:\n",
    "        max_value = value\n",
    "        item = i\n",
    "\n",
    "    recommendations[n] = item\n",
    "\n",
    "  return recommendations"
   ]
  },
  {
   "cell_type": "code",
   "execution_count": null,
   "id": "74e842ba",
   "metadata": {},
   "outputs": [],
   "source": [
    "def get_user_mae (u, predictions):\n",
    "  mae = 0\n",
    "  count = 0\n",
    "\n",
    "  for i in range(NUM_ITEMS):\n",
    "    if test_ratings[u][i] != None and predictions[u][i] != None:\n",
    "      mae += abs(test_ratings[u][i] - predictions[u][i])\n",
    "      count += 1\n",
    "\n",
    "  if count > 0:\n",
    "    return mae / count\n",
    "  else:\n",
    "    return None\n",
    "\n",
    "\n",
    "def get_mae (predictions):\n",
    "  mae = 0\n",
    "  count = 0\n",
    "\n",
    "  for u in range(NUM_USERS):\n",
    "    user_mae = get_user_mae(u, predictions)\n",
    "\n",
    "    if user_mae != None:\n",
    "      mae += user_mae\n",
    "      count += 1\n",
    "\n",
    "  if count > 0:\n",
    "    return mae / count\n",
    "  else:\n",
    "    return None"
   ]
  },
  {
   "cell_type": "code",
   "execution_count": null,
   "id": "deb11085",
   "metadata": {},
   "outputs": [],
   "source": [
    "def get_user_rmse (u, predictions):\n",
    "  mse = 0\n",
    "  count = 0\n",
    "\n",
    "  for i in range(NUM_ITEMS):\n",
    "    if test_ratings[u][i] != None and predictions[u][i] != None:\n",
    "      mse += (test_ratings[u][i] - predictions[u][i]) * (test_ratings[u][i] - predictions[u][i])\n",
    "      count += 1\n",
    "\n",
    "  if count > 0:\n",
    "    return math.sqrt(mse / count)\n",
    "  else:\n",
    "    return None\n",
    "  \n",
    "\n",
    "def get_rmse (predictions):\n",
    "  rmse = 0\n",
    "  count = 0\n",
    "\n",
    "  for u in range(NUM_USERS):\n",
    "    user_rmse = get_user_rmse(u, predictions)\n",
    "\n",
    "    if user_rmse != None:\n",
    "      rmse += user_rmse\n",
    "      count += 1\n",
    "\n",
    "\n",
    "  if count > 0:\n",
    "    return rmse / count\n",
    "  else:\n",
    "    return None"
   ]
  },
  {
   "cell_type": "code",
   "execution_count": null,
   "id": "d08e454c",
   "metadata": {},
   "outputs": [],
   "source": [
    "theta = 4"
   ]
  },
  {
   "cell_type": "code",
   "execution_count": null,
   "id": "f7caaff9",
   "metadata": {},
   "outputs": [],
   "source": [
    "def get_user_precision (u, predictions):\n",
    "  precision = 0\n",
    "  count = 0\n",
    "  recommendations = get_recommendations(predictions[u])\n",
    "\n",
    "  for i in recommendations:\n",
    "    if i != None and test_ratings[u][i] != None:\n",
    "      precision += 1 if test_ratings[u][i] >= theta else 0\n",
    "      count += 1\n",
    "\n",
    "  if count > 0:\n",
    "    return precision / count\n",
    "  else:\n",
    "    return None\n",
    "\n",
    "\n",
    "def get_precision (predictions):\n",
    "  precision = 0\n",
    "  count = 0\n",
    "\n",
    "  for u in range(NUM_USERS):\n",
    "    user_precision = get_user_precision(u, predictions)\n",
    "\n",
    "    if user_precision != None:\n",
    "      precision += user_precision\n",
    "      count += 1\n",
    "\n",
    "\n",
    "  if count > 0:\n",
    "    return precision / count\n",
    "  else:\n",
    "    return None"
   ]
  },
  {
   "cell_type": "code",
   "execution_count": null,
   "id": "b5d37a51",
   "metadata": {},
   "outputs": [],
   "source": [
    "def get_user_recall (u, predictions):\n",
    "  recall = 0\n",
    "  count = 0\n",
    "  recommendations = get_recommendations(predictions[u])\n",
    "\n",
    "  for i in range(NUM_ITEMS):\n",
    "    if test_ratings[u][i] != None and predictions[u][i] != None:\n",
    "      if test_ratings[u][i] >= theta:\n",
    "        recall += 1 if i in recommendations else 0\n",
    "        count += 1\n",
    "\n",
    "  if count > 0:\n",
    "    return recall / count\n",
    "  else:\n",
    "    return None\n",
    "\n",
    "\n",
    "def get_recall (predictions):\n",
    "  recall = 0\n",
    "  count = 0\n",
    "\n",
    "  for u in range(NUM_USERS):\n",
    "    user_recall = get_user_recall(u, predictions)\n",
    "\n",
    "    if user_recall != None:\n",
    "      recall += user_recall\n",
    "      count += 1\n",
    "\n",
    "\n",
    "  if count > 0:\n",
    "    return recall / count\n",
    "  else:\n",
    "    return None"
   ]
  },
  {
   "cell_type": "code",
   "execution_count": null,
   "id": "4dfae151",
   "metadata": {},
   "outputs": [],
   "source": [
    "def get_user_f1 (u, predictions):\n",
    "  precision = get_user_precision(u, predictions)\n",
    "  recall = get_user_recall(u, predictions)\n",
    "\n",
    "  if precision == None or recall == None:\n",
    "    return None\n",
    "  elif precision == 0 and recall == 0:\n",
    "    return 0\n",
    "  else:\n",
    "    return 2 * precision * recall / (precision + recall)\n",
    "\n",
    "\n",
    "def get_f1 (predictions):\n",
    "  f1 = 0\n",
    "  count = 0\n",
    "\n",
    "  for u in range(NUM_USERS):\n",
    "    user_f1 = get_user_f1(u, predictions)\n",
    "\n",
    "    if user_f1 != None:\n",
    "      f1 += user_f1\n",
    "      count += 1\n",
    "\n",
    "\n",
    "  if count > 0:\n",
    "    return f1 / count\n",
    "  else:\n",
    "    return None"
   ]
  },
  {
   "cell_type": "code",
   "execution_count": null,
   "id": "60e92566",
   "metadata": {},
   "outputs": [],
   "source": [
    "def get_ordered_test_items(u):\n",
    "    scores = [r if r is not None else float('-inf') for r in test_ratings[u]]\n",
    "    items = np.argsort(scores)[::-1]\n",
    "    return [i for i in items if scores[i] != float('-inf')]"
   ]
  },
  {
   "cell_type": "code",
   "execution_count": null,
   "id": "dab3ec2f",
   "metadata": {},
   "outputs": [],
   "source": [
    "def get_user_idcg (u):\n",
    "  items = get_ordered_test_items(u)\n",
    "  idcg = 0\n",
    "\n",
    "  for pos, i in enumerate(items):\n",
    "    idcg += (2 ** test_ratings[u][i] - 1) / math.log(pos+2, 2)\n",
    "\n",
    "  return idcg\n",
    "\n",
    "\n",
    "def get_user_dcg (u, recommendations):\n",
    "  dcg = 0\n",
    "\n",
    "  for pos, i in enumerate(recommendations):\n",
    "    if i != None and test_ratings[u][i] != None:\n",
    "      dcg += (2 ** test_ratings[u][i] - 1) / math.log(pos+2, 2)\n",
    "\n",
    "  return dcg\n",
    "\n",
    "\n",
    "def get_user_ndcg (u, predictions):\n",
    "  recommendations = get_recommendations(predictions[u])\n",
    "  dcg = get_user_dcg(u, recommendations)\n",
    "  idcg = get_user_idcg(u)\n",
    "  if idcg == 0:\n",
    "    return 0\n",
    "  else:\n",
    "    return dcg / idcg\n",
    "\n",
    "\n",
    "def get_ndcg (predictions):\n",
    "  ndcg = 0\n",
    "  count = 0\n",
    "\n",
    "  for u in range(NUM_USERS):\n",
    "    user_ndcg = get_user_ndcg(u, predictions)\n",
    "\n",
    "    if user_ndcg != None:\n",
    "      ndcg += user_ndcg\n",
    "      count += 1\n",
    "\n",
    "\n",
    "  if count > 0:\n",
    "    return ndcg / count\n",
    "  else:\n",
    "    return None"
   ]
  },
  {
   "cell_type": "code",
   "execution_count": null,
   "id": "ecf5dbe8",
   "metadata": {},
   "outputs": [],
   "source": [
    "MIN_RATING = 1\n",
    "MAX_RATING = 5\n",
    "\n",
    "SCORES = [1, 2, 3, 4, 5]\n",
    "\n",
    "NUM_FACTORS = 7\n",
    "LEARNING_RATE = 0.001\n",
    "REGULARIZATION = 0.1"
   ]
  },
  {
   "cell_type": "code",
   "execution_count": null,
   "id": "f97d9770",
   "metadata": {},
   "outputs": [],
   "source": [
    "random.seed(1)\n",
    "U = [[[random.random() for _ in range(NUM_FACTORS)] for _ in range(NUM_USERS)] for _ in range(len(SCORES))]\n",
    "V = [[[random.random() for _ in range(NUM_FACTORS)] for _ in range(NUM_ITEMS)] for _ in range(len(SCORES))]"
   ]
  },
  {
   "cell_type": "code",
   "execution_count": null,
   "id": "ae024f02",
   "metadata": {},
   "outputs": [],
   "source": [
    "def logit (x):\n",
    "  return 1 / (1 + math.exp(-x))"
   ]
  },
  {
   "cell_type": "code",
   "execution_count": null,
   "id": "cd61e0c7",
   "metadata": {},
   "outputs": [],
   "source": [
    "def compute_prediction (u, i):\n",
    "  prediction = None\n",
    "  prob = 0\n",
    "  for s in range(len(SCORES)):\n",
    "    dot = np.dot(U[s][u], V[s][i])\n",
    "    if logit(dot) > prob:\n",
    "      prob = logit(dot)\n",
    "      prediction = SCORES[s]\n",
    "  return prediction, prob"
   ]
  },
  {
   "cell_type": "markdown",
   "id": "abb87548",
   "metadata": {},
   "source": [
    "Vamos a realizar una primera prueba para evaluar los resultados obtenidos:"
   ]
  },
  {
   "cell_type": "code",
   "execution_count": null,
   "id": "156023c9",
   "metadata": {},
   "outputs": [],
   "source": [
    "NUM_ITERATIONS = 10"
   ]
  },
  {
   "cell_type": "code",
   "execution_count": null,
   "id": "32e2eb27",
   "metadata": {},
   "outputs": [
    {
     "name": "stdout",
     "output_type": "stream",
     "text": [
      "Iteración 1 de 10\n",
      "Iteración 2 de 10\n",
      "Iteración 3 de 10\n",
      "Iteración 4 de 10\n",
      "Iteración 5 de 10\n",
      "Iteración 6 de 10\n",
      "Iteración 7 de 10\n",
      "Iteración 8 de 10\n",
      "Iteración 9 de 10\n",
      "Iteración 10 de 10\n"
     ]
    }
   ],
   "source": [
    "for it in range(NUM_ITERATIONS):\n",
    "  print(\"Iteración \" + str(it + 1) + \" de \" + str(NUM_ITERATIONS))\n",
    "\n",
    "  for s in range(len(SCORES)):\n",
    "\n",
    "    # update users\n",
    "    for u in range(NUM_USERS):\n",
    "      delta = np.zeros(NUM_FACTORS)\n",
    "      for i in range(NUM_ITEMS):\n",
    "        if ratings[u][i] != None:\n",
    "          dot = np.dot(U[s][u], V[s][i])\n",
    "\n",
    "          for f in range(NUM_FACTORS):\n",
    "            if ratings[u][i] == SCORES[s]:\n",
    "              delta[f] += (1 - logit(dot)) * V[s][i][f]\n",
    "            else:\n",
    "              delta[f] -= logit(dot) * V[s][i][f]\n",
    "\n",
    "          for f in range(NUM_FACTORS):\n",
    "            U[s][u][f] += LEARNING_RATE * (delta[f] - REGULARIZATION * U[s][u][f])\n",
    "\n",
    "    # update items\n",
    "    for i in range(NUM_ITEMS):\n",
    "      theta = np.zeros(NUM_FACTORS)\n",
    "      for u in range(NUM_USERS):\n",
    "        if ratings[u][i] != None:\n",
    "          dot = np.dot(U[s][u], V[s][i])\n",
    "\n",
    "          for f in range(NUM_FACTORS):\n",
    "            if ratings[u][i] == SCORES[s]:\n",
    "              theta[f] += (1 - logit(dot)) * U[s][u][f]\n",
    "            else:\n",
    "              theta[f] -= logit(dot) * U[s][u][f]\n",
    "\n",
    "          for f in range(NUM_FACTORS):\n",
    "            V[s][i][f] += LEARNING_RATE * (theta[f] - REGULARIZATION * V[s][i][f])\n"
   ]
  },
  {
   "cell_type": "code",
   "execution_count": null,
   "id": "a8b352c0",
   "metadata": {},
   "outputs": [],
   "source": [
    "predictions = [[None for _ in range(NUM_ITEMS)] for _ in range(NUM_USERS)]\n",
    "\n",
    "# Rellenamos la matriz de predicciones\n",
    "for u in range(NUM_USERS):\n",
    "  for i in range(NUM_ITEMS):\n",
    "    if test_ratings[u][i] != None:\n",
    "      pred, prob = compute_prediction(u, i)\n",
    "      predictions[u][i] = pred"
   ]
  },
  {
   "cell_type": "code",
   "execution_count": null,
   "id": "0d59e0fd",
   "metadata": {},
   "outputs": [
    {
     "name": "stdout",
     "output_type": "stream",
     "text": [
      "MAE = 0.7555210792869627\n",
      "RMSE = 1.1017989001900144\n",
      "Precision = 0.9148380355276912\n",
      "Recall = 0.5617535057689764\n",
      "F1 = 0.6057118273164367\n",
      "nDCG = 0.5085099642836962\n"
     ]
    }
   ],
   "source": [
    "theta = 4\n",
    "\n",
    "mae = get_mae(predictions)\n",
    "rmse = get_rmse(predictions)\n",
    "precision = get_precision(predictions)\n",
    "recall = get_recall(predictions)\n",
    "f1 = get_f1(predictions)\n",
    "ndcg = get_ndcg(predictions)\n",
    "print(\"MAE = \" + str(mae))\n",
    "print(\"RMSE = \" + str(rmse))\n",
    "print(\"Precision = \" + str(precision))\n",
    "print(\"Recall = \" + str(recall))\n",
    "print(\"F1 = \" + str(f1))\n",
    "print(\"nDCG = \" + str(ndcg))"
   ]
  },
  {
   "cell_type": "markdown",
   "id": "dbe3e8ee",
   "metadata": {},
   "source": [
    "Vamos a intentar optimizar los parámetros del modelo de Bernouilli Matrix Factorization."
   ]
  },
  {
   "cell_type": "markdown",
   "id": "580a9928",
   "metadata": {},
   "source": [
    "### Número de factores latentes"
   ]
  },
  {
   "cell_type": "code",
   "execution_count": null,
   "id": "c179d2ea",
   "metadata": {},
   "outputs": [
    {
     "name": "stdout",
     "output_type": "stream",
     "text": [
      "Iteración 1 de 5\n",
      "Iteración 2 de 5\n",
      "Iteración 3 de 5\n",
      "Iteración 4 de 5\n",
      "Iteración 5 de 5\n",
      "Iteración 1 de 5\n",
      "Iteración 2 de 5\n",
      "Iteración 3 de 5\n",
      "Iteración 4 de 5\n",
      "Iteración 5 de 5\n",
      "Iteración 1 de 5\n",
      "Iteración 2 de 5\n",
      "Iteración 3 de 5\n",
      "Iteración 4 de 5\n",
      "Iteración 5 de 5\n",
      "Iteración 1 de 5\n",
      "Iteración 2 de 5\n",
      "Iteración 3 de 5\n",
      "Iteración 4 de 5\n",
      "Iteración 5 de 5\n",
      "Iteración 1 de 5\n",
      "Iteración 2 de 5\n",
      "Iteración 3 de 5\n",
      "Iteración 4 de 5\n",
      "Iteración 5 de 5\n",
      "Iteración 1 de 5\n",
      "Iteración 2 de 5\n",
      "Iteración 3 de 5\n",
      "Iteración 4 de 5\n",
      "Iteración 5 de 5\n",
      "Iteración 1 de 5\n",
      "Iteración 2 de 5\n",
      "Iteración 3 de 5\n",
      "Iteración 4 de 5\n",
      "Iteración 5 de 5\n"
     ]
    }
   ],
   "source": [
    "list_mae = []\n",
    "list_f1 = []\n",
    "NUM_ITERATIONS = 5\n",
    "\n",
    "for NUM_FACTORS in list(range(4, 11)):\n",
    "    random.seed(1)\n",
    "    U = [[[random.random() for _ in range(NUM_FACTORS)] for _ in range(NUM_USERS)] for _ in range(len(SCORES))]\n",
    "    V = [[[random.random() for _ in range(NUM_FACTORS)] for _ in range(NUM_ITEMS)] for _ in range(len(SCORES))]\n",
    "\n",
    "\n",
    "    for it in range(NUM_ITERATIONS):\n",
    "        print(\"Iteración \" + str(it + 1) + \" de \" + str(NUM_ITERATIONS))\n",
    "\n",
    "        for s in range(len(SCORES)):\n",
    "\n",
    "            # update users\n",
    "            for u in range(NUM_USERS):\n",
    "                delta = np.zeros(NUM_FACTORS)\n",
    "                for i in range(NUM_ITEMS):\n",
    "                    if ratings[u][i] != None:\n",
    "                        dot = np.dot(U[s][u], V[s][i])\n",
    "\n",
    "                        for f in range(NUM_FACTORS):\n",
    "                            if ratings[u][i] == SCORES[s]:\n",
    "                                delta[f] += (1 - logit(dot)) * V[s][i][f]\n",
    "                            else:\n",
    "                                delta[f] -= logit(dot) * V[s][i][f]\n",
    "\n",
    "                        for f in range(NUM_FACTORS):\n",
    "                            U[s][u][f] += LEARNING_RATE * (delta[f] - REGULARIZATION * U[s][u][f])\n",
    "\n",
    "            # update items\n",
    "            for i in range(NUM_ITEMS):\n",
    "                theta = np.zeros(NUM_FACTORS)\n",
    "                for u in range(NUM_USERS):\n",
    "                    if ratings[u][i] != None:\n",
    "                        dot = np.dot(U[s][u], V[s][i])\n",
    "\n",
    "                        for f in range(NUM_FACTORS):\n",
    "                            if ratings[u][i] == SCORES[s]:\n",
    "                                theta[f] += (1 - logit(dot)) * U[s][u][f]\n",
    "                            else:\n",
    "                                theta[f] -= logit(dot) * U[s][u][f]\n",
    "                        for f in range(NUM_FACTORS):\n",
    "                            V[s][i][f] += LEARNING_RATE * (theta[f] - REGULARIZATION * V[s][i][f])\n",
    "\n",
    "    predictions = [[None for _ in range(NUM_ITEMS)] for _ in range(NUM_USERS)]\n",
    "    for u in range(NUM_USERS):\n",
    "        for i in range(NUM_ITEMS):\n",
    "            if test_ratings[u][i] != None:\n",
    "                pred, prob = compute_prediction(u, i)\n",
    "                predictions[u][i] = pred\n",
    "    \n",
    "    theta = 4\n",
    "    mae = get_mae(predictions)\n",
    "    list_mae.append(mae)\n",
    "    f1 = get_f1(predictions)\n",
    "    list_f1.append(f1)"
   ]
  },
  {
   "cell_type": "code",
   "execution_count": null,
   "id": "45598326",
   "metadata": {},
   "outputs": [
    {
     "data": {
      "image/png": "[encoded data removed]",
      "text/plain": [
       "<Figure size 800x500 with 1 Axes>"
      ]
     },
     "metadata": {},
     "output_type": "display_data"
    }
   ],
   "source": [
    "x = list(range(4, 11))\n",
    "\n",
    "plt.figure(figsize=(8, 5))\n",
    "plt.plot(x, list_mae, label='MAE')\n",
    "plt.plot(x, list_f1, label='F1')\n",
    "\n",
    "plt.xticks(x)\n",
    "plt.xlabel('NUM_FACTORS')\n",
    "plt.legend()\n",
    "plt.grid(True)\n",
    "\n",
    "plt.show()"
   ]
  },
  {
   "cell_type": "markdown",
   "id": "c1751958",
   "metadata": {},
   "source": [
    "La F1 se mantiene igual mientras que el menor error MAE ocurre con 7 factores latentes. Luego, el modelo se optimiza en `NUM_FACTORES = 7`."
   ]
  },
  {
   "cell_type": "markdown",
   "id": "8f10a966",
   "metadata": {},
   "source": [
    "### Learning rate"
   ]
  },
  {
   "cell_type": "code",
   "execution_count": null,
   "id": "92d1165a",
   "metadata": {},
   "outputs": [],
   "source": [
    "NUM_FACTORS = 7\n",
    "REGULARIZATION = 0.1"
   ]
  },
  {
   "cell_type": "code",
   "execution_count": null,
   "id": "3ccfd5e8",
   "metadata": {},
   "outputs": [
    {
     "name": "stdout",
     "output_type": "stream",
     "text": [
      "Iteración 1 de 5\n",
      "Iteración 2 de 5\n",
      "Iteración 3 de 5\n",
      "Iteración 4 de 5\n",
      "Iteración 5 de 5\n",
      "Iteración 1 de 5\n",
      "Iteración 2 de 5\n",
      "Iteración 3 de 5\n",
      "Iteración 4 de 5\n",
      "Iteración 5 de 5\n",
      "Iteración 1 de 5\n",
      "Iteración 2 de 5\n",
      "Iteración 3 de 5\n",
      "Iteración 4 de 5\n",
      "Iteración 5 de 5\n",
      "Iteración 1 de 5\n",
      "Iteración 2 de 5\n",
      "Iteración 3 de 5\n",
      "Iteración 4 de 5\n",
      "Iteración 5 de 5\n"
     ]
    }
   ],
   "source": [
    "list_mae = []\n",
    "list_f1 = []\n",
    "NUM_ITERATIONS = 5\n",
    "\n",
    "for LEARNING_RATE in [0.005, 0.007, 0.009, 0.01]:\n",
    "    random.seed(1)\n",
    "    U = [[[random.random() for _ in range(NUM_FACTORS)] for _ in range(NUM_USERS)] for _ in range(len(SCORES))]\n",
    "    V = [[[random.random() for _ in range(NUM_FACTORS)] for _ in range(NUM_ITEMS)] for _ in range(len(SCORES))]\n",
    "\n",
    "\n",
    "    for it in range(NUM_ITERATIONS):\n",
    "        print(\"Iteración \" + str(it + 1) + \" de \" + str(NUM_ITERATIONS))\n",
    "\n",
    "        for s in range(len(SCORES)):\n",
    "\n",
    "            # update users\n",
    "            for u in range(NUM_USERS):\n",
    "                delta = np.zeros(NUM_FACTORS)\n",
    "                for i in range(NUM_ITEMS):\n",
    "                    if ratings[u][i] != None:\n",
    "                        dot = np.dot(U[s][u], V[s][i])\n",
    "\n",
    "                        for f in range(NUM_FACTORS):\n",
    "                            if ratings[u][i] == SCORES[s]:\n",
    "                                delta[f] += (1 - logit(dot)) * V[s][i][f]\n",
    "                            else:\n",
    "                                delta[f] -= logit(dot) * V[s][i][f]\n",
    "\n",
    "                        for f in range(NUM_FACTORS):\n",
    "                            U[s][u][f] += LEARNING_RATE * (delta[f] - REGULARIZATION * U[s][u][f])\n",
    "\n",
    "            # update items\n",
    "            for i in range(NUM_ITEMS):\n",
    "                theta = np.zeros(NUM_FACTORS)\n",
    "                for u in range(NUM_USERS):\n",
    "                    if ratings[u][i] != None:\n",
    "                        dot = np.dot(U[s][u], V[s][i])\n",
    "\n",
    "                        for f in range(NUM_FACTORS):\n",
    "                            if ratings[u][i] == SCORES[s]:\n",
    "                                theta[f] += (1 - logit(dot)) * U[s][u][f]\n",
    "                            else:\n",
    "                                theta[f] -= logit(dot) * U[s][u][f]\n",
    "                        for f in range(NUM_FACTORS):\n",
    "                            V[s][i][f] += LEARNING_RATE * (theta[f] - REGULARIZATION * V[s][i][f])\n",
    "\n",
    "    predictions = [[None for _ in range(NUM_ITEMS)] for _ in range(NUM_USERS)]\n",
    "    for u in range(NUM_USERS):\n",
    "        for i in range(NUM_ITEMS):\n",
    "            if test_ratings[u][i] != None:\n",
    "                pred, prob = compute_prediction(u, i)\n",
    "                predictions[u][i] = pred\n",
    "    \n",
    "    theta = 4\n",
    "    mae = get_mae(predictions)\n",
    "    list_mae.append(mae)\n",
    "    f1 = get_f1(predictions)\n",
    "    list_f1.append(f1)"
   ]
  },
  {
   "cell_type": "code",
   "execution_count": null,
   "id": "ac8f75a5",
   "metadata": {},
   "outputs": [
    {
     "data": {
      "image/png": "[encoded data removed]",
      "text/plain": [
       "<Figure size 800x500 with 1 Axes>"
      ]
     },
     "metadata": {},
     "output_type": "display_data"
    }
   ],
   "source": [
    "x = [0.005, 0.007, 0.009, 0.01]\n",
    "\n",
    "plt.figure(figsize=(8, 5))\n",
    "plt.plot(x, list_mae, label='MAE')\n",
    "plt.plot(x, list_f1, label='F1')\n",
    "\n",
    "plt.xticks(x)\n",
    "plt.xlabel('LEARNING_RATE')\n",
    "plt.legend()\n",
    "plt.grid(True)\n",
    "\n",
    "plt.show()"
   ]
  },
  {
   "cell_type": "markdown",
   "id": "2638f71f",
   "metadata": {},
   "source": [
    "A mayor learning rate, menor es el error. Por tanto, el modelo se optimiza en `LEARNING_RATE = 0.01`."
   ]
  },
  {
   "cell_type": "markdown",
   "id": "e0caf2f3",
   "metadata": {},
   "source": [
    "### Regularization"
   ]
  },
  {
   "cell_type": "code",
   "execution_count": null,
   "id": "0fde0f61",
   "metadata": {},
   "outputs": [],
   "source": [
    "NUM_FACTORS = 7\n",
    "LEARNING_RATE = 0.01"
   ]
  },
  {
   "cell_type": "code",
   "execution_count": null,
   "id": "697de546",
   "metadata": {},
   "outputs": [
    {
     "name": "stdout",
     "output_type": "stream",
     "text": [
      "Iteración 1 de 5\n",
      "Iteración 2 de 5\n",
      "Iteración 3 de 5\n",
      "Iteración 4 de 5\n",
      "Iteración 5 de 5\n",
      "Iteración 1 de 5\n",
      "Iteración 2 de 5\n",
      "Iteración 3 de 5\n",
      "Iteración 4 de 5\n",
      "Iteración 5 de 5\n",
      "Iteración 1 de 5\n",
      "Iteración 2 de 5\n",
      "Iteración 3 de 5\n",
      "Iteración 4 de 5\n",
      "Iteración 5 de 5\n",
      "Iteración 1 de 5\n",
      "Iteración 2 de 5\n",
      "Iteración 3 de 5\n",
      "Iteración 4 de 5\n",
      "Iteración 5 de 5\n"
     ]
    }
   ],
   "source": [
    "list_mae = []\n",
    "list_f1 = []\n",
    "NUM_ITERATIONS = 5\n",
    "\n",
    "for REGULARIZATION in [0.3, 0.5, 0.7, 0.9]:\n",
    "    random.seed(1)\n",
    "    U = [[[random.random() for _ in range(NUM_FACTORS)] for _ in range(NUM_USERS)] for _ in range(len(SCORES))]\n",
    "    V = [[[random.random() for _ in range(NUM_FACTORS)] for _ in range(NUM_ITEMS)] for _ in range(len(SCORES))]\n",
    "\n",
    "\n",
    "    for it in range(NUM_ITERATIONS):\n",
    "        print(\"Iteración \" + str(it + 1) + \" de \" + str(NUM_ITERATIONS))\n",
    "\n",
    "        for s in range(len(SCORES)):\n",
    "\n",
    "            # update users\n",
    "            for u in range(NUM_USERS):\n",
    "                delta = np.zeros(NUM_FACTORS)\n",
    "                for i in range(NUM_ITEMS):\n",
    "                    if ratings[u][i] != None:\n",
    "                        dot = np.dot(U[s][u], V[s][i])\n",
    "\n",
    "                        for f in range(NUM_FACTORS):\n",
    "                            if ratings[u][i] == SCORES[s]:\n",
    "                                delta[f] += (1 - logit(dot)) * V[s][i][f]\n",
    "                            else:\n",
    "                                delta[f] -= logit(dot) * V[s][i][f]\n",
    "\n",
    "                        for f in range(NUM_FACTORS):\n",
    "                            U[s][u][f] += LEARNING_RATE * (delta[f] - REGULARIZATION * U[s][u][f])\n",
    "\n",
    "            # update items\n",
    "            for i in range(NUM_ITEMS):\n",
    "                theta = np.zeros(NUM_FACTORS)\n",
    "                for u in range(NUM_USERS):\n",
    "                    if ratings[u][i] != None:\n",
    "                        dot = np.dot(U[s][u], V[s][i])\n",
    "\n",
    "                        for f in range(NUM_FACTORS):\n",
    "                            if ratings[u][i] == SCORES[s]:\n",
    "                                theta[f] += (1 - logit(dot)) * U[s][u][f]\n",
    "                            else:\n",
    "                                theta[f] -= logit(dot) * U[s][u][f]\n",
    "                        for f in range(NUM_FACTORS):\n",
    "                            V[s][i][f] += LEARNING_RATE * (theta[f] - REGULARIZATION * V[s][i][f])\n",
    "\n",
    "    predictions = [[None for _ in range(NUM_ITEMS)] for _ in range(NUM_USERS)]\n",
    "    for u in range(NUM_USERS):\n",
    "        for i in range(NUM_ITEMS):\n",
    "            if test_ratings[u][i] != None:\n",
    "                pred, prob = compute_prediction(u, i)\n",
    "                predictions[u][i] = pred\n",
    "    \n",
    "    theta = 4\n",
    "    mae = get_mae(predictions)\n",
    "    list_mae.append(mae)\n",
    "    f1 = get_f1(predictions)\n",
    "    list_f1.append(f1)"
   ]
  },
  {
   "cell_type": "code",
   "execution_count": null,
   "id": "ed6caba9",
   "metadata": {},
   "outputs": [
    {
     "data": {
      "image/png": "[encoded data removed]",
      "text/plain": [
       "<Figure size 800x500 with 1 Axes>"
      ]
     },
     "metadata": {},
     "output_type": "display_data"
    }
   ],
   "source": [
    "x = [0.3, 0.5, 0.7, 0.9]\n",
    "\n",
    "plt.figure(figsize=(8, 5))\n",
    "plt.plot(x, list_mae, label='MAE')\n",
    "plt.plot(x, list_f1, label='F1')\n",
    "\n",
    "plt.xticks(x)\n",
    "plt.xlabel('REGULARIZATION')\n",
    "plt.legend()\n",
    "plt.grid(True)\n",
    "\n",
    "plt.show()"
   ]
  },
  {
   "cell_type": "markdown",
   "id": "acfb9f1b",
   "metadata": {},
   "source": [
    "Obtenemos los mejores resultados con `REGULARIZATION = 0.9`."
   ]
  },
  {
   "cell_type": "markdown",
   "id": "60f2a32d",
   "metadata": {},
   "source": [
    "### Número de iteraciones"
   ]
  },
  {
   "cell_type": "code",
   "execution_count": null,
   "id": "c8d5d4bf",
   "metadata": {},
   "outputs": [],
   "source": [
    "NUM_FACTORS = 7\n",
    "LEARNING_RATE = 0.01\n",
    "REGULARIZATION = 0.9"
   ]
  },
  {
   "cell_type": "code",
   "execution_count": null,
   "id": "43807679",
   "metadata": {},
   "outputs": [
    {
     "name": "stdout",
     "output_type": "stream",
     "text": [
      "Iteración 1 de 10\n",
      "Iteración 2 de 10\n",
      "Iteración 3 de 10\n",
      "Iteración 4 de 10\n",
      "Iteración 5 de 10\n",
      "Iteración 6 de 10\n",
      "Iteración 7 de 10\n",
      "Iteración 8 de 10\n",
      "Iteración 9 de 10\n",
      "Iteración 10 de 10\n",
      "Iteración 1 de 20\n",
      "Iteración 2 de 20\n",
      "Iteración 3 de 20\n",
      "Iteración 4 de 20\n",
      "Iteración 5 de 20\n",
      "Iteración 6 de 20\n",
      "Iteración 7 de 20\n",
      "Iteración 8 de 20\n",
      "Iteración 9 de 20\n",
      "Iteración 10 de 20\n",
      "Iteración 11 de 20\n",
      "Iteración 12 de 20\n",
      "Iteración 13 de 20\n",
      "Iteración 14 de 20\n",
      "Iteración 15 de 20\n",
      "Iteración 16 de 20\n",
      "Iteración 17 de 20\n",
      "Iteración 18 de 20\n",
      "Iteración 19 de 20\n",
      "Iteración 20 de 20\n",
      "Iteración 1 de 30\n",
      "Iteración 2 de 30\n",
      "Iteración 3 de 30\n",
      "Iteración 4 de 30\n",
      "Iteración 5 de 30\n",
      "Iteración 6 de 30\n",
      "Iteración 7 de 30\n",
      "Iteración 8 de 30\n",
      "Iteración 9 de 30\n",
      "Iteración 10 de 30\n",
      "Iteración 11 de 30\n",
      "Iteración 12 de 30\n",
      "Iteración 13 de 30\n",
      "Iteración 14 de 30\n",
      "Iteración 15 de 30\n",
      "Iteración 16 de 30\n",
      "Iteración 17 de 30\n",
      "Iteración 18 de 30\n",
      "Iteración 19 de 30\n",
      "Iteración 20 de 30\n",
      "Iteración 21 de 30\n",
      "Iteración 22 de 30\n",
      "Iteración 23 de 30\n",
      "Iteración 24 de 30\n",
      "Iteración 25 de 30\n",
      "Iteración 26 de 30\n",
      "Iteración 27 de 30\n",
      "Iteración 28 de 30\n",
      "Iteración 29 de 30\n",
      "Iteración 30 de 30\n"
     ]
    }
   ],
   "source": [
    "list_mae = []\n",
    "list_f1 = []\n",
    "\n",
    "for NUM_ITERATIONS in [10, 20, 30]:\n",
    "    random.seed(1)\n",
    "    U = [[[random.random() for _ in range(NUM_FACTORS)] for _ in range(NUM_USERS)] for _ in range(len(SCORES))]\n",
    "    V = [[[random.random() for _ in range(NUM_FACTORS)] for _ in range(NUM_ITEMS)] for _ in range(len(SCORES))]\n",
    "\n",
    "\n",
    "    for it in range(NUM_ITERATIONS):\n",
    "        print(\"Iteración \" + str(it + 1) + \" de \" + str(NUM_ITERATIONS))\n",
    "\n",
    "        for s in range(len(SCORES)):\n",
    "\n",
    "            # update users\n",
    "            for u in range(NUM_USERS):\n",
    "                delta = np.zeros(NUM_FACTORS)\n",
    "                for i in range(NUM_ITEMS):\n",
    "                    if ratings[u][i] != None:\n",
    "                        dot = np.dot(U[s][u], V[s][i])\n",
    "\n",
    "                        for f in range(NUM_FACTORS):\n",
    "                            if ratings[u][i] == SCORES[s]:\n",
    "                                delta[f] += (1 - logit(dot)) * V[s][i][f]\n",
    "                            else:\n",
    "                                delta[f] -= logit(dot) * V[s][i][f]\n",
    "\n",
    "                        for f in range(NUM_FACTORS):\n",
    "                            U[s][u][f] += LEARNING_RATE * (delta[f] - REGULARIZATION * U[s][u][f])\n",
    "\n",
    "            # update items\n",
    "            for i in range(NUM_ITEMS):\n",
    "                theta = np.zeros(NUM_FACTORS)\n",
    "                for u in range(NUM_USERS):\n",
    "                    if ratings[u][i] != None:\n",
    "                        dot = np.dot(U[s][u], V[s][i])\n",
    "\n",
    "                        for f in range(NUM_FACTORS):\n",
    "                            if ratings[u][i] == SCORES[s]:\n",
    "                                theta[f] += (1 - logit(dot)) * U[s][u][f]\n",
    "                            else:\n",
    "                                theta[f] -= logit(dot) * U[s][u][f]\n",
    "                        for f in range(NUM_FACTORS):\n",
    "                            V[s][i][f] += LEARNING_RATE * (theta[f] - REGULARIZATION * V[s][i][f])\n",
    "\n",
    "    predictions = [[None for _ in range(NUM_ITEMS)] for _ in range(NUM_USERS)]\n",
    "    for u in range(NUM_USERS):\n",
    "        for i in range(NUM_ITEMS):\n",
    "            if test_ratings[u][i] != None:\n",
    "                pred, prob = compute_prediction(u, i)\n",
    "                predictions[u][i] = pred\n",
    "    \n",
    "    theta = 4\n",
    "    mae = get_mae(predictions)\n",
    "    list_mae.append(mae)\n",
    "    f1 = get_f1(predictions)\n",
    "    list_f1.append(f1)"
   ]
  },
  {
   "cell_type": "code",
   "execution_count": null,
   "id": "e35fe613",
   "metadata": {},
   "outputs": [
    {
     "data": {
      "image/png": "[encoded data removed]",
      "text/plain": [
       "<Figure size 800x500 with 1 Axes>"
      ]
     },
     "metadata": {},
     "output_type": "display_data"
    }
   ],
   "source": [
    "x = [10, 20, 30]\n",
    "\n",
    "plt.figure(figsize=(8, 5))\n",
    "plt.plot(x, list_mae, label='MAE')\n",
    "plt.plot(x, list_f1, label='F1')\n",
    "\n",
    "plt.xticks(x)\n",
    "plt.xlabel('ITERACIONES')\n",
    "plt.legend()\n",
    "plt.grid(True)\n",
    "\n",
    "plt.show()"
   ]
  },
  {
   "cell_type": "markdown",
   "id": "a15c6e77",
   "metadata": {},
   "source": [
    "El error se reduce hasta las 30 iteraciones, punto a partir del cual la disminución del error se equilibra y vale la pena añadir más iteraciones. Por tanto, el modelo se optimiza en `NUM_ITERACIONES = 30`."
   ]
  },
  {
   "cell_type": "markdown",
   "id": "4d0ba6b9",
   "metadata": {},
   "source": [
    "### Ahora, vamos a obtener todas las métricas del modelo con los parámetros óptimos:"
   ]
  },
  {
   "cell_type": "code",
   "execution_count": null,
   "id": "e78eed41",
   "metadata": {},
   "outputs": [],
   "source": [
    "NUM_FACTORS = 7\n",
    "LEARNING_RATE = 0.01\n",
    "REGULARIZATION = 0.9\n",
    "\n",
    "NUM_ITERATIONS = 30"
   ]
  },
  {
   "cell_type": "code",
   "execution_count": null,
   "id": "0c837656",
   "metadata": {},
   "outputs": [
    {
     "name": "stdout",
     "output_type": "stream",
     "text": [
      "Iteración 1 de 30\n",
      "Iteración 2 de 30\n",
      "Iteración 3 de 30\n",
      "Iteración 4 de 30\n",
      "Iteración 5 de 30\n",
      "Iteración 6 de 30\n",
      "Iteración 7 de 30\n",
      "Iteración 8 de 30\n",
      "Iteración 9 de 30\n",
      "Iteración 10 de 30\n",
      "Iteración 11 de 30\n",
      "Iteración 12 de 30\n",
      "Iteración 13 de 30\n",
      "Iteración 14 de 30\n",
      "Iteración 15 de 30\n",
      "Iteración 16 de 30\n",
      "Iteración 17 de 30\n",
      "Iteración 18 de 30\n",
      "Iteración 19 de 30\n",
      "Iteración 20 de 30\n",
      "Iteración 21 de 30\n",
      "Iteración 22 de 30\n",
      "Iteración 23 de 30\n",
      "Iteración 24 de 30\n",
      "Iteración 25 de 30\n",
      "Iteración 26 de 30\n",
      "Iteración 27 de 30\n",
      "Iteración 28 de 30\n",
      "Iteración 29 de 30\n",
      "Iteración 30 de 30\n"
     ]
    }
   ],
   "source": [
    "for it in range(NUM_ITERATIONS):\n",
    "  print(\"Iteración \" + str(it + 1) + \" de \" + str(NUM_ITERATIONS))\n",
    "\n",
    "  for s in range(len(SCORES)):\n",
    "\n",
    "    # update users\n",
    "    for u in range(NUM_USERS):\n",
    "      delta = np.zeros(NUM_FACTORS)\n",
    "      for i in range(NUM_ITEMS):\n",
    "        if ratings[u][i] != None:\n",
    "          dot = np.dot(U[s][u], V[s][i])\n",
    "\n",
    "          for f in range(NUM_FACTORS):\n",
    "            if ratings[u][i] == SCORES[s]:\n",
    "              delta[f] += (1 - logit(dot)) * V[s][i][f]\n",
    "            else:\n",
    "              delta[f] -= logit(dot) * V[s][i][f]\n",
    "\n",
    "          for f in range(NUM_FACTORS):\n",
    "            U[s][u][f] += LEARNING_RATE * (delta[f] - REGULARIZATION * U[s][u][f])\n",
    "\n",
    "    # update items\n",
    "    for i in range(NUM_ITEMS):\n",
    "      theta = np.zeros(NUM_FACTORS)\n",
    "      for u in range(NUM_USERS):\n",
    "        if ratings[u][i] != None:\n",
    "          dot = np.dot(U[s][u], V[s][i])\n",
    "\n",
    "          for f in range(NUM_FACTORS):\n",
    "            if ratings[u][i] == SCORES[s]:\n",
    "              theta[f] += (1 - logit(dot)) * U[s][u][f]\n",
    "            else:\n",
    "              theta[f] -= logit(dot) * U[s][u][f]\n",
    "\n",
    "          for f in range(NUM_FACTORS):\n",
    "            V[s][i][f] += LEARNING_RATE * (theta[f] - REGULARIZATION * V[s][i][f])\n"
   ]
  },
  {
   "cell_type": "code",
   "execution_count": null,
   "id": "aafb8219",
   "metadata": {},
   "outputs": [
    {
     "name": "stdout",
     "output_type": "stream",
     "text": [
      "MAE = 0.48693133533015365\n",
      "RMSE = 0.8244578624981632\n",
      "Precision = 0.9154649947753403\n",
      "Recall = 0.5617567291215209\n",
      "F1 = 0.6057182420755144\n",
      "nDCG = 0.5100232795853001\n"
     ]
    }
   ],
   "source": [
    "theta = 4\n",
    "\n",
    "mae = get_mae(predictions)\n",
    "rmse = get_rmse(predictions)\n",
    "precision = get_precision(predictions)\n",
    "recall = get_recall(predictions)\n",
    "f1 = get_f1(predictions)\n",
    "ndcg = get_ndcg(predictions)\n",
    "print(\"MAE = \" + str(mae))\n",
    "print(\"RMSE = \" + str(rmse))\n",
    "print(\"Precision = \" + str(precision))\n",
    "print(\"Recall = \" + str(recall))\n",
    "print(\"F1 = \" + str(f1))\n",
    "print(\"nDCG = \" + str(ndcg))"
   ]
  },
  {
   "cell_type": "markdown",
   "id": "b2778351",
   "metadata": {},
   "source": [
    "## Neural Collaborative Filtering"
   ]
  },
  {
   "cell_type": "code",
   "execution_count": null,
   "id": "c41b6d98",
   "metadata": {},
   "outputs": [],
   "source": [
    "# Importamos las librerías necesarias\n",
    "\n",
    "from keras.models import Model\n",
    "from keras.layers import Embedding, Flatten, Input, Dense, Concatenate, Dot, Activation, Lambda\n",
    "from sklearn.metrics import mean_absolute_error, mean_squared_error\n",
    "from sklearn.metrics import precision_score, recall_score, f1_score"
   ]
  },
  {
   "cell_type": "code",
   "execution_count": null,
   "id": "acc74c6f",
   "metadata": {},
   "outputs": [
    {
     "data": {
      "text/html": [
       "<div>\n",
       "<style scoped>\n",
       "    .dataframe tbody tr th:only-of-type {\n",
       "        vertical-align: middle;\n",
       "    }\n",
       "\n",
       "    .dataframe tbody tr th {\n",
       "        vertical-align: top;\n",
       "    }\n",
       "\n",
       "    .dataframe thead th {\n",
       "        text-align: right;\n",
       "    }\n",
       "</style>\n",
       "<table border=\"1\" class=\"dataframe\">\n",
       "  <thead>\n",
       "    <tr style=\"text-align: right;\">\n",
       "      <th></th>\n",
       "      <th>user_id</th>\n",
       "      <th>item_id</th>\n",
       "      <th>rating</th>\n",
       "      <th>timestamp</th>\n",
       "    </tr>\n",
       "  </thead>\n",
       "  <tbody>\n",
       "    <tr>\n",
       "      <th>0</th>\n",
       "      <td>0</td>\n",
       "      <td>122339</td>\n",
       "      <td>5.0</td>\n",
       "      <td>1485216000</td>\n",
       "    </tr>\n",
       "    <tr>\n",
       "      <th>1</th>\n",
       "      <td>0</td>\n",
       "      <td>44777</td>\n",
       "      <td>4.0</td>\n",
       "      <td>1449360000</td>\n",
       "    </tr>\n",
       "    <tr>\n",
       "      <th>2</th>\n",
       "      <td>0</td>\n",
       "      <td>107972</td>\n",
       "      <td>5.0</td>\n",
       "      <td>1421280000</td>\n",
       "    </tr>\n",
       "    <tr>\n",
       "      <th>3</th>\n",
       "      <td>0</td>\n",
       "      <td>97552</td>\n",
       "      <td>5.0</td>\n",
       "      <td>1390262400</td>\n",
       "    </tr>\n",
       "    <tr>\n",
       "      <th>4</th>\n",
       "      <td>1</td>\n",
       "      <td>26825</td>\n",
       "      <td>5.0</td>\n",
       "      <td>1289865600</td>\n",
       "    </tr>\n",
       "    <tr>\n",
       "      <th>...</th>\n",
       "      <td>...</td>\n",
       "      <td>...</td>\n",
       "      <td>...</td>\n",
       "      <td>...</td>\n",
       "    </tr>\n",
       "    <tr>\n",
       "      <th>147131</th>\n",
       "      <td>1547</td>\n",
       "      <td>96038</td>\n",
       "      <td>5.0</td>\n",
       "      <td>1513209600</td>\n",
       "    </tr>\n",
       "    <tr>\n",
       "      <th>147132</th>\n",
       "      <td>1547</td>\n",
       "      <td>8286</td>\n",
       "      <td>5.0</td>\n",
       "      <td>1513900800</td>\n",
       "    </tr>\n",
       "    <tr>\n",
       "      <th>147133</th>\n",
       "      <td>1547</td>\n",
       "      <td>41056</td>\n",
       "      <td>5.0</td>\n",
       "      <td>1514160000</td>\n",
       "    </tr>\n",
       "    <tr>\n",
       "      <th>147134</th>\n",
       "      <td>1547</td>\n",
       "      <td>115290</td>\n",
       "      <td>5.0</td>\n",
       "      <td>1510963200</td>\n",
       "    </tr>\n",
       "    <tr>\n",
       "      <th>147135</th>\n",
       "      <td>1547</td>\n",
       "      <td>116882</td>\n",
       "      <td>5.0</td>\n",
       "      <td>1534204800</td>\n",
       "    </tr>\n",
       "  </tbody>\n",
       "</table>\n",
       "<p>147136 rows × 4 columns</p>\n",
       "</div>"
      ],
      "text/plain": [
       "        user_id  item_id  rating   timestamp\n",
       "0             0   122339     5.0  1485216000\n",
       "1             0    44777     4.0  1449360000\n",
       "2             0   107972     5.0  1421280000\n",
       "3             0    97552     5.0  1390262400\n",
       "4             1    26825     5.0  1289865600\n",
       "...         ...      ...     ...         ...\n",
       "147131     1547    96038     5.0  1513209600\n",
       "147132     1547     8286     5.0  1513900800\n",
       "147133     1547    41056     5.0  1514160000\n",
       "147134     1547   115290     5.0  1510963200\n",
       "147135     1547   116882     5.0  1534204800\n",
       "\n",
       "[147136 rows x 4 columns]"
      ]
     },
     "metadata": {},
     "output_type": "display_data"
    }
   ],
   "source": [
    "# Cargamos el dataset\n",
    "data = pd.read_csv('ratings_bien.csv', engine= 'python')\n",
    "data.sort_values(by=('user_id'), inplace= True)\n",
    "data.reset_index(inplace= True, drop= True)\n",
    "data"
   ]
  },
  {
   "cell_type": "markdown",
   "id": "9cf5f71a",
   "metadata": {},
   "source": [
    "Ahora vamos a dividir el dataset en dos matrices de votaciones y votaciones de test."
   ]
  },
  {
   "cell_type": "code",
   "execution_count": null,
   "id": "27a98f21",
   "metadata": {},
   "outputs": [],
   "source": [
    "# Dividimos en 80% para entrenamiento, 20% para test\n",
    "X_train = data.sample(int(0.8 * data.shape[0]), random_state= 42)\n",
    "X_test = data.loc[np.setdiff1d(data.index, X_train.index), :]\n"
   ]
  },
  {
   "cell_type": "code",
   "execution_count": null,
   "id": "cefabbd8",
   "metadata": {},
   "outputs": [],
   "source": [
    "data_train = X_train\n",
    "data_test = X_test"
   ]
  },
  {
   "cell_type": "code",
   "execution_count": null,
   "id": "2a56edd4",
   "metadata": {},
   "outputs": [],
   "source": [
    "# Datos de entrenamiento\n",
    "X_train = [np.array([], dtype=int), np.array([], dtype=int)]\n",
    "y_train = np.array([], dtype=int)\n",
    "\n",
    "for idx, row in data_train.iterrows():\n",
    "    u, i, rating = row['user_id'], row['item_id'], row['rating']\n",
    "    X_train[0] = np.append(X_train[0], int(u))\n",
    "    X_train[1] = np.append(X_train[1], int(i))\n",
    "    y_train = np.append(y_train, int(rating))"
   ]
  },
  {
   "cell_type": "code",
   "execution_count": null,
   "id": "398740c0",
   "metadata": {},
   "outputs": [],
   "source": [
    "# Datos de test\n",
    "X_test = [np.array([], dtype=int), np.array([], dtype=int)]\n",
    "y_test = np.array([], dtype=int)\n",
    "\n",
    "for idx, row in data_test.iterrows():\n",
    "    u, i, rating = row['user_id'], row['item_id'], row['rating']\n",
    "    X_test[0] = np.append(X_test[0], int(u))\n",
    "    X_test[1] = np.append(X_test[1], int(i))\n",
    "    y_test = np.append(y_test, int(rating))"
   ]
  },
  {
   "cell_type": "markdown",
   "id": "1d1e4ff9",
   "metadata": {},
   "source": [
    "Una vez divido el dataset en entrenamiento y test, vamos a pasar a probar los diferentes métodos:"
   ]
  },
  {
   "cell_type": "markdown",
   "id": "04f3d9a8",
   "metadata": {},
   "source": [
    "### Generalized Matrix Factorization"
   ]
  },
  {
   "cell_type": "code",
   "execution_count": null,
   "id": "b454f872",
   "metadata": {},
   "outputs": [],
   "source": [
    "latent_dim = 5\n",
    "epochs = 10"
   ]
  },
  {
   "cell_type": "code",
   "execution_count": null,
   "id": "b04fc40b",
   "metadata": {},
   "outputs": [
    {
     "data": {
      "text/html": [
       "<pre style=\"white-space:pre;overflow-x:auto;line-height:normal;font-family:Menlo,'DejaVu Sans Mono',consolas,'Courier New',monospace\"><span style=\"font-weight: bold\">Model: \"functional_5\"</span>\n",
       "</pre>\n"
      ],
      "text/plain": [
       "\u001b[1mModel: \"functional_5\"\u001b[0m\n"
      ]
     },
     "metadata": {},
     "output_type": "display_data"
    },
    {
     "data": {
      "text/html": [
       "<pre style=\"white-space:pre;overflow-x:auto;line-height:normal;font-family:Menlo,'DejaVu Sans Mono',consolas,'Courier New',monospace\">┏━━━━━━━━━━━━━━━━━━━━━┳━━━━━━━━━━━━━━━━━━━┳━━━━━━━━━━━━┳━━━━━━━━━━━━━━━━━━━┓\n",
       "┃<span style=\"font-weight: bold\"> Layer (type)        </span>┃<span style=\"font-weight: bold\"> Output Shape      </span>┃<span style=\"font-weight: bold\">    Param # </span>┃<span style=\"font-weight: bold\"> Connected to      </span>┃\n",
       "┡━━━━━━━━━━━━━━━━━━━━━╇━━━━━━━━━━━━━━━━━━━╇━━━━━━━━━━━━╇━━━━━━━━━━━━━━━━━━━┩\n",
       "│ input_layer_10      │ (<span style=\"color: #00d7ff; text-decoration-color: #00d7ff\">None</span>, <span style=\"color: #00af00; text-decoration-color: #00af00\">1</span>)         │          <span style=\"color: #00af00; text-decoration-color: #00af00\">0</span> │ -                 │\n",
       "│ (<span style=\"color: #0087ff; text-decoration-color: #0087ff\">InputLayer</span>)        │                   │            │                   │\n",
       "├─────────────────────┼───────────────────┼────────────┼───────────────────┤\n",
       "│ input_layer_11      │ (<span style=\"color: #00d7ff; text-decoration-color: #00d7ff\">None</span>, <span style=\"color: #00af00; text-decoration-color: #00af00\">1</span>)         │          <span style=\"color: #00af00; text-decoration-color: #00af00\">0</span> │ -                 │\n",
       "│ (<span style=\"color: #0087ff; text-decoration-color: #0087ff\">InputLayer</span>)        │                   │            │                   │\n",
       "├─────────────────────┼───────────────────┼────────────┼───────────────────┤\n",
       "│ embedding_10        │ (<span style=\"color: #00d7ff; text-decoration-color: #00d7ff\">None</span>, <span style=\"color: #00af00; text-decoration-color: #00af00\">1</span>, <span style=\"color: #00af00; text-decoration-color: #00af00\">5</span>)      │      <span style=\"color: #00af00; text-decoration-color: #00af00\">7,740</span> │ input_layer_10[<span style=\"color: #00af00; text-decoration-color: #00af00\">0</span>… │\n",
       "│ (<span style=\"color: #0087ff; text-decoration-color: #0087ff\">Embedding</span>)         │                   │            │                   │\n",
       "├─────────────────────┼───────────────────┼────────────┼───────────────────┤\n",
       "│ embedding_11        │ (<span style=\"color: #00d7ff; text-decoration-color: #00d7ff\">None</span>, <span style=\"color: #00af00; text-decoration-color: #00af00\">1</span>, <span style=\"color: #00af00; text-decoration-color: #00af00\">5</span>)      │    <span style=\"color: #00af00; text-decoration-color: #00af00\">644,385</span> │ input_layer_11[<span style=\"color: #00af00; text-decoration-color: #00af00\">0</span>… │\n",
       "│ (<span style=\"color: #0087ff; text-decoration-color: #0087ff\">Embedding</span>)         │                   │            │                   │\n",
       "├─────────────────────┼───────────────────┼────────────┼───────────────────┤\n",
       "│ flatten_10          │ (<span style=\"color: #00d7ff; text-decoration-color: #00d7ff\">None</span>, <span style=\"color: #00af00; text-decoration-color: #00af00\">5</span>)         │          <span style=\"color: #00af00; text-decoration-color: #00af00\">0</span> │ embedding_10[<span style=\"color: #00af00; text-decoration-color: #00af00\">0</span>][<span style=\"color: #00af00; text-decoration-color: #00af00\">…</span> │\n",
       "│ (<span style=\"color: #0087ff; text-decoration-color: #0087ff\">Flatten</span>)           │                   │            │                   │\n",
       "├─────────────────────┼───────────────────┼────────────┼───────────────────┤\n",
       "│ flatten_11          │ (<span style=\"color: #00d7ff; text-decoration-color: #00d7ff\">None</span>, <span style=\"color: #00af00; text-decoration-color: #00af00\">5</span>)         │          <span style=\"color: #00af00; text-decoration-color: #00af00\">0</span> │ embedding_11[<span style=\"color: #00af00; text-decoration-color: #00af00\">0</span>][<span style=\"color: #00af00; text-decoration-color: #00af00\">…</span> │\n",
       "│ (<span style=\"color: #0087ff; text-decoration-color: #0087ff\">Flatten</span>)           │                   │            │                   │\n",
       "├─────────────────────┼───────────────────┼────────────┼───────────────────┤\n",
       "│ dot_5 (<span style=\"color: #0087ff; text-decoration-color: #0087ff\">Dot</span>)         │ (<span style=\"color: #00d7ff; text-decoration-color: #00d7ff\">None</span>, <span style=\"color: #00af00; text-decoration-color: #00af00\">1</span>)         │          <span style=\"color: #00af00; text-decoration-color: #00af00\">0</span> │ flatten_10[<span style=\"color: #00af00; text-decoration-color: #00af00\">0</span>][<span style=\"color: #00af00; text-decoration-color: #00af00\">0</span>], │\n",
       "│                     │                   │            │ flatten_11[<span style=\"color: #00af00; text-decoration-color: #00af00\">0</span>][<span style=\"color: #00af00; text-decoration-color: #00af00\">0</span>]  │\n",
       "└─────────────────────┴───────────────────┴────────────┴───────────────────┘\n",
       "</pre>\n"
      ],
      "text/plain": [
       "┏━━━━━━━━━━━━━━━━━━━━━┳━━━━━━━━━━━━━━━━━━━┳━━━━━━━━━━━━┳━━━━━━━━━━━━━━━━━━━┓\n",
       "┃\u001b[1m \u001b[0m\u001b[1mLayer (type)       \u001b[0m\u001b[1m \u001b[0m┃\u001b[1m \u001b[0m\u001b[1mOutput Shape     \u001b[0m\u001b[1m \u001b[0m┃\u001b[1m \u001b[0m\u001b[1m   Param #\u001b[0m\u001b[1m \u001b[0m┃\u001b[1m \u001b[0m\u001b[1mConnected to     \u001b[0m\u001b[1m \u001b[0m┃\n",
       "┡━━━━━━━━━━━━━━━━━━━━━╇━━━━━━━━━━━━━━━━━━━╇━━━━━━━━━━━━╇━━━━━━━━━━━━━━━━━━━┩\n",
       "│ input_layer_10      │ (\u001b[38;5;45mNone\u001b[0m, \u001b[38;5;34m1\u001b[0m)         │          \u001b[38;5;34m0\u001b[0m │ -                 │\n",
       "│ (\u001b[38;5;33mInputLayer\u001b[0m)        │                   │            │                   │\n",
       "├─────────────────────┼───────────────────┼────────────┼───────────────────┤\n",
       "│ input_layer_11      │ (\u001b[38;5;45mNone\u001b[0m, \u001b[38;5;34m1\u001b[0m)         │          \u001b[38;5;34m0\u001b[0m │ -                 │\n",
       "│ (\u001b[38;5;33mInputLayer\u001b[0m)        │                   │            │                   │\n",
       "├─────────────────────┼───────────────────┼────────────┼───────────────────┤\n",
       "│ embedding_10        │ (\u001b[38;5;45mNone\u001b[0m, \u001b[38;5;34m1\u001b[0m, \u001b[38;5;34m5\u001b[0m)      │      \u001b[38;5;34m7,740\u001b[0m │ input_layer_10[\u001b[38;5;34m0\u001b[0m… │\n",
       "│ (\u001b[38;5;33mEmbedding\u001b[0m)         │                   │            │                   │\n",
       "├─────────────────────┼───────────────────┼────────────┼───────────────────┤\n",
       "│ embedding_11        │ (\u001b[38;5;45mNone\u001b[0m, \u001b[38;5;34m1\u001b[0m, \u001b[38;5;34m5\u001b[0m)      │    \u001b[38;5;34m644,385\u001b[0m │ input_layer_11[\u001b[38;5;34m0\u001b[0m… │\n",
       "│ (\u001b[38;5;33mEmbedding\u001b[0m)         │                   │            │                   │\n",
       "├─────────────────────┼───────────────────┼────────────┼───────────────────┤\n",
       "│ flatten_10          │ (\u001b[38;5;45mNone\u001b[0m, \u001b[38;5;34m5\u001b[0m)         │          \u001b[38;5;34m0\u001b[0m │ embedding_10[\u001b[38;5;34m0\u001b[0m][\u001b[38;5;34m…\u001b[0m │\n",
       "│ (\u001b[38;5;33mFlatten\u001b[0m)           │                   │            │                   │\n",
       "├─────────────────────┼───────────────────┼────────────┼───────────────────┤\n",
       "│ flatten_11          │ (\u001b[38;5;45mNone\u001b[0m, \u001b[38;5;34m5\u001b[0m)         │          \u001b[38;5;34m0\u001b[0m │ embedding_11[\u001b[38;5;34m0\u001b[0m][\u001b[38;5;34m…\u001b[0m │\n",
       "│ (\u001b[38;5;33mFlatten\u001b[0m)           │                   │            │                   │\n",
       "├─────────────────────┼───────────────────┼────────────┼───────────────────┤\n",
       "│ dot_5 (\u001b[38;5;33mDot\u001b[0m)         │ (\u001b[38;5;45mNone\u001b[0m, \u001b[38;5;34m1\u001b[0m)         │          \u001b[38;5;34m0\u001b[0m │ flatten_10[\u001b[38;5;34m0\u001b[0m][\u001b[38;5;34m0\u001b[0m], │\n",
       "│                     │                   │            │ flatten_11[\u001b[38;5;34m0\u001b[0m][\u001b[38;5;34m0\u001b[0m]  │\n",
       "└─────────────────────┴───────────────────┴────────────┴───────────────────┘\n"
      ]
     },
     "metadata": {},
     "output_type": "display_data"
    },
    {
     "data": {
      "text/html": [
       "<pre style=\"white-space:pre;overflow-x:auto;line-height:normal;font-family:Menlo,'DejaVu Sans Mono',consolas,'Courier New',monospace\"><span style=\"font-weight: bold\"> Total params: </span><span style=\"color: #00af00; text-decoration-color: #00af00\">652,125</span> (2.49 MB)\n",
       "</pre>\n"
      ],
      "text/plain": [
       "\u001b[1m Total params: \u001b[0m\u001b[38;5;34m652,125\u001b[0m (2.49 MB)\n"
      ]
     },
     "metadata": {},
     "output_type": "display_data"
    },
    {
     "data": {
      "text/html": [
       "<pre style=\"white-space:pre;overflow-x:auto;line-height:normal;font-family:Menlo,'DejaVu Sans Mono',consolas,'Courier New',monospace\"><span style=\"font-weight: bold\"> Trainable params: </span><span style=\"color: #00af00; text-decoration-color: #00af00\">652,125</span> (2.49 MB)\n",
       "</pre>\n"
      ],
      "text/plain": [
       "\u001b[1m Trainable params: \u001b[0m\u001b[38;5;34m652,125\u001b[0m (2.49 MB)\n"
      ]
     },
     "metadata": {},
     "output_type": "display_data"
    },
    {
     "data": {
      "text/html": [
       "<pre style=\"white-space:pre;overflow-x:auto;line-height:normal;font-family:Menlo,'DejaVu Sans Mono',consolas,'Courier New',monospace\"><span style=\"font-weight: bold\"> Non-trainable params: </span><span style=\"color: #00af00; text-decoration-color: #00af00\">0</span> (0.00 B)\n",
       "</pre>\n"
      ],
      "text/plain": [
       "\u001b[1m Non-trainable params: \u001b[0m\u001b[38;5;34m0\u001b[0m (0.00 B)\n"
      ]
     },
     "metadata": {},
     "output_type": "display_data"
    },
    {
     "name": "stdout",
     "output_type": "stream",
     "text": [
      "Epoch 1/10\n"
     ]
    },
    {
     "name": "stderr",
     "output_type": "stream",
     "text": [
      "c:\\Users\\jcarr\\AppData\\Local\\Programs\\Python\\Python312\\Lib\\site-packages\\keras\\src\\models\\functional.py:225: UserWarning: The structure of `inputs` doesn't match the expected structure: ['keras_tensor_35', 'keras_tensor_38']. Received: the structure of inputs=('*', '*')\n",
      "  warnings.warn(\n"
     ]
    },
    {
     "name": "stdout",
     "output_type": "stream",
     "text": [
      "\u001b[1m3679/3679\u001b[0m \u001b[32m━━━━━━━━━━━━━━━━━━━━\u001b[0m\u001b[37m\u001b[0m \u001b[1m28s\u001b[0m 7ms/step - loss: 22.7690 - mae: 4.6769\n",
      "Epoch 2/10\n",
      "\u001b[1m3679/3679\u001b[0m \u001b[32m━━━━━━━━━━━━━━━━━━━━\u001b[0m\u001b[37m\u001b[0m \u001b[1m25s\u001b[0m 7ms/step - loss: 22.4170 - mae: 4.6379\n",
      "Epoch 3/10\n",
      "\u001b[1m3679/3679\u001b[0m \u001b[32m━━━━━━━━━━━━━━━━━━━━\u001b[0m\u001b[37m\u001b[0m \u001b[1m26s\u001b[0m 7ms/step - loss: 19.7140 - mae: 4.3260\n",
      "Epoch 4/10\n",
      "\u001b[1m3679/3679\u001b[0m \u001b[32m━━━━━━━━━━━━━━━━━━━━\u001b[0m\u001b[37m\u001b[0m \u001b[1m24s\u001b[0m 7ms/step - loss: 14.5139 - mae: 3.6218\n",
      "Epoch 5/10\n",
      "\u001b[1m3679/3679\u001b[0m \u001b[32m━━━━━━━━━━━━━━━━━━━━\u001b[0m\u001b[37m\u001b[0m \u001b[1m25s\u001b[0m 7ms/step - loss: 9.5261 - mae: 2.7259\n",
      "Epoch 6/10\n",
      "\u001b[1m3679/3679\u001b[0m \u001b[32m━━━━━━━━━━━━━━━━━━━━\u001b[0m\u001b[37m\u001b[0m \u001b[1m25s\u001b[0m 7ms/step - loss: 6.0471 - mae: 1.9582\n",
      "Epoch 7/10\n",
      "\u001b[1m3679/3679\u001b[0m \u001b[32m━━━━━━━━━━━━━━━━━━━━\u001b[0m\u001b[37m\u001b[0m \u001b[1m25s\u001b[0m 7ms/step - loss: 3.9117 - mae: 1.4490\n",
      "Epoch 8/10\n",
      "\u001b[1m3679/3679\u001b[0m \u001b[32m━━━━━━━━━━━━━━━━━━━━\u001b[0m\u001b[37m\u001b[0m \u001b[1m24s\u001b[0m 7ms/step - loss: 2.6311 - mae: 1.1177\n",
      "Epoch 9/10\n",
      "\u001b[1m3679/3679\u001b[0m \u001b[32m━━━━━━━━━━━━━━━━━━━━\u001b[0m\u001b[37m\u001b[0m \u001b[1m24s\u001b[0m 7ms/step - loss: 1.7973 - mae: 0.8779\n",
      "Epoch 10/10\n",
      "\u001b[1m3679/3679\u001b[0m \u001b[32m━━━━━━━━━━━━━━━━━━━━\u001b[0m\u001b[37m\u001b[0m \u001b[1m24s\u001b[0m 7ms/step - loss: 1.3342 - mae: 0.7339\n"
     ]
    },
    {
     "data": {
      "text/plain": [
       "<keras.src.callbacks.history.History at 0x222b4f658b0>"
      ]
     },
     "metadata": {},
     "output_type": "display_data"
    }
   ],
   "source": [
    "# Definimos la estructura del modelo\n",
    "user_input = Input(shape=[1])\n",
    "user_embedding = Embedding(NUM_USERS, latent_dim)(user_input)\n",
    "user_vec = Flatten()(user_embedding)\n",
    "\n",
    "item_input = Input(shape=[1])\n",
    "item_embedding = Embedding(NUM_ITEMS, latent_dim)(item_input)\n",
    "item_vec = Flatten()(item_embedding)\n",
    "\n",
    "output = Dot(axes=1)([user_vec, item_vec])\n",
    "GMF = Model([user_input, item_input], output)\n",
    "\n",
    "\n",
    "# Entrenamos el modelo\n",
    "GMF.compile(optimizer='adam', metrics=['mae'], loss='mean_squared_error')\n",
    "GMF.summary()\n",
    "GMF.fit(X_train, y_train, epochs=epochs, verbose=1)\n",
    "\n",
    "\n",
    "y_pred = GMF.predict(X_test)\n",
    "\n",
    "# Redondeamos y_pred al valor más cercano para calcular las métricas de precision, recall y f1\n",
    "y_pred_round = np.clip(np.round(y_pred), 1, 5).astype(int)\n",
    "y_pred_round"
   ]
  },
  {
   "cell_type": "code",
   "execution_count": null,
   "id": "470c5feb",
   "metadata": {},
   "outputs": [
    {
     "name": "stdout",
     "output_type": "stream",
     "text": [
      "MAE = 4.480851933396575\n",
      "RMSE = 4.7279768030282545\n",
      "Precision = 0.21868724882802656\n",
      "Recall = 0.21154188528194912\n",
      "F1 = 0.03966921560445984\n"
     ]
    }
   ],
   "source": [
    "mae = mean_absolute_error(y_test, y_pred)\n",
    "rmse = np.sqrt(mean_squared_error(y_test, y_pred))\n",
    "precision = precision_score(y_test, y_pred_round, average='macro')\n",
    "recall = recall_score(y_test, y_pred_round, average='macro')\n",
    "f1 = f1_score(y_test, y_pred_round, average='macro')\n",
    "\n",
    "print(\"MAE = \" + str(mae))\n",
    "print(\"RMSE = \" + str(rmse))\n",
    "print(\"Precision = \" + str(precision))\n",
    "print(\"Recall = \" + str(recall))\n",
    "print(\"F1 = \" + str(f1))"
   ]
  },
  {
   "cell_type": "markdown",
   "id": "1a528988",
   "metadata": {},
   "source": [
    "Comparando el error MAE de los datos de entrenamiento con los datos de test, obtenemos un gran contraste ya que mientras el MAE en el entrenamiento es de 0.73, el del test es de 4.48. Esto puede indicar que el modelo se está sobreajustando."
   ]
  },
  {
   "cell_type": "markdown",
   "id": "d99c6c6b",
   "metadata": {},
   "source": [
    "Vamos a modificar el modelo añadiendo una capa de activación sigmoide y asegurarnos de que el modelo devuelve valores entre 1 y 5."
   ]
  },
  {
   "cell_type": "code",
   "execution_count": null,
   "id": "a72b3f7f",
   "metadata": {},
   "outputs": [
    {
     "name": "stdout",
     "output_type": "stream",
     "text": [
      "WARNING:tensorflow:From c:\\Users\\jcarr\\AppData\\Local\\Programs\\Python\\Python312\\Lib\\site-packages\\keras\\src\\backend\\tensorflow\\core.py:204: The name tf.placeholder is deprecated. Please use tf.compat.v1.placeholder instead.\n",
      "\n"
     ]
    }
   ],
   "source": [
    "user_input = Input(shape=[1])\n",
    "user_embedding = Embedding(NUM_USERS, latent_dim)(user_input)\n",
    "user_vec = Flatten()(user_embedding)\n",
    "\n",
    "item_input = Input(shape=[1])\n",
    "item_embedding = Embedding(NUM_ITEMS, latent_dim)(item_input)\n",
    "item_vec = Flatten()(item_embedding)\n",
    "\n",
    "dot = Dot(axes=1)([user_vec, item_vec])\n",
    "\n",
    "# Capa de activación\n",
    "output = Activation('sigmoid')(dot)\n",
    "output = Lambda(lambda x: x * 4 + 1)(output) # Valores entre 1 y 5\n",
    "\n",
    "GMF = Model([user_input, item_input], output)\n",
    "\n",
    "\n",
    "# Entrenamos el modelo\n",
    "GMF.compile(optimizer='adam', metrics=['mae'], loss='mean_squared_error')\n",
    "GMF.summary()\n",
    "GMF.fit(X_train, y_train, epochs=epochs, verbose=1)\n",
    "\n",
    "\n",
    "y_pred = GMF.predict(X_test)\n",
    "\n",
    "# Redondeamos y_pred al valor más cercano para calcular las métricas de precision, recall y f1\n",
    "y_pred_round = np.clip(np.round(y_pred), 1, 5).astype(int)\n",
    "y_pred_round"
   ]
  },
  {
   "cell_type": "code",
   "execution_count": null,
   "id": "8158c6b2",
   "metadata": {},
   "outputs": [
    {
     "name": "stdout",
     "output_type": "stream",
     "text": [
      "MAE = 1.8176509327209238\n",
      "RMSE = 1.9568731081104456\n",
      "Precision = 0.22034206596217593\n",
      "Recall = 0.21990608939982334\n",
      "F1 = 0.05875245525484862\n"
     ]
    }
   ],
   "source": [
    "mae = mean_absolute_error(y_test, y_pred)\n",
    "rmse = np.sqrt(mean_squared_error(y_test, y_pred))\n",
    "precision = precision_score(y_test, y_pred_round, average='macro')\n",
    "recall = recall_score(y_test, y_pred_round, average='macro')\n",
    "f1 = f1_score(y_test, y_pred_round, average='macro')\n",
    "\n",
    "print(\"MAE = \" + str(mae))\n",
    "print(\"RMSE = \" + str(rmse))\n",
    "print(\"Precision = \" + str(precision))\n",
    "print(\"Recall = \" + str(recall))\n",
    "print(\"F1 = \" + str(f1))"
   ]
  },
  {
   "cell_type": "markdown",
   "id": "59077bf8",
   "metadata": {},
   "source": [
    "Con la modificación de la capa activación, el error se reduce notablemente y la precisión, recall y F1 mejoran ligeramente. Vamos a intentar reducir el error optimizando los parámetros."
   ]
  },
  {
   "cell_type": "markdown",
   "id": "184cc693",
   "metadata": {},
   "source": [
    "### Factores latentes"
   ]
  },
  {
   "cell_type": "code",
   "execution_count": null,
   "id": "a488560d",
   "metadata": {},
   "outputs": [
    {
     "name": "stderr",
     "output_type": "stream",
     "text": [
      "c:\\Users\\jcarr\\AppData\\Local\\Programs\\Python\\Python312\\Lib\\site-packages\\keras\\src\\models\\functional.py:225: UserWarning: The structure of `inputs` doesn't match the expected structure: ['keras_tensor_53', 'keras_tensor_56']. Received: the structure of inputs=('*', '*')\n",
      "  warnings.warn(\n"
     ]
    },
    {
     "name": "stdout",
     "output_type": "stream",
     "text": [
      "\u001b[1m920/920\u001b[0m \u001b[32m━━━━━━━━━━━━━━━━━━━━\u001b[0m\u001b[37m\u001b[0m \u001b[1m2s\u001b[0m 2ms/step\n"
     ]
    },
    {
     "name": "stderr",
     "output_type": "stream",
     "text": [
      "c:\\Users\\jcarr\\AppData\\Local\\Programs\\Python\\Python312\\Lib\\site-packages\\keras\\src\\models\\functional.py:225: UserWarning: The structure of `inputs` doesn't match the expected structure: ['keras_tensor_64', 'keras_tensor_67']. Received: the structure of inputs=('*', '*')\n",
      "  warnings.warn(\n"
     ]
    },
    {
     "name": "stdout",
     "output_type": "stream",
     "text": [
      "\u001b[1m920/920\u001b[0m \u001b[32m━━━━━━━━━━━━━━━━━━━━\u001b[0m\u001b[37m\u001b[0m \u001b[1m2s\u001b[0m 2ms/step\n"
     ]
    },
    {
     "name": "stderr",
     "output_type": "stream",
     "text": [
      "c:\\Users\\jcarr\\AppData\\Local\\Programs\\Python\\Python312\\Lib\\site-packages\\keras\\src\\models\\functional.py:225: UserWarning: The structure of `inputs` doesn't match the expected structure: ['keras_tensor_75', 'keras_tensor_78']. Received: the structure of inputs=('*', '*')\n",
      "  warnings.warn(\n"
     ]
    },
    {
     "name": "stdout",
     "output_type": "stream",
     "text": [
      "\u001b[1m920/920\u001b[0m \u001b[32m━━━━━━━━━━━━━━━━━━━━\u001b[0m\u001b[37m\u001b[0m \u001b[1m2s\u001b[0m 2ms/step\n"
     ]
    },
    {
     "name": "stderr",
     "output_type": "stream",
     "text": [
      "c:\\Users\\jcarr\\AppData\\Local\\Programs\\Python\\Python312\\Lib\\site-packages\\keras\\src\\models\\functional.py:225: UserWarning: The structure of `inputs` doesn't match the expected structure: ['keras_tensor_86', 'keras_tensor_89']. Received: the structure of inputs=('*', '*')\n",
      "  warnings.warn(\n"
     ]
    },
    {
     "name": "stdout",
     "output_type": "stream",
     "text": [
      "\u001b[1m920/920\u001b[0m \u001b[32m━━━━━━━━━━━━━━━━━━━━\u001b[0m\u001b[37m\u001b[0m \u001b[1m2s\u001b[0m 3ms/step\n"
     ]
    },
    {
     "name": "stderr",
     "output_type": "stream",
     "text": [
      "c:\\Users\\jcarr\\AppData\\Local\\Programs\\Python\\Python312\\Lib\\site-packages\\keras\\src\\models\\functional.py:225: UserWarning: The structure of `inputs` doesn't match the expected structure: ['keras_tensor_97', 'keras_tensor_100']. Received: the structure of inputs=('*', '*')\n",
      "  warnings.warn(\n"
     ]
    },
    {
     "name": "stdout",
     "output_type": "stream",
     "text": [
      "\u001b[1m920/920\u001b[0m \u001b[32m━━━━━━━━━━━━━━━━━━━━\u001b[0m\u001b[37m\u001b[0m \u001b[1m3s\u001b[0m 3ms/step\n"
     ]
    },
    {
     "name": "stderr",
     "output_type": "stream",
     "text": [
      "c:\\Users\\jcarr\\AppData\\Local\\Programs\\Python\\Python312\\Lib\\site-packages\\keras\\src\\models\\functional.py:225: UserWarning: The structure of `inputs` doesn't match the expected structure: ['keras_tensor_108', 'keras_tensor_111']. Received: the structure of inputs=('*', '*')\n",
      "  warnings.warn(\n"
     ]
    },
    {
     "name": "stdout",
     "output_type": "stream",
     "text": [
      "\u001b[1m920/920\u001b[0m \u001b[32m━━━━━━━━━━━━━━━━━━━━\u001b[0m\u001b[37m\u001b[0m \u001b[1m2s\u001b[0m 2ms/step\n"
     ]
    },
    {
     "name": "stderr",
     "output_type": "stream",
     "text": [
      "c:\\Users\\jcarr\\AppData\\Local\\Programs\\Python\\Python312\\Lib\\site-packages\\keras\\src\\models\\functional.py:225: UserWarning: The structure of `inputs` doesn't match the expected structure: ['keras_tensor_119', 'keras_tensor_122']. Received: the structure of inputs=('*', '*')\n",
      "  warnings.warn(\n"
     ]
    },
    {
     "name": "stdout",
     "output_type": "stream",
     "text": [
      "\u001b[1m920/920\u001b[0m \u001b[32m━━━━━━━━━━━━━━━━━━━━\u001b[0m\u001b[37m\u001b[0m \u001b[1m2s\u001b[0m 2ms/step\n"
     ]
    }
   ],
   "source": [
    "list_mae = []\n",
    "list_f1 = []\n",
    "\n",
    "for latent_dim in list(range(4, 11)):\n",
    "    user_input = Input(shape=[1])\n",
    "    user_embedding = Embedding(NUM_USERS, latent_dim)(user_input)\n",
    "    user_vec = Flatten()(user_embedding)\n",
    "\n",
    "    item_input = Input(shape=[1])\n",
    "    item_embedding = Embedding(NUM_ITEMS, latent_dim)(item_input)\n",
    "    item_vec = Flatten()(item_embedding)\n",
    "\n",
    "    dot = Dot(axes=1)([user_vec, item_vec])\n",
    "\n",
    "    # Capa de activación\n",
    "    output = Activation('sigmoid')(dot)\n",
    "    output = Lambda(lambda x: x * 4 + 1)(output)\n",
    "\n",
    "    GMF = Model([user_input, item_input], output)\n",
    "\n",
    "\n",
    "    # Entrenamos el modelo\n",
    "    GMF.compile(optimizer='adam', metrics=['mae'], loss='mean_squared_error')\n",
    "    GMF.fit(X_train, y_train, epochs=epochs, verbose=0)\n",
    "\n",
    "\n",
    "    y_pred = GMF.predict(X_test)\n",
    "    # Redondeamos y_pred al valor más cercano para calcular las métricas de precision\n",
    "    y_pred_round = np.clip(np.round(y_pred), 1, 5).astype(int)\n",
    "\n",
    "\n",
    "    mae = mean_absolute_error(y_test, y_pred)\n",
    "    f1 = f1_score(y_test, y_pred_round, average='macro')\n",
    "    list_mae.append(mae)\n",
    "    list_f1.append(f1)"
   ]
  },
  {
   "cell_type": "code",
   "execution_count": null,
   "id": "449c0f00",
   "metadata": {},
   "outputs": [
    {
     "data": {
      "image/png": "[encoded data removed]",
      "text/plain": [
       "<Figure size 800x500 with 1 Axes>"
      ]
     },
     "metadata": {},
     "output_type": "display_data"
    }
   ],
   "source": [
    "x = list(range(4, 11))\n",
    "\n",
    "plt.figure(figsize=(8, 5))\n",
    "plt.plot(x, list_mae, label='MAE')\n",
    "plt.plot(x, list_f1, label='F1')\n",
    "\n",
    "plt.xticks(x)\n",
    "plt.xlabel('Factores Latentes')\n",
    "plt.legend()\n",
    "plt.grid(True)\n",
    "\n",
    "plt.show()\n"
   ]
  },
  {
   "cell_type": "code",
   "execution_count": null,
   "id": "d7ae7c67",
   "metadata": {},
   "outputs": [
    {
     "name": "stdout",
     "output_type": "stream",
     "text": [
      "Errores MAE\n"
     ]
    },
    {
     "data": {
      "text/plain": [
       "{7: 1.7510351799210728,\n",
       " 8: 1.7532775695717366,\n",
       " 10: 1.7658646874645247,\n",
       " 5: 1.7787774103773795,\n",
       " 4: 1.7871166090367685,\n",
       " 6: 1.7973303352261718,\n",
       " 9: 1.8012618371183593}"
      ]
     },
     "metadata": {},
     "output_type": "display_data"
    }
   ],
   "source": [
    "print(f'Errores MAE')\n",
    "dict(sorted({i: j for i, j in zip(list(range(4, 11)), list_mae)}.items(), key=lambda item: item[1], reverse=False))"
   ]
  },
  {
   "cell_type": "code",
   "execution_count": null,
   "id": "2aefe4a1",
   "metadata": {},
   "outputs": [
    {
     "name": "stdout",
     "output_type": "stream",
     "text": [
      "F1 Score\n"
     ]
    },
    {
     "data": {
      "text/plain": [
       "{7: 0.07044832545151826,\n",
       " 8: 0.06816506522406429,\n",
       " 5: 0.06567818866228818,\n",
       " 10: 0.06368093950345206,\n",
       " 4: 0.06201162527810896,\n",
       " 6: 0.05945204786434087,\n",
       " 9: 0.057144376773335545}"
      ]
     },
     "metadata": {},
     "output_type": "display_data"
    }
   ],
   "source": [
    "print(f'F1 Score')\n",
    "dict(sorted({i: j for i, j in zip(list(range(4, 11)), list_f1)}.items(), key=lambda item: item[1], reverse=True))"
   ]
  },
  {
   "cell_type": "markdown",
   "id": "e9996f30",
   "metadata": {},
   "source": [
    "Obtenemos los mejores resultados con `7 factores latentes`."
   ]
  },
  {
   "cell_type": "markdown",
   "id": "febadde8",
   "metadata": {},
   "source": [
    "### Epochs"
   ]
  },
  {
   "cell_type": "code",
   "execution_count": null,
   "id": "240e69ab",
   "metadata": {},
   "outputs": [
    {
     "name": "stdout",
     "output_type": "stream",
     "text": [
      "WARNING:tensorflow:From c:\\Users\\jcarr\\AppData\\Local\\Programs\\Python\\Python312\\Lib\\site-packages\\keras\\src\\backend\\tensorflow\\core.py:219: The name tf.placeholder is deprecated. Please use tf.compat.v1.placeholder instead.\n",
      "\n",
      "\u001b[1m920/920\u001b[0m \u001b[32m━━━━━━━━━━━━━━━━━━━━\u001b[0m\u001b[37m\u001b[0m \u001b[1m1s\u001b[0m 526us/step\n",
      "\u001b[1m920/920\u001b[0m \u001b[32m━━━━━━━━━━━━━━━━━━━━\u001b[0m\u001b[37m\u001b[0m \u001b[1m1s\u001b[0m 543us/step\n",
      "\u001b[1m920/920\u001b[0m \u001b[32m━━━━━━━━━━━━━━━━━━━━\u001b[0m\u001b[37m\u001b[0m \u001b[1m1s\u001b[0m 603us/step\n",
      "\u001b[1m920/920\u001b[0m \u001b[32m━━━━━━━━━━━━━━━━━━━━\u001b[0m\u001b[37m\u001b[0m \u001b[1m1s\u001b[0m 592us/step\n",
      "\u001b[1m920/920\u001b[0m \u001b[32m━━━━━━━━━━━━━━━━━━━━\u001b[0m\u001b[37m\u001b[0m \u001b[1m1s\u001b[0m 588us/step\n",
      "\u001b[1m920/920\u001b[0m \u001b[32m━━━━━━━━━━━━━━━━━━━━\u001b[0m\u001b[37m\u001b[0m \u001b[1m1s\u001b[0m 596us/step\n",
      "\u001b[1m920/920\u001b[0m \u001b[32m━━━━━━━━━━━━━━━━━━━━\u001b[0m\u001b[37m\u001b[0m \u001b[1m1s\u001b[0m 595us/step\n",
      "\u001b[1m920/920\u001b[0m \u001b[32m━━━━━━━━━━━━━━━━━━━━\u001b[0m\u001b[37m\u001b[0m \u001b[1m1s\u001b[0m 599us/step\n",
      "\u001b[1m920/920\u001b[0m \u001b[32m━━━━━━━━━━━━━━━━━━━━\u001b[0m\u001b[37m\u001b[0m \u001b[1m1s\u001b[0m 584us/step\n",
      "\u001b[1m920/920\u001b[0m \u001b[32m━━━━━━━━━━━━━━━━━━━━\u001b[0m\u001b[37m\u001b[0m \u001b[1m1s\u001b[0m 587us/step\n",
      "\u001b[1m920/920\u001b[0m \u001b[32m━━━━━━━━━━━━━━━━━━━━\u001b[0m\u001b[37m\u001b[0m \u001b[1m1s\u001b[0m 644us/step\n"
     ]
    }
   ],
   "source": [
    "list_mae = []\n",
    "list_f1 = []\n",
    "latent_dim = 7\n",
    "\n",
    "for epochs in list(range(5, 16)):\n",
    "    user_input = Input(shape=[1])\n",
    "    user_embedding = Embedding(NUM_USERS, latent_dim)(user_input)\n",
    "    user_vec = Flatten()(user_embedding)\n",
    "\n",
    "    item_input = Input(shape=[1])\n",
    "    item_embedding = Embedding(NUM_ITEMS, latent_dim)(item_input)\n",
    "    item_vec = Flatten()(item_embedding)\n",
    "\n",
    "    dot = Dot(axes=1)([user_vec, item_vec])\n",
    "\n",
    "    # Capa de activación\n",
    "    output = Activation('sigmoid')(dot)\n",
    "    output = Lambda(lambda x: x * 4 + 1)(output)\n",
    "\n",
    "    GMF = Model([user_input, item_input], output)\n",
    "\n",
    "\n",
    "    # Entrenamos el modelo\n",
    "    GMF.compile(optimizer='adam', metrics=['mae'], loss='mean_squared_error')\n",
    "    GMF.fit(X_train, y_train, epochs=epochs, verbose=0)\n",
    "\n",
    "\n",
    "    y_pred = GMF.predict(X_test)\n",
    "    # Redondeamos y_pred al valor más cercano para calcular las métricas de precision\n",
    "    y_pred_round = np.clip(np.round(y_pred), 1, 5).astype(int)\n",
    "    y_pred_round\n",
    "\n",
    "\n",
    "    mae = mean_absolute_error(y_test, y_pred)\n",
    "    f1 = f1_score(y_test, y_pred_round, average='macro')\n",
    "    list_mae.append(mae)\n",
    "    list_f1.append(f1)"
   ]
  },
  {
   "cell_type": "code",
   "execution_count": null,
   "id": "b88717c8",
   "metadata": {},
   "outputs": [
    {
     "data": {
      "image/png": "[encoded data removed]",
      "text/plain": [
       "<Figure size 800x500 with 1 Axes>"
      ]
     },
     "metadata": {},
     "output_type": "display_data"
    }
   ],
   "source": [
    "x = list(range(5, 16))\n",
    "\n",
    "plt.figure(figsize=(8, 5))\n",
    "plt.plot(x, list_mae, label='MAE')\n",
    "plt.plot(x, list_f1, label='F1')\n",
    "\n",
    "plt.xticks(x)\n",
    "plt.xlabel('Epochs')\n",
    "plt.legend()\n",
    "plt.grid(True)\n",
    "\n",
    "plt.show()\n"
   ]
  },
  {
   "cell_type": "code",
   "execution_count": null,
   "id": "6d83491e",
   "metadata": {},
   "outputs": [
    {
     "name": "stdout",
     "output_type": "stream",
     "text": [
      "Errores MAE\n"
     ]
    },
    {
     "data": {
      "text/plain": [
       "{11: 1.7366455793380737,\n",
       " 13: 1.7427388429641724,\n",
       " 7: 1.7607262134552002,\n",
       " 10: 1.7645498514175415,\n",
       " 8: 1.775308609008789,\n",
       " 9: 1.7758047580718994,\n",
       " 6: 1.7758793830871582,\n",
       " 14: 1.7839114665985107,\n",
       " 12: 1.7850351333618164,\n",
       " 15: 1.7876464128494263,\n",
       " 5: 1.8305203914642334}"
      ]
     },
     "metadata": {},
     "output_type": "display_data"
    }
   ],
   "source": [
    "print(f'Errores MAE')\n",
    "dict(sorted({i: j for i, j in zip(list(range(5, 16)), list_mae)}.items(), key=lambda item: item[1], reverse=False))"
   ]
  },
  {
   "cell_type": "code",
   "execution_count": null,
   "id": "0df7be85",
   "metadata": {},
   "outputs": [
    {
     "name": "stdout",
     "output_type": "stream",
     "text": [
      "F1 Score\n"
     ]
    },
    {
     "data": {
      "text/plain": [
       "{13: 0.07263510813988286,\n",
       " 11: 0.07188441971498111,\n",
       " 14: 0.06315638891519859,\n",
       " 10: 0.06312760210281923,\n",
       " 15: 0.06276575414306336,\n",
       " 7: 0.06265448271885546,\n",
       " 12: 0.061396033328623464,\n",
       " 8: 0.06104639000335675,\n",
       " 9: 0.060525621707347564,\n",
       " 6: 0.05500787898136441,\n",
       " 5: 0.03773776189038798}"
      ]
     },
     "metadata": {},
     "output_type": "display_data"
    }
   ],
   "source": [
    "print(f'F1 Score')\n",
    "dict(sorted({i: j for i, j in zip(list(range(5, 16)), list_f1)}.items(), key=lambda item: item[1], reverse=True))"
   ]
  },
  {
   "cell_type": "markdown",
   "id": "446f6f09",
   "metadata": {},
   "source": [
    "Obtenemos el menor error con `11 epochs`."
   ]
  },
  {
   "cell_type": "markdown",
   "id": "63d714ab",
   "metadata": {},
   "source": [
    "### Ahora, vamos a obtener todas las métricas del modelo con los parámetros óptimos:"
   ]
  },
  {
   "cell_type": "code",
   "execution_count": null,
   "id": "e79f2f62",
   "metadata": {},
   "outputs": [],
   "source": [
    "latent_dim = 7\n",
    "epochs = 11"
   ]
  },
  {
   "cell_type": "code",
   "execution_count": null,
   "id": "632429c1",
   "metadata": {},
   "outputs": [
    {
     "name": "stdout",
     "output_type": "stream",
     "text": [
      "Epoch 1/11\n",
      "\u001b[1m3679/3679\u001b[0m \u001b[32m━━━━━━━━━━━━━━━━━━━━\u001b[0m\u001b[37m\u001b[0m \u001b[1m5s\u001b[0m 1ms/step - loss: 3.7129 - mae: 1.8913\n",
      "Epoch 2/11\n",
      "\u001b[1m3679/3679\u001b[0m \u001b[32m━━━━━━━━━━━━━━━━━━━━\u001b[0m\u001b[37m\u001b[0m \u001b[1m5s\u001b[0m 1ms/step - loss: 3.5451 - mae: 1.8463\n",
      "Epoch 3/11\n",
      "\u001b[1m3679/3679\u001b[0m \u001b[32m━━━━━━━━━━━━━━━━━━━━\u001b[0m\u001b[37m\u001b[0m \u001b[1m5s\u001b[0m 1ms/step - loss: 2.4174 - mae: 1.4928\n",
      "Epoch 4/11\n",
      "\u001b[1m3679/3679\u001b[0m \u001b[32m━━━━━━━━━━━━━━━━━━━━\u001b[0m\u001b[37m\u001b[0m \u001b[1m5s\u001b[0m 1ms/step - loss: 1.1925 - mae: 0.9630\n",
      "Epoch 5/11\n",
      "\u001b[1m3679/3679\u001b[0m \u001b[32m━━━━━━━━━━━━━━━━━━━━\u001b[0m\u001b[37m\u001b[0m \u001b[1m5s\u001b[0m 1ms/step - loss: 0.5553 - mae: 0.5785\n",
      "Epoch 6/11\n",
      "\u001b[1m3679/3679\u001b[0m \u001b[32m━━━━━━━━━━━━━━━━━━━━\u001b[0m\u001b[37m\u001b[0m \u001b[1m5s\u001b[0m 1ms/step - loss: 0.2764 - mae: 0.3602\n",
      "Epoch 7/11\n",
      "\u001b[1m3679/3679\u001b[0m \u001b[32m━━━━━━━━━━━━━━━━━━━━\u001b[0m\u001b[37m\u001b[0m \u001b[1m5s\u001b[0m 1ms/step - loss: 0.1531 - mae: 0.2360\n",
      "Epoch 8/11\n",
      "\u001b[1m3679/3679\u001b[0m \u001b[32m━━━━━━━━━━━━━━━━━━━━\u001b[0m\u001b[37m\u001b[0m \u001b[1m5s\u001b[0m 1ms/step - loss: 0.0916 - mae: 0.1614\n",
      "Epoch 9/11\n",
      "\u001b[1m3679/3679\u001b[0m \u001b[32m━━━━━━━━━━━━━━━━━━━━\u001b[0m\u001b[37m\u001b[0m \u001b[1m5s\u001b[0m 1ms/step - loss: 0.0599 - mae: 0.1171\n",
      "Epoch 10/11\n",
      "\u001b[1m3679/3679\u001b[0m \u001b[32m━━━━━━━━━━━━━━━━━━━━\u001b[0m\u001b[37m\u001b[0m \u001b[1m5s\u001b[0m 1ms/step - loss: 0.0428 - mae: 0.0880\n",
      "Epoch 11/11\n",
      "\u001b[1m3679/3679\u001b[0m \u001b[32m━━━━━━━━━━━━━━━━━━━━\u001b[0m\u001b[37m\u001b[0m \u001b[1m5s\u001b[0m 1ms/step - loss: 0.0330 - mae: 0.0711\n",
      "\u001b[1m920/920\u001b[0m \u001b[32m━━━━━━━━━━━━━━━━━━━━\u001b[0m\u001b[37m\u001b[0m \u001b[1m1s\u001b[0m 512us/step\n"
     ]
    },
    {
     "data": {
      "text/plain": [
       "array([[3],\n",
       "       [3],\n",
       "       [3],\n",
       "       ...,\n",
       "       [3],\n",
       "       [3],\n",
       "       [3]])"
      ]
     },
     "metadata": {},
     "output_type": "display_data"
    }
   ],
   "source": [
    "user_input = Input(shape=[1])\n",
    "user_embedding = Embedding(NUM_USERS, latent_dim)(user_input)\n",
    "user_vec = Flatten()(user_embedding)\n",
    "\n",
    "item_input = Input(shape=[1])\n",
    "item_embedding = Embedding(NUM_ITEMS, latent_dim)(item_input)\n",
    "item_vec = Flatten()(item_embedding)\n",
    "\n",
    "dot = Dot(axes=1)([user_vec, item_vec])\n",
    "\n",
    "# Capa de activación\n",
    "output = Activation('sigmoid')(dot)\n",
    "output = Lambda(lambda x: x * 4 + 1)(output)\n",
    "\n",
    "GMF = Model([user_input, item_input], output)\n",
    "\n",
    "\n",
    "# Entrenamos el modelo\n",
    "GMF.compile(optimizer='adam', metrics=['mae'], loss='mean_squared_error')\n",
    "GMF.fit(X_train, y_train, epochs=epochs, verbose=1)\n",
    "\n",
    "\n",
    "y_pred = GMF.predict(X_test)\n",
    "# Redondeamos y_pred al valor más cercano para calcular las métricas de precision\n",
    "y_pred_round = np.clip(np.round(y_pred), 1, 5).astype(int)\n",
    "y_pred_round"
   ]
  },
  {
   "cell_type": "code",
   "execution_count": null,
   "id": "2c4b6f96",
   "metadata": {},
   "outputs": [
    {
     "name": "stdout",
     "output_type": "stream",
     "text": [
      "MAE = 1.777532696723938\n",
      "RMSE = 1.9208537544053135\n",
      "Precision = 0.22021724974473714\n",
      "Recall = 0.21704513418127677\n",
      "F1 = 0.0620890893679001\n"
     ]
    }
   ],
   "source": [
    "mae = mean_absolute_error(y_test, y_pred)\n",
    "rmse = np.sqrt(mean_squared_error(y_test, y_pred))\n",
    "precision = precision_score(y_test, y_pred_round, average='macro')\n",
    "recall = recall_score(y_test, y_pred_round, average='macro')\n",
    "f1 = f1_score(y_test, y_pred_round, average='macro')\n",
    "\n",
    "print(\"MAE = \" + str(mae))\n",
    "print(\"RMSE = \" + str(rmse))\n",
    "print(\"Precision = \" + str(precision))\n",
    "print(\"Recall = \" + str(recall))\n",
    "print(\"F1 = \" + str(f1))"
   ]
  },
  {
   "cell_type": "markdown",
   "id": "e0962690",
   "metadata": {},
   "source": [
    "Las métricas no son muy buenas por lo que intentaremos mejorarlo con Multi Layer Perceptron."
   ]
  },
  {
   "cell_type": "markdown",
   "id": "44cc8245",
   "metadata": {},
   "source": [
    "### Multi Layer Perceptron"
   ]
  },
  {
   "cell_type": "code",
   "execution_count": null,
   "id": "ead1918f",
   "metadata": {},
   "outputs": [],
   "source": [
    "latent_dim = 5\n",
    "epochs = 10"
   ]
  },
  {
   "cell_type": "code",
   "execution_count": null,
   "id": "045aab6b",
   "metadata": {},
   "outputs": [
    {
     "data": {
      "text/html": [
       "<pre style=\"white-space:pre;overflow-x:auto;line-height:normal;font-family:Menlo,'DejaVu Sans Mono',consolas,'Courier New',monospace\"><span style=\"font-weight: bold\">Model: \"functional_12\"</span>\n",
       "</pre>\n"
      ],
      "text/plain": [
       "\u001b[1mModel: \"functional_12\"\u001b[0m\n"
      ]
     },
     "metadata": {},
     "output_type": "display_data"
    },
    {
     "data": {
      "text/html": [
       "<pre style=\"white-space:pre;overflow-x:auto;line-height:normal;font-family:Menlo,'DejaVu Sans Mono',consolas,'Courier New',monospace\">┏━━━━━━━━━━━━━━━━━━━━━┳━━━━━━━━━━━━━━━━━━━┳━━━━━━━━━━━━┳━━━━━━━━━━━━━━━━━━━┓\n",
       "┃<span style=\"font-weight: bold\"> Layer (type)        </span>┃<span style=\"font-weight: bold\"> Output Shape      </span>┃<span style=\"font-weight: bold\">    Param # </span>┃<span style=\"font-weight: bold\"> Connected to      </span>┃\n",
       "┡━━━━━━━━━━━━━━━━━━━━━╇━━━━━━━━━━━━━━━━━━━╇━━━━━━━━━━━━╇━━━━━━━━━━━━━━━━━━━┩\n",
       "│ input_layer_24      │ (<span style=\"color: #00d7ff; text-decoration-color: #00d7ff\">None</span>, <span style=\"color: #00af00; text-decoration-color: #00af00\">1</span>)         │          <span style=\"color: #00af00; text-decoration-color: #00af00\">0</span> │ -                 │\n",
       "│ (<span style=\"color: #0087ff; text-decoration-color: #0087ff\">InputLayer</span>)        │                   │            │                   │\n",
       "├─────────────────────┼───────────────────┼────────────┼───────────────────┤\n",
       "│ input_layer_25      │ (<span style=\"color: #00d7ff; text-decoration-color: #00d7ff\">None</span>, <span style=\"color: #00af00; text-decoration-color: #00af00\">1</span>)         │          <span style=\"color: #00af00; text-decoration-color: #00af00\">0</span> │ -                 │\n",
       "│ (<span style=\"color: #0087ff; text-decoration-color: #0087ff\">InputLayer</span>)        │                   │            │                   │\n",
       "├─────────────────────┼───────────────────┼────────────┼───────────────────┤\n",
       "│ embedding_24        │ (<span style=\"color: #00d7ff; text-decoration-color: #00d7ff\">None</span>, <span style=\"color: #00af00; text-decoration-color: #00af00\">1</span>, <span style=\"color: #00af00; text-decoration-color: #00af00\">5</span>)      │      <span style=\"color: #00af00; text-decoration-color: #00af00\">7,740</span> │ input_layer_24[<span style=\"color: #00af00; text-decoration-color: #00af00\">0</span>… │\n",
       "│ (<span style=\"color: #0087ff; text-decoration-color: #0087ff\">Embedding</span>)         │                   │            │                   │\n",
       "├─────────────────────┼───────────────────┼────────────┼───────────────────┤\n",
       "│ embedding_25        │ (<span style=\"color: #00d7ff; text-decoration-color: #00d7ff\">None</span>, <span style=\"color: #00af00; text-decoration-color: #00af00\">1</span>, <span style=\"color: #00af00; text-decoration-color: #00af00\">5</span>)      │    <span style=\"color: #00af00; text-decoration-color: #00af00\">644,385</span> │ input_layer_25[<span style=\"color: #00af00; text-decoration-color: #00af00\">0</span>… │\n",
       "│ (<span style=\"color: #0087ff; text-decoration-color: #0087ff\">Embedding</span>)         │                   │            │                   │\n",
       "├─────────────────────┼───────────────────┼────────────┼───────────────────┤\n",
       "│ flatten_24          │ (<span style=\"color: #00d7ff; text-decoration-color: #00d7ff\">None</span>, <span style=\"color: #00af00; text-decoration-color: #00af00\">5</span>)         │          <span style=\"color: #00af00; text-decoration-color: #00af00\">0</span> │ embedding_24[<span style=\"color: #00af00; text-decoration-color: #00af00\">0</span>][<span style=\"color: #00af00; text-decoration-color: #00af00\">…</span> │\n",
       "│ (<span style=\"color: #0087ff; text-decoration-color: #0087ff\">Flatten</span>)           │                   │            │                   │\n",
       "├─────────────────────┼───────────────────┼────────────┼───────────────────┤\n",
       "│ flatten_25          │ (<span style=\"color: #00d7ff; text-decoration-color: #00d7ff\">None</span>, <span style=\"color: #00af00; text-decoration-color: #00af00\">5</span>)         │          <span style=\"color: #00af00; text-decoration-color: #00af00\">0</span> │ embedding_25[<span style=\"color: #00af00; text-decoration-color: #00af00\">0</span>][<span style=\"color: #00af00; text-decoration-color: #00af00\">…</span> │\n",
       "│ (<span style=\"color: #0087ff; text-decoration-color: #0087ff\">Flatten</span>)           │                   │            │                   │\n",
       "├─────────────────────┼───────────────────┼────────────┼───────────────────┤\n",
       "│ concatenate         │ (<span style=\"color: #00d7ff; text-decoration-color: #00d7ff\">None</span>, <span style=\"color: #00af00; text-decoration-color: #00af00\">10</span>)        │          <span style=\"color: #00af00; text-decoration-color: #00af00\">0</span> │ flatten_24[<span style=\"color: #00af00; text-decoration-color: #00af00\">0</span>][<span style=\"color: #00af00; text-decoration-color: #00af00\">0</span>], │\n",
       "│ (<span style=\"color: #0087ff; text-decoration-color: #0087ff\">Concatenate</span>)       │                   │            │ flatten_25[<span style=\"color: #00af00; text-decoration-color: #00af00\">0</span>][<span style=\"color: #00af00; text-decoration-color: #00af00\">0</span>]  │\n",
       "├─────────────────────┼───────────────────┼────────────┼───────────────────┤\n",
       "│ dense (<span style=\"color: #0087ff; text-decoration-color: #0087ff\">Dense</span>)       │ (<span style=\"color: #00d7ff; text-decoration-color: #00d7ff\">None</span>, <span style=\"color: #00af00; text-decoration-color: #00af00\">20</span>)        │        <span style=\"color: #00af00; text-decoration-color: #00af00\">220</span> │ concatenate[<span style=\"color: #00af00; text-decoration-color: #00af00\">0</span>][<span style=\"color: #00af00; text-decoration-color: #00af00\">0</span>] │\n",
       "├─────────────────────┼───────────────────┼────────────┼───────────────────┤\n",
       "│ dense_1 (<span style=\"color: #0087ff; text-decoration-color: #0087ff\">Dense</span>)     │ (<span style=\"color: #00d7ff; text-decoration-color: #00d7ff\">None</span>, <span style=\"color: #00af00; text-decoration-color: #00af00\">10</span>)        │        <span style=\"color: #00af00; text-decoration-color: #00af00\">210</span> │ dense[<span style=\"color: #00af00; text-decoration-color: #00af00\">0</span>][<span style=\"color: #00af00; text-decoration-color: #00af00\">0</span>]       │\n",
       "├─────────────────────┼───────────────────┼────────────┼───────────────────┤\n",
       "│ dense_2 (<span style=\"color: #0087ff; text-decoration-color: #0087ff\">Dense</span>)     │ (<span style=\"color: #00d7ff; text-decoration-color: #00d7ff\">None</span>, <span style=\"color: #00af00; text-decoration-color: #00af00\">1</span>)         │         <span style=\"color: #00af00; text-decoration-color: #00af00\">11</span> │ dense_1[<span style=\"color: #00af00; text-decoration-color: #00af00\">0</span>][<span style=\"color: #00af00; text-decoration-color: #00af00\">0</span>]     │\n",
       "└─────────────────────┴───────────────────┴────────────┴───────────────────┘\n",
       "</pre>\n"
      ],
      "text/plain": [
       "┏━━━━━━━━━━━━━━━━━━━━━┳━━━━━━━━━━━━━━━━━━━┳━━━━━━━━━━━━┳━━━━━━━━━━━━━━━━━━━┓\n",
       "┃\u001b[1m \u001b[0m\u001b[1mLayer (type)       \u001b[0m\u001b[1m \u001b[0m┃\u001b[1m \u001b[0m\u001b[1mOutput Shape     \u001b[0m\u001b[1m \u001b[0m┃\u001b[1m \u001b[0m\u001b[1m   Param #\u001b[0m\u001b[1m \u001b[0m┃\u001b[1m \u001b[0m\u001b[1mConnected to     \u001b[0m\u001b[1m \u001b[0m┃\n",
       "┡━━━━━━━━━━━━━━━━━━━━━╇━━━━━━━━━━━━━━━━━━━╇━━━━━━━━━━━━╇━━━━━━━━━━━━━━━━━━━┩\n",
       "│ input_layer_24      │ (\u001b[38;5;45mNone\u001b[0m, \u001b[38;5;34m1\u001b[0m)         │          \u001b[38;5;34m0\u001b[0m │ -                 │\n",
       "│ (\u001b[38;5;33mInputLayer\u001b[0m)        │                   │            │                   │\n",
       "├─────────────────────┼───────────────────┼────────────┼───────────────────┤\n",
       "│ input_layer_25      │ (\u001b[38;5;45mNone\u001b[0m, \u001b[38;5;34m1\u001b[0m)         │          \u001b[38;5;34m0\u001b[0m │ -                 │\n",
       "│ (\u001b[38;5;33mInputLayer\u001b[0m)        │                   │            │                   │\n",
       "├─────────────────────┼───────────────────┼────────────┼───────────────────┤\n",
       "│ embedding_24        │ (\u001b[38;5;45mNone\u001b[0m, \u001b[38;5;34m1\u001b[0m, \u001b[38;5;34m5\u001b[0m)      │      \u001b[38;5;34m7,740\u001b[0m │ input_layer_24[\u001b[38;5;34m0\u001b[0m… │\n",
       "│ (\u001b[38;5;33mEmbedding\u001b[0m)         │                   │            │                   │\n",
       "├─────────────────────┼───────────────────┼────────────┼───────────────────┤\n",
       "│ embedding_25        │ (\u001b[38;5;45mNone\u001b[0m, \u001b[38;5;34m1\u001b[0m, \u001b[38;5;34m5\u001b[0m)      │    \u001b[38;5;34m644,385\u001b[0m │ input_layer_25[\u001b[38;5;34m0\u001b[0m… │\n",
       "│ (\u001b[38;5;33mEmbedding\u001b[0m)         │                   │            │                   │\n",
       "├─────────────────────┼───────────────────┼────────────┼───────────────────┤\n",
       "│ flatten_24          │ (\u001b[38;5;45mNone\u001b[0m, \u001b[38;5;34m5\u001b[0m)         │          \u001b[38;5;34m0\u001b[0m │ embedding_24[\u001b[38;5;34m0\u001b[0m][\u001b[38;5;34m…\u001b[0m │\n",
       "│ (\u001b[38;5;33mFlatten\u001b[0m)           │                   │            │                   │\n",
       "├─────────────────────┼───────────────────┼────────────┼───────────────────┤\n",
       "│ flatten_25          │ (\u001b[38;5;45mNone\u001b[0m, \u001b[38;5;34m5\u001b[0m)         │          \u001b[38;5;34m0\u001b[0m │ embedding_25[\u001b[38;5;34m0\u001b[0m][\u001b[38;5;34m…\u001b[0m │\n",
       "│ (\u001b[38;5;33mFlatten\u001b[0m)           │                   │            │                   │\n",
       "├─────────────────────┼───────────────────┼────────────┼───────────────────┤\n",
       "│ concatenate         │ (\u001b[38;5;45mNone\u001b[0m, \u001b[38;5;34m10\u001b[0m)        │          \u001b[38;5;34m0\u001b[0m │ flatten_24[\u001b[38;5;34m0\u001b[0m][\u001b[38;5;34m0\u001b[0m], │\n",
       "│ (\u001b[38;5;33mConcatenate\u001b[0m)       │                   │            │ flatten_25[\u001b[38;5;34m0\u001b[0m][\u001b[38;5;34m0\u001b[0m]  │\n",
       "├─────────────────────┼───────────────────┼────────────┼───────────────────┤\n",
       "│ dense (\u001b[38;5;33mDense\u001b[0m)       │ (\u001b[38;5;45mNone\u001b[0m, \u001b[38;5;34m20\u001b[0m)        │        \u001b[38;5;34m220\u001b[0m │ concatenate[\u001b[38;5;34m0\u001b[0m][\u001b[38;5;34m0\u001b[0m] │\n",
       "├─────────────────────┼───────────────────┼────────────┼───────────────────┤\n",
       "│ dense_1 (\u001b[38;5;33mDense\u001b[0m)     │ (\u001b[38;5;45mNone\u001b[0m, \u001b[38;5;34m10\u001b[0m)        │        \u001b[38;5;34m210\u001b[0m │ dense[\u001b[38;5;34m0\u001b[0m][\u001b[38;5;34m0\u001b[0m]       │\n",
       "├─────────────────────┼───────────────────┼────────────┼───────────────────┤\n",
       "│ dense_2 (\u001b[38;5;33mDense\u001b[0m)     │ (\u001b[38;5;45mNone\u001b[0m, \u001b[38;5;34m1\u001b[0m)         │         \u001b[38;5;34m11\u001b[0m │ dense_1[\u001b[38;5;34m0\u001b[0m][\u001b[38;5;34m0\u001b[0m]     │\n",
       "└─────────────────────┴───────────────────┴────────────┴───────────────────┘\n"
      ]
     },
     "metadata": {},
     "output_type": "display_data"
    },
    {
     "data": {
      "text/html": [
       "<pre style=\"white-space:pre;overflow-x:auto;line-height:normal;font-family:Menlo,'DejaVu Sans Mono',consolas,'Courier New',monospace\"><span style=\"font-weight: bold\"> Total params: </span><span style=\"color: #00af00; text-decoration-color: #00af00\">652,566</span> (2.49 MB)\n",
       "</pre>\n"
      ],
      "text/plain": [
       "\u001b[1m Total params: \u001b[0m\u001b[38;5;34m652,566\u001b[0m (2.49 MB)\n"
      ]
     },
     "metadata": {},
     "output_type": "display_data"
    },
    {
     "data": {
      "text/html": [
       "<pre style=\"white-space:pre;overflow-x:auto;line-height:normal;font-family:Menlo,'DejaVu Sans Mono',consolas,'Courier New',monospace\"><span style=\"font-weight: bold\"> Trainable params: </span><span style=\"color: #00af00; text-decoration-color: #00af00\">652,566</span> (2.49 MB)\n",
       "</pre>\n"
      ],
      "text/plain": [
       "\u001b[1m Trainable params: \u001b[0m\u001b[38;5;34m652,566\u001b[0m (2.49 MB)\n"
      ]
     },
     "metadata": {},
     "output_type": "display_data"
    },
    {
     "data": {
      "text/html": [
       "<pre style=\"white-space:pre;overflow-x:auto;line-height:normal;font-family:Menlo,'DejaVu Sans Mono',consolas,'Courier New',monospace\"><span style=\"font-weight: bold\"> Non-trainable params: </span><span style=\"color: #00af00; text-decoration-color: #00af00\">0</span> (0.00 B)\n",
       "</pre>\n"
      ],
      "text/plain": [
       "\u001b[1m Non-trainable params: \u001b[0m\u001b[38;5;34m0\u001b[0m (0.00 B)\n"
      ]
     },
     "metadata": {},
     "output_type": "display_data"
    },
    {
     "name": "stdout",
     "output_type": "stream",
     "text": [
      "Epoch 1/10\n",
      "\u001b[1m3679/3679\u001b[0m \u001b[32m━━━━━━━━━━━━━━━━━━━━\u001b[0m\u001b[37m\u001b[0m \u001b[1m5s\u001b[0m 1ms/step - loss: 3.8320 - mae: 1.2104\n",
      "Epoch 2/10\n",
      "\u001b[1m3679/3679\u001b[0m \u001b[32m━━━━━━━━━━━━━━━━━━━━\u001b[0m\u001b[37m\u001b[0m \u001b[1m5s\u001b[0m 1ms/step - loss: 0.4557 - mae: 0.3238\n",
      "Epoch 3/10\n",
      "\u001b[1m3679/3679\u001b[0m \u001b[32m━━━━━━━━━━━━━━━━━━━━\u001b[0m\u001b[37m\u001b[0m \u001b[1m4s\u001b[0m 1ms/step - loss: 0.1604 - mae: 0.1718\n",
      "Epoch 4/10\n",
      "\u001b[1m3679/3679\u001b[0m \u001b[32m━━━━━━━━━━━━━━━━━━━━\u001b[0m\u001b[37m\u001b[0m \u001b[1m4s\u001b[0m 1ms/step - loss: 0.0869 - mae: 0.1201\n",
      "Epoch 5/10\n",
      "\u001b[1m3679/3679\u001b[0m \u001b[32m━━━━━━━━━━━━━━━━━━━━\u001b[0m\u001b[37m\u001b[0m \u001b[1m4s\u001b[0m 1ms/step - loss: 0.0863 - mae: 0.1241\n",
      "Epoch 6/10\n",
      "\u001b[1m3679/3679\u001b[0m \u001b[32m━━━━━━━━━━━━━━━━━━━━\u001b[0m\u001b[37m\u001b[0m \u001b[1m4s\u001b[0m 1ms/step - loss: 0.0596 - mae: 0.0978\n",
      "Epoch 7/10\n",
      "\u001b[1m3679/3679\u001b[0m \u001b[32m━━━━━━━━━━━━━━━━━━━━\u001b[0m\u001b[37m\u001b[0m \u001b[1m4s\u001b[0m 1ms/step - loss: 0.0576 - mae: 0.0941\n",
      "Epoch 8/10\n",
      "\u001b[1m3679/3679\u001b[0m \u001b[32m━━━━━━━━━━━━━━━━━━━━\u001b[0m\u001b[37m\u001b[0m \u001b[1m4s\u001b[0m 1ms/step - loss: 0.0517 - mae: 0.0868\n",
      "Epoch 9/10\n",
      "\u001b[1m3679/3679\u001b[0m \u001b[32m━━━━━━━━━━━━━━━━━━━━\u001b[0m\u001b[37m\u001b[0m \u001b[1m4s\u001b[0m 1ms/step - loss: 0.0490 - mae: 0.0853\n",
      "Epoch 10/10\n",
      "\u001b[1m3679/3679\u001b[0m \u001b[32m━━━━━━━━━━━━━━━━━━━━\u001b[0m\u001b[37m\u001b[0m \u001b[1m4s\u001b[0m 1ms/step - loss: 0.0454 - mae: 0.0837\n",
      "\u001b[1m920/920\u001b[0m \u001b[32m━━━━━━━━━━━━━━━━━━━━\u001b[0m\u001b[37m\u001b[0m \u001b[1m0s\u001b[0m 506us/step\n"
     ]
    },
    {
     "data": {
      "text/plain": [
       "array([[4],\n",
       "       [4],\n",
       "       [4],\n",
       "       ...,\n",
       "       [5],\n",
       "       [4],\n",
       "       [5]])"
      ]
     },
     "metadata": {},
     "output_type": "display_data"
    }
   ],
   "source": [
    "# Definimos la estructura del modelo\n",
    "user_input = Input(shape=[1])\n",
    "user_embedding = Embedding(NUM_USERS, latent_dim)(user_input)\n",
    "user_vec = Flatten()(user_embedding)\n",
    "\n",
    "item_input = Input(shape=[1])\n",
    "item_embedding = Embedding(NUM_ITEMS, latent_dim)(item_input)\n",
    "item_vec = Flatten()(item_embedding)\n",
    "\n",
    "concat = Concatenate(axis=1)([user_vec, item_vec])\n",
    "\n",
    "dense1 = Dense(20, activation='relu')(concat)\n",
    "dense2 = Dense(10, activation='relu')(dense1)\n",
    "output = Dense(1, activation='relu')(dense2)\n",
    "\n",
    "MLP = Model([user_input, item_input], output)\n",
    "\n",
    "\n",
    "# Entrenamos el modelo\n",
    "MLP.compile(optimizer='adam', metrics=['mae'], loss='mean_squared_error')\n",
    "MLP.summary()\n",
    "MLP.fit(X_train, y_train, epochs=epochs, verbose=1)\n",
    "\n",
    "\n",
    "y_pred = MLP.predict(X_test)\n",
    "\n",
    "# Redondeamos y_pred al valor más cercano para calcular las métricas de precision\n",
    "y_pred_round = np.clip(np.round(y_pred), 1, 5).astype(int)\n",
    "y_pred_round"
   ]
  },
  {
   "cell_type": "code",
   "execution_count": null,
   "id": "5c67a4e3",
   "metadata": {},
   "outputs": [
    {
     "name": "stdout",
     "output_type": "stream",
     "text": [
      "MAE = 0.6294637322425842\n",
      "RMSE = 0.9968580417924598\n",
      "Precision = 0.31436686898308264\n",
      "Recall = 0.23429113436757767\n",
      "F1 = 0.19923609220109895\n"
     ]
    }
   ],
   "source": [
    "mae = mean_absolute_error(y_test, y_pred)\n",
    "rmse = np.sqrt(mean_squared_error(y_test, y_pred))\n",
    "precision = precision_score(y_test, y_pred_round, average='macro')\n",
    "recall = recall_score(y_test, y_pred_round, average='macro')\n",
    "f1 = f1_score(y_test, y_pred_round, average='macro')\n",
    "\n",
    "print(\"MAE = \" + str(mae))\n",
    "print(\"RMSE = \" + str(rmse))\n",
    "print(\"Precision = \" + str(precision))\n",
    "print(\"Recall = \" + str(recall))\n",
    "print(\"F1 = \" + str(f1))"
   ]
  },
  {
   "cell_type": "markdown",
   "id": "c35b73f6",
   "metadata": {},
   "source": [
    "A primera vista, los resultados son mucho mejores que los del primer modelo. Vamos a obtener los parámetros óptimos:"
   ]
  },
  {
   "cell_type": "markdown",
   "id": "561fe48e",
   "metadata": {},
   "source": [
    "### Número de neuronas"
   ]
  },
  {
   "cell_type": "code",
   "execution_count": null,
   "id": "8e294ee2",
   "metadata": {},
   "outputs": [],
   "source": [
    "latent_dim = 5\n",
    "epochs = 10"
   ]
  },
  {
   "cell_type": "code",
   "execution_count": null,
   "id": "94800a81",
   "metadata": {},
   "outputs": [
    {
     "name": "stdout",
     "output_type": "stream",
     "text": [
      "\u001b[1m920/920\u001b[0m \u001b[32m━━━━━━━━━━━━━━━━━━━━\u001b[0m\u001b[37m\u001b[0m \u001b[1m1s\u001b[0m 511us/step\n",
      "\u001b[1m920/920\u001b[0m \u001b[32m━━━━━━━━━━━━━━━━━━━━\u001b[0m\u001b[37m\u001b[0m \u001b[1m1s\u001b[0m 508us/step\n",
      "\u001b[1m920/920\u001b[0m \u001b[32m━━━━━━━━━━━━━━━━━━━━\u001b[0m\u001b[37m\u001b[0m \u001b[1m1s\u001b[0m 503us/step\n",
      "\u001b[1m920/920\u001b[0m \u001b[32m━━━━━━━━━━━━━━━━━━━━\u001b[0m\u001b[37m\u001b[0m \u001b[1m1s\u001b[0m 507us/step\n",
      "\u001b[1m920/920\u001b[0m \u001b[32m━━━━━━━━━━━━━━━━━━━━\u001b[0m\u001b[37m\u001b[0m \u001b[1m1s\u001b[0m 504us/step\n",
      "\u001b[1m920/920\u001b[0m \u001b[32m━━━━━━━━━━━━━━━━━━━━\u001b[0m\u001b[37m\u001b[0m \u001b[1m1s\u001b[0m 508us/step\n",
      "\u001b[1m920/920\u001b[0m \u001b[32m━━━━━━━━━━━━━━━━━━━━\u001b[0m\u001b[37m\u001b[0m \u001b[1m1s\u001b[0m 506us/step\n",
      "\u001b[1m920/920\u001b[0m \u001b[32m━━━━━━━━━━━━━━━━━━━━\u001b[0m\u001b[37m\u001b[0m \u001b[1m1s\u001b[0m 508us/step\n",
      "\u001b[1m920/920\u001b[0m \u001b[32m━━━━━━━━━━━━━━━━━━━━\u001b[0m\u001b[37m\u001b[0m \u001b[1m1s\u001b[0m 566us/step\n",
      "\u001b[1m920/920\u001b[0m \u001b[32m━━━━━━━━━━━━━━━━━━━━\u001b[0m\u001b[37m\u001b[0m \u001b[1m1s\u001b[0m 639us/step\n",
      "\u001b[1m920/920\u001b[0m \u001b[32m━━━━━━━━━━━━━━━━━━━━\u001b[0m\u001b[37m\u001b[0m \u001b[1m1s\u001b[0m 605us/step\n",
      "\u001b[1m920/920\u001b[0m \u001b[32m━━━━━━━━━━━━━━━━━━━━\u001b[0m\u001b[37m\u001b[0m \u001b[1m0s\u001b[0m 489us/step\n",
      "\u001b[1m920/920\u001b[0m \u001b[32m━━━━━━━━━━━━━━━━━━━━\u001b[0m\u001b[37m\u001b[0m \u001b[1m1s\u001b[0m 492us/step\n",
      "\u001b[1m920/920\u001b[0m \u001b[32m━━━━━━━━━━━━━━━━━━━━\u001b[0m\u001b[37m\u001b[0m \u001b[1m1s\u001b[0m 508us/step\n",
      "\u001b[1m920/920\u001b[0m \u001b[32m━━━━━━━━━━━━━━━━━━━━\u001b[0m\u001b[37m\u001b[0m \u001b[1m0s\u001b[0m 508us/step\n",
      "\u001b[1m920/920\u001b[0m \u001b[32m━━━━━━━━━━━━━━━━━━━━\u001b[0m\u001b[37m\u001b[0m \u001b[1m1s\u001b[0m 526us/step\n",
      "\u001b[1m920/920\u001b[0m \u001b[32m━━━━━━━━━━━━━━━━━━━━\u001b[0m\u001b[37m\u001b[0m \u001b[1m1s\u001b[0m 507us/step\n",
      "\u001b[1m920/920\u001b[0m \u001b[32m━━━━━━━━━━━━━━━━━━━━\u001b[0m\u001b[37m\u001b[0m \u001b[1m1s\u001b[0m 507us/step\n",
      "\u001b[1m920/920\u001b[0m \u001b[32m━━━━━━━━━━━━━━━━━━━━\u001b[0m\u001b[37m\u001b[0m \u001b[1m1s\u001b[0m 524us/step\n",
      "\u001b[1m920/920\u001b[0m \u001b[32m━━━━━━━━━━━━━━━━━━━━\u001b[0m\u001b[37m\u001b[0m \u001b[1m1s\u001b[0m 522us/step\n",
      "\u001b[1m920/920\u001b[0m \u001b[32m━━━━━━━━━━━━━━━━━━━━\u001b[0m\u001b[37m\u001b[0m \u001b[1m1s\u001b[0m 505us/step\n"
     ]
    }
   ],
   "source": [
    "list_mae = []\n",
    "list_f1 = []\n",
    "\n",
    "for num_neuronas in list(range(10, 31)):\n",
    "    # Definimos la estructura del modelo\n",
    "    user_input = Input(shape=[1])\n",
    "    user_embedding = Embedding(NUM_USERS, latent_dim)(user_input)\n",
    "    user_vec = Flatten()(user_embedding)\n",
    "\n",
    "    item_input = Input(shape=[1])\n",
    "    item_embedding = Embedding(NUM_ITEMS, latent_dim)(item_input)\n",
    "    item_vec = Flatten()(item_embedding)\n",
    "\n",
    "    concat = Concatenate(axis=1)([user_vec, item_vec])\n",
    "\n",
    "    dense1 = Dense(2 * num_neuronas, activation='relu')(concat)\n",
    "    dense2 = Dense(num_neuronas, activation='relu')(dense1)\n",
    "    output = Dense(1, activation='relu')(dense2)\n",
    "\n",
    "    MLP = Model([user_input, item_input], output)\n",
    "\n",
    "\n",
    "    # Entrenamos el modelo\n",
    "    MLP.compile(optimizer='adam', metrics=['mae'], loss='mean_squared_error')\n",
    "    MLP.fit(X_train, y_train, epochs=epochs, verbose=0)\n",
    "\n",
    "\n",
    "    y_pred = MLP.predict(X_test)\n",
    "\n",
    "    # Redondeamos y_pred al valor más cercano para calcular las métricas de precision\n",
    "    y_pred_round = np.clip(np.round(y_pred), 1, 5).astype(int)\n",
    "    y_pred_round\n",
    "\n",
    "\n",
    "    mae = mean_absolute_error(y_test, y_pred)\n",
    "    f1 = f1_score(y_test, y_pred_round, average='macro')\n",
    "    list_mae.append(mae)\n",
    "    list_f1.append(f1)"
   ]
  },
  {
   "cell_type": "code",
   "execution_count": null,
   "id": "bbd97f85",
   "metadata": {},
   "outputs": [
    {
     "data": {
      "image/png": "[encoded data removed]",
      "text/plain": [
       "<Figure size 800x500 with 1 Axes>"
      ]
     },
     "metadata": {},
     "output_type": "display_data"
    }
   ],
   "source": [
    "x = list(range(10, 31))\n",
    "\n",
    "plt.figure(figsize=(8, 5))\n",
    "plt.plot(x, list_mae, label='MAE')\n",
    "plt.plot(x, list_f1, label='F1')\n",
    "\n",
    "plt.xticks(x)\n",
    "plt.xlabel('Número de neuronas')\n",
    "plt.legend()\n",
    "plt.grid(True)\n",
    "\n",
    "plt.show()\n"
   ]
  },
  {
   "cell_type": "code",
   "execution_count": null,
   "id": "e1c46b26",
   "metadata": {},
   "outputs": [
    {
     "name": "stdout",
     "output_type": "stream",
     "text": [
      "Errores MAE\n"
     ]
    },
    {
     "data": {
      "text/plain": [
       "{25: 0.4688701033592224,\n",
       " 21: 0.4717331826686859,\n",
       " 27: 0.4875997006893158,\n",
       " 14: 0.4949502646923065,\n",
       " 24: 0.496624618768692,\n",
       " 22: 0.5067633986473083,\n",
       " 18: 0.5166705250740051,\n",
       " 23: 0.5168584585189819,\n",
       " 30: 0.5198178887367249,\n",
       " 19: 0.5241408944129944,\n",
       " 17: 0.5259590744972229,\n",
       " 26: 0.5334790349006653,\n",
       " 28: 0.5374205708503723,\n",
       " 29: 0.5617421865463257,\n",
       " 12: 0.5944446921348572,\n",
       " 20: 0.602968692779541,\n",
       " 11: 0.6056764125823975,\n",
       " 16: 0.608504056930542,\n",
       " 13: 0.6108028292655945,\n",
       " 10: 0.6311082243919373,\n",
       " 15: 0.6686414480209351}"
      ]
     },
     "metadata": {},
     "output_type": "display_data"
    }
   ],
   "source": [
    "print(f'Errores MAE')\n",
    "dict(sorted({i: j for i, j in zip(list(range(10, 31)), list_mae)}.items(), key=lambda item: item[1], reverse=False))"
   ]
  },
  {
   "cell_type": "code",
   "execution_count": null,
   "id": "2201b5ab",
   "metadata": {},
   "outputs": [
    {
     "name": "stdout",
     "output_type": "stream",
     "text": [
      "F1 Score\n"
     ]
    },
    {
     "data": {
      "text/plain": [
       "{25: 0.23861184424462553,\n",
       " 21: 0.23346772247679634,\n",
       " 18: 0.23028433126845443,\n",
       " 22: 0.22863142882567353,\n",
       " 27: 0.22709214311423773,\n",
       " 19: 0.2267909313451865,\n",
       " 24: 0.22649683566207965,\n",
       " 17: 0.2252111990931907,\n",
       " 23: 0.22255744176146125,\n",
       " 14: 0.22217880211374733,\n",
       " 26: 0.22032591397169546,\n",
       " 30: 0.21947873155553183,\n",
       " 20: 0.2161768729505536,\n",
       " 28: 0.21499780076837816,\n",
       " 29: 0.20941940514861296,\n",
       " 11: 0.20910570713765986,\n",
       " 13: 0.206960176395051,\n",
       " 12: 0.20607515368451113,\n",
       " 10: 0.20364478934125446,\n",
       " 16: 0.2008449521620692,\n",
       " 15: 0.1939756521357854}"
      ]
     },
     "metadata": {},
     "output_type": "display_data"
    }
   ],
   "source": [
    "print(f'F1 Score')\n",
    "dict(sorted({i: j for i, j in zip(list(range(10, 31)), list_f1)}.items(), key=lambda item: item[1], reverse=True))"
   ]
  },
  {
   "cell_type": "markdown",
   "id": "c7aaf2a4",
   "metadata": {},
   "source": [
    "Obtenemos los mejores resultados con `50 y 25 neuronas`."
   ]
  },
  {
   "cell_type": "markdown",
   "id": "afea5a84",
   "metadata": {},
   "source": [
    "### Factores latentes"
   ]
  },
  {
   "cell_type": "code",
   "execution_count": null,
   "id": "3dd6701e",
   "metadata": {},
   "outputs": [],
   "source": [
    "num_neuronas = 25"
   ]
  },
  {
   "cell_type": "code",
   "execution_count": null,
   "id": "bfa205a5",
   "metadata": {},
   "outputs": [
    {
     "name": "stdout",
     "output_type": "stream",
     "text": [
      "\u001b[1m920/920\u001b[0m \u001b[32m━━━━━━━━━━━━━━━━━━━━\u001b[0m\u001b[37m\u001b[0m \u001b[1m1s\u001b[0m 583us/step\n",
      "\u001b[1m920/920\u001b[0m \u001b[32m━━━━━━━━━━━━━━━━━━━━\u001b[0m\u001b[37m\u001b[0m \u001b[1m1s\u001b[0m 551us/step\n",
      "\u001b[1m920/920\u001b[0m \u001b[32m━━━━━━━━━━━━━━━━━━━━\u001b[0m\u001b[37m\u001b[0m \u001b[1m1s\u001b[0m 567us/step\n",
      "\u001b[1m920/920\u001b[0m \u001b[32m━━━━━━━━━━━━━━━━━━━━\u001b[0m\u001b[37m\u001b[0m \u001b[1m1s\u001b[0m 568us/step\n",
      "\u001b[1m920/920\u001b[0m \u001b[32m━━━━━━━━━━━━━━━━━━━━\u001b[0m\u001b[37m\u001b[0m \u001b[1m1s\u001b[0m 762us/step\n",
      "\u001b[1m920/920\u001b[0m \u001b[32m━━━━━━━━━━━━━━━━━━━━\u001b[0m\u001b[37m\u001b[0m \u001b[1m1s\u001b[0m 579us/step\n",
      "\u001b[1m920/920\u001b[0m \u001b[32m━━━━━━━━━━━━━━━━━━━━\u001b[0m\u001b[37m\u001b[0m \u001b[1m1s\u001b[0m 614us/step\n",
      "\u001b[1m920/920\u001b[0m \u001b[32m━━━━━━━━━━━━━━━━━━━━\u001b[0m\u001b[37m\u001b[0m \u001b[1m1s\u001b[0m 566us/step\n",
      "\u001b[1m920/920\u001b[0m \u001b[32m━━━━━━━━━━━━━━━━━━━━\u001b[0m\u001b[37m\u001b[0m \u001b[1m1s\u001b[0m 582us/step\n",
      "\u001b[1m920/920\u001b[0m \u001b[32m━━━━━━━━━━━━━━━━━━━━\u001b[0m\u001b[37m\u001b[0m \u001b[1m1s\u001b[0m 580us/step\n",
      "\u001b[1m920/920\u001b[0m \u001b[32m━━━━━━━━━━━━━━━━━━━━\u001b[0m\u001b[37m\u001b[0m \u001b[1m1s\u001b[0m 577us/step\n"
     ]
    }
   ],
   "source": [
    "list_mae = []\n",
    "list_f1 = []\n",
    "\n",
    "for latent_dim in list(range(10, 21)):\n",
    "    # Definimos la estructura del modelo\n",
    "    user_input = Input(shape=[1])\n",
    "    user_embedding = Embedding(NUM_USERS, latent_dim)(user_input)\n",
    "    user_vec = Flatten()(user_embedding)\n",
    "\n",
    "    item_input = Input(shape=[1])\n",
    "    item_embedding = Embedding(NUM_ITEMS, latent_dim)(item_input)\n",
    "    item_vec = Flatten()(item_embedding)\n",
    "\n",
    "    concat = Concatenate(axis=1)([user_vec, item_vec])\n",
    "\n",
    "    dense1 = Dense(2 * num_neuronas, activation='relu')(concat)\n",
    "    dense2 = Dense(num_neuronas, activation='relu')(dense1)\n",
    "    output = Dense(1, activation='relu')(dense2)\n",
    "\n",
    "    MLP = Model([user_input, item_input], output)\n",
    "\n",
    "\n",
    "    # Entrenamos el modelo\n",
    "    MLP.compile(optimizer='adam', metrics=['mae'], loss='mean_squared_error')\n",
    "    MLP.fit(X_train, y_train, epochs=epochs, verbose=0)\n",
    "\n",
    "\n",
    "    y_pred = MLP.predict(X_test)\n",
    "\n",
    "    # Redondeamos y_pred al valor más cercano para calcular las métricas de precision\n",
    "    y_pred_round = np.clip(np.round(y_pred), 1, 5).astype(int)\n",
    "    y_pred_round\n",
    "\n",
    "\n",
    "    mae = mean_absolute_error(y_test, y_pred)\n",
    "    f1 = f1_score(y_test, y_pred_round, average='macro')\n",
    "    list_mae.append(mae)\n",
    "    list_f1.append(f1)"
   ]
  },
  {
   "cell_type": "code",
   "execution_count": null,
   "id": "083dad24",
   "metadata": {},
   "outputs": [
    {
     "data": {
      "image/png": "[encoded data removed]",
      "text/plain": [
       "<Figure size 800x500 with 1 Axes>"
      ]
     },
     "metadata": {},
     "output_type": "display_data"
    }
   ],
   "source": [
    "x = list(range(10, 21))\n",
    "\n",
    "plt.figure(figsize=(8, 5))\n",
    "plt.plot(x, list_mae, label='MAE')\n",
    "plt.plot(x, list_f1, label='F1')\n",
    "\n",
    "plt.xticks(x)\n",
    "plt.xlabel('Factores Latentes')\n",
    "plt.legend()\n",
    "plt.grid(True)\n",
    "\n",
    "plt.show()\n"
   ]
  },
  {
   "cell_type": "code",
   "execution_count": null,
   "id": "83c85487",
   "metadata": {},
   "outputs": [
    {
     "name": "stdout",
     "output_type": "stream",
     "text": [
      "Errores MAE\n"
     ]
    },
    {
     "data": {
      "text/plain": [
       "{20: 0.3991354703903198,\n",
       " 15: 0.4036027789115906,\n",
       " 14: 0.40617576241493225,\n",
       " 17: 0.41292545199394226,\n",
       " 18: 0.41666460037231445,\n",
       " 19: 0.41902726888656616,\n",
       " 13: 0.4240463376045227,\n",
       " 11: 0.43176448345184326,\n",
       " 16: 0.4337216019630432,\n",
       " 12: 0.4626433253288269,\n",
       " 10: 0.4741651713848114}"
      ]
     },
     "metadata": {},
     "output_type": "display_data"
    }
   ],
   "source": [
    "print(f'Errores MAE')\n",
    "dict(sorted({i: j for i, j in zip(list(range(10, 21)), list_mae)}.items(), key=lambda item: item[1], reverse=False))"
   ]
  },
  {
   "cell_type": "code",
   "execution_count": null,
   "id": "f715951b",
   "metadata": {},
   "outputs": [
    {
     "name": "stdout",
     "output_type": "stream",
     "text": [
      "F1 Score\n"
     ]
    },
    {
     "data": {
      "text/plain": [
       "{11: 0.24289309869887904,\n",
       " 19: 0.2422785446619277,\n",
       " 20: 0.24188545497778158,\n",
       " 18: 0.24146006072899479,\n",
       " 17: 0.2404697574220874,\n",
       " 15: 0.23994144590444,\n",
       " 16: 0.2393786631429502,\n",
       " 12: 0.2384369493712939,\n",
       " 14: 0.2375909845182993,\n",
       " 10: 0.23340581103209748,\n",
       " 13: 0.23148229984611923}"
      ]
     },
     "metadata": {},
     "output_type": "display_data"
    }
   ],
   "source": [
    "print(f'F1 Score')\n",
    "dict(sorted({i: j for i, j in zip(list(range(10, 21)), list_f1)}.items(), key=lambda item: item[1], reverse=True))"
   ]
  },
  {
   "cell_type": "markdown",
   "id": "6f6db715",
   "metadata": {},
   "source": [
    "Parece que obtenemos los mejores resultados con `20 factores latentes`."
   ]
  },
  {
   "cell_type": "markdown",
   "id": "dac72c71",
   "metadata": {},
   "source": [
    "### Epochs"
   ]
  },
  {
   "cell_type": "code",
   "execution_count": null,
   "id": "baee459e",
   "metadata": {},
   "outputs": [
    {
     "name": "stdout",
     "output_type": "stream",
     "text": [
      "\u001b[1m920/920\u001b[0m \u001b[32m━━━━━━━━━━━━━━━━━━━━\u001b[0m\u001b[37m\u001b[0m \u001b[1m1s\u001b[0m 507us/step\n",
      "\u001b[1m920/920\u001b[0m \u001b[32m━━━━━━━━━━━━━━━━━━━━\u001b[0m\u001b[37m\u001b[0m \u001b[1m1s\u001b[0m 515us/step\n",
      "\u001b[1m920/920\u001b[0m \u001b[32m━━━━━━━━━━━━━━━━━━━━\u001b[0m\u001b[37m\u001b[0m \u001b[1m1s\u001b[0m 505us/step\n",
      "\u001b[1m920/920\u001b[0m \u001b[32m━━━━━━━━━━━━━━━━━━━━\u001b[0m\u001b[37m\u001b[0m \u001b[1m1s\u001b[0m 508us/step\n",
      "\u001b[1m920/920\u001b[0m \u001b[32m━━━━━━━━━━━━━━━━━━━━\u001b[0m\u001b[37m\u001b[0m \u001b[1m1s\u001b[0m 502us/step\n",
      "\u001b[1m920/920\u001b[0m \u001b[32m━━━━━━━━━━━━━━━━━━━━\u001b[0m\u001b[37m\u001b[0m \u001b[1m1s\u001b[0m 514us/step\n",
      "\u001b[1m920/920\u001b[0m \u001b[32m━━━━━━━━━━━━━━━━━━━━\u001b[0m\u001b[37m\u001b[0m \u001b[1m1s\u001b[0m 535us/step\n",
      "\u001b[1m920/920\u001b[0m \u001b[32m━━━━━━━━━━━━━━━━━━━━\u001b[0m\u001b[37m\u001b[0m \u001b[1m1s\u001b[0m 507us/step\n",
      "\u001b[1m920/920\u001b[0m \u001b[32m━━━━━━━━━━━━━━━━━━━━\u001b[0m\u001b[37m\u001b[0m \u001b[1m1s\u001b[0m 510us/step\n",
      "\u001b[1m920/920\u001b[0m \u001b[32m━━━━━━━━━━━━━━━━━━━━\u001b[0m\u001b[37m\u001b[0m \u001b[1m1s\u001b[0m 507us/step\n",
      "\u001b[1m920/920\u001b[0m \u001b[32m━━━━━━━━━━━━━━━━━━━━\u001b[0m\u001b[37m\u001b[0m \u001b[1m1s\u001b[0m 505us/step\n"
     ]
    }
   ],
   "source": [
    "list_mae = []\n",
    "list_f1 = []\n",
    "latent_dim = 20\n",
    "num_neuronas = 25\n",
    "\n",
    "for epochs in list(range(10, 21)):\n",
    "    # Definimos la estructura del modelo\n",
    "    user_input = Input(shape=[1])\n",
    "    user_embedding = Embedding(NUM_USERS, latent_dim)(user_input)\n",
    "    user_vec = Flatten()(user_embedding)\n",
    "\n",
    "    item_input = Input(shape=[1])\n",
    "    item_embedding = Embedding(NUM_ITEMS, latent_dim)(item_input)\n",
    "    item_vec = Flatten()(item_embedding)\n",
    "\n",
    "    concat = Concatenate(axis=1)([user_vec, item_vec])\n",
    "\n",
    "    dense1 = Dense(2 * num_neuronas, activation='relu')(concat)\n",
    "    dense2 = Dense(num_neuronas, activation='relu')(dense1)\n",
    "    output = Dense(1, activation='relu')(dense2)\n",
    "\n",
    "    MLP = Model([user_input, item_input], output)\n",
    "\n",
    "\n",
    "    # Entrenamos el modelo\n",
    "    MLP.compile(optimizer='adam', metrics=['mae'], loss='mean_squared_error')\n",
    "    MLP.fit(X_train, y_train, epochs=epochs, verbose=0)\n",
    "\n",
    "\n",
    "    y_pred = MLP.predict(X_test)\n",
    "\n",
    "    # Redondeamos y_pred al valor más cercano para calcular las métricas de precision\n",
    "    y_pred_round = np.clip(np.round(y_pred), 1, 5).astype(int)\n",
    "    y_pred_round\n",
    "\n",
    "\n",
    "    mae = mean_absolute_error(y_test, y_pred)\n",
    "    f1 = f1_score(y_test, y_pred_round, average='macro')\n",
    "    list_mae.append(mae)\n",
    "    list_f1.append(f1)"
   ]
  },
  {
   "cell_type": "code",
   "execution_count": null,
   "id": "77bd0fab",
   "metadata": {},
   "outputs": [
    {
     "data": {
      "image/png": "[encoded data removed]",
      "text/plain": [
       "<Figure size 800x500 with 1 Axes>"
      ]
     },
     "metadata": {},
     "output_type": "display_data"
    }
   ],
   "source": [
    "x = list(range(10, 21))\n",
    "\n",
    "plt.figure(figsize=(8, 5))\n",
    "plt.plot(x, list_mae, label='MAE')\n",
    "plt.plot(x, list_f1, label='F1')\n",
    "\n",
    "plt.xticks(x)\n",
    "plt.xlabel('Epochs')\n",
    "plt.legend()\n",
    "plt.grid(True)\n",
    "\n",
    "plt.show()\n"
   ]
  },
  {
   "cell_type": "code",
   "execution_count": null,
   "id": "3d122beb",
   "metadata": {},
   "outputs": [
    {
     "name": "stdout",
     "output_type": "stream",
     "text": [
      "Errores MAE\n"
     ]
    },
    {
     "data": {
      "text/plain": [
       "{18: 0.3676146864891052,\n",
       " 16: 0.36780527234077454,\n",
       " 15: 0.3704386353492737,\n",
       " 14: 0.3739967942237854,\n",
       " 17: 0.37699657678604126,\n",
       " 19: 0.3829379677772522,\n",
       " 20: 0.38354378938674927,\n",
       " 12: 0.3868330121040344,\n",
       " 13: 0.41638311743736267,\n",
       " 11: 0.42477142810821533,\n",
       " 10: 0.4438686966896057}"
      ]
     },
     "metadata": {},
     "output_type": "display_data"
    }
   ],
   "source": [
    "print(f'Errores MAE')\n",
    "dict(sorted({i: j for i, j in zip(list(range(10, 21)), list_mae)}.items(), key=lambda item: item[1], reverse=False))"
   ]
  },
  {
   "cell_type": "code",
   "execution_count": null,
   "id": "1d29688b",
   "metadata": {},
   "outputs": [
    {
     "name": "stdout",
     "output_type": "stream",
     "text": [
      "F1 Score\n"
     ]
    },
    {
     "data": {
      "text/plain": [
       "{18: 0.25227964661889535,\n",
       " 16: 0.24584513726015506,\n",
       " 14: 0.24493755989136537,\n",
       " 15: 0.24414917283650225,\n",
       " 20: 0.24246068295575016,\n",
       " 13: 0.24203873653911065,\n",
       " 19: 0.24189196939904622,\n",
       " 11: 0.24087894322248835,\n",
       " 12: 0.24074025771393295,\n",
       " 17: 0.2382532151062776,\n",
       " 10: 0.236052901165655}"
      ]
     },
     "metadata": {},
     "output_type": "display_data"
    }
   ],
   "source": [
    "print(f'F1 Score')\n",
    "dict(sorted({i: j for i, j in zip(list(range(10, 21)), list_f1)}.items(), key=lambda item: item[1], reverse=True))"
   ]
  },
  {
   "cell_type": "markdown",
   "id": "429df9e5",
   "metadata": {},
   "source": [
    "Obtenemos el menor error con `18 epochs`."
   ]
  },
  {
   "cell_type": "markdown",
   "id": "a22db098",
   "metadata": {},
   "source": [
    "### Ahora, vamos a obtener todas las métricas del modelo con los parámetros óptimos:"
   ]
  },
  {
   "cell_type": "code",
   "execution_count": null,
   "id": "d43ab88e",
   "metadata": {},
   "outputs": [],
   "source": [
    "latent_dim = 20\n",
    "epochs = 18\n",
    "num_neuronas = 25"
   ]
  },
  {
   "cell_type": "code",
   "execution_count": null,
   "id": "a21882e1",
   "metadata": {},
   "outputs": [
    {
     "name": "stdout",
     "output_type": "stream",
     "text": [
      "Epoch 1/18\n",
      "\u001b[1m3679/3679\u001b[0m \u001b[32m━━━━━━━━━━━━━━━━━━━━\u001b[0m\u001b[37m\u001b[0m \u001b[1m14s\u001b[0m 4ms/step - loss: 2.8355 - mae: 0.9792\n",
      "Epoch 2/18\n",
      "\u001b[1m3679/3679\u001b[0m \u001b[32m━━━━━━━━━━━━━━━━━━━━\u001b[0m\u001b[37m\u001b[0m \u001b[1m8s\u001b[0m 2ms/step - loss: 0.3873 - mae: 0.2989\n",
      "Epoch 3/18\n",
      "\u001b[1m3679/3679\u001b[0m \u001b[32m━━━━━━━━━━━━━━━━━━━━\u001b[0m\u001b[37m\u001b[0m \u001b[1m19s\u001b[0m 5ms/step - loss: 0.1460 - mae: 0.1772\n",
      "Epoch 4/18\n",
      "\u001b[1m3679/3679\u001b[0m \u001b[32m━━━━━━━━━━━━━━━━━━━━\u001b[0m\u001b[37m\u001b[0m \u001b[1m8s\u001b[0m 2ms/step - loss: 0.0764 - mae: 0.1129\n",
      "Epoch 5/18\n",
      "\u001b[1m3679/3679\u001b[0m \u001b[32m━━━━━━━━━━━━━━━━━━━━\u001b[0m\u001b[37m\u001b[0m \u001b[1m8s\u001b[0m 2ms/step - loss: 0.0753 - mae: 0.1154\n",
      "Epoch 6/18\n",
      "\u001b[1m3679/3679\u001b[0m \u001b[32m━━━━━━━━━━━━━━━━━━━━\u001b[0m\u001b[37m\u001b[0m \u001b[1m8s\u001b[0m 2ms/step - loss: 0.0659 - mae: 0.1050\n",
      "Epoch 7/18\n",
      "\u001b[1m3679/3679\u001b[0m \u001b[32m━━━━━━━━━━━━━━━━━━━━\u001b[0m\u001b[37m\u001b[0m \u001b[1m8s\u001b[0m 2ms/step - loss: 0.0578 - mae: 0.0997\n",
      "Epoch 8/18\n",
      "\u001b[1m3679/3679\u001b[0m \u001b[32m━━━━━━━━━━━━━━━━━━━━\u001b[0m\u001b[37m\u001b[0m \u001b[1m13s\u001b[0m 4ms/step - loss: 0.0495 - mae: 0.0910\n",
      "Epoch 9/18\n",
      "\u001b[1m3679/3679\u001b[0m \u001b[32m━━━━━━━━━━━━━━━━━━━━\u001b[0m\u001b[37m\u001b[0m \u001b[1m16s\u001b[0m 4ms/step - loss: 0.0485 - mae: 0.0897\n",
      "Epoch 10/18\n",
      "\u001b[1m3679/3679\u001b[0m \u001b[32m━━━━━━━━━━━━━━━━━━━━\u001b[0m\u001b[37m\u001b[0m \u001b[1m8s\u001b[0m 2ms/step - loss: 0.0415 - mae: 0.0809\n",
      "Epoch 11/18\n",
      "\u001b[1m3679/3679\u001b[0m \u001b[32m━━━━━━━━━━━━━━━━━━━━\u001b[0m\u001b[37m\u001b[0m \u001b[1m8s\u001b[0m 2ms/step - loss: 0.0360 - mae: 0.0730\n",
      "Epoch 12/18\n",
      "\u001b[1m3679/3679\u001b[0m \u001b[32m━━━━━━━━━━━━━━━━━━━━\u001b[0m\u001b[37m\u001b[0m \u001b[1m8s\u001b[0m 2ms/step - loss: 0.0348 - mae: 0.0721\n",
      "Epoch 13/18\n",
      "\u001b[1m3679/3679\u001b[0m \u001b[32m━━━━━━━━━━━━━━━━━━━━\u001b[0m\u001b[37m\u001b[0m \u001b[1m8s\u001b[0m 2ms/step - loss: 0.0346 - mae: 0.0720\n",
      "Epoch 14/18\n",
      "\u001b[1m3679/3679\u001b[0m \u001b[32m━━━━━━━━━━━━━━━━━━━━\u001b[0m\u001b[37m\u001b[0m \u001b[1m8s\u001b[0m 2ms/step - loss: 0.0315 - mae: 0.0672\n",
      "Epoch 15/18\n",
      "\u001b[1m3679/3679\u001b[0m \u001b[32m━━━━━━━━━━━━━━━━━━━━\u001b[0m\u001b[37m\u001b[0m \u001b[1m8s\u001b[0m 2ms/step - loss: 0.0311 - mae: 0.0658\n",
      "Epoch 16/18\n",
      "\u001b[1m3679/3679\u001b[0m \u001b[32m━━━━━━━━━━━━━━━━━━━━\u001b[0m\u001b[37m\u001b[0m \u001b[1m8s\u001b[0m 2ms/step - loss: 0.0272 - mae: 0.0626\n",
      "Epoch 17/18\n",
      "\u001b[1m3679/3679\u001b[0m \u001b[32m━━━━━━━━━━━━━━━━━━━━\u001b[0m\u001b[37m\u001b[0m \u001b[1m18s\u001b[0m 5ms/step - loss: 0.0248 - mae: 0.0580\n",
      "Epoch 18/18\n",
      "\u001b[1m3679/3679\u001b[0m \u001b[32m━━━━━━━━━━━━━━━━━━━━\u001b[0m\u001b[37m\u001b[0m \u001b[1m21s\u001b[0m 6ms/step - loss: 0.0237 - mae: 0.0575\n",
      "\u001b[1m920/920\u001b[0m \u001b[32m━━━━━━━━━━━━━━━━━━━━\u001b[0m\u001b[37m\u001b[0m \u001b[1m1s\u001b[0m 505us/step\n"
     ]
    },
    {
     "data": {
      "text/plain": [
       "array([[4],\n",
       "       [4],\n",
       "       [3],\n",
       "       ...,\n",
       "       [5],\n",
       "       [5],\n",
       "       [5]])"
      ]
     },
     "metadata": {},
     "output_type": "display_data"
    }
   ],
   "source": [
    "# Definimos la estructura del modelo\n",
    "user_input = Input(shape=[1])\n",
    "user_embedding = Embedding(NUM_USERS, latent_dim)(user_input)\n",
    "user_vec = Flatten()(user_embedding)\n",
    "\n",
    "item_input = Input(shape=[1])\n",
    "item_embedding = Embedding(NUM_ITEMS, latent_dim)(item_input)\n",
    "item_vec = Flatten()(item_embedding)\n",
    "\n",
    "concat = Concatenate(axis=1)([user_vec, item_vec])\n",
    "\n",
    "dense1 = Dense(2 * num_neuronas, activation='relu')(concat)\n",
    "dense2 = Dense(num_neuronas, activation='relu')(dense1)\n",
    "output = Dense(1, activation='relu')(dense2)\n",
    "\n",
    "MLP = Model([user_input, item_input], output)\n",
    "\n",
    "\n",
    "# Entrenamos el modelo\n",
    "MLP.compile(optimizer='adam', metrics=['mae'], loss='mean_squared_error')\n",
    "MLP.fit(X_train, y_train, epochs=epochs, verbose=1)\n",
    "\n",
    "\n",
    "y_pred = MLP.predict(X_test)\n",
    "\n",
    "# Redondeamos y_pred al valor más cercano para calcular las métricas de precision\n",
    "y_pred_round = np.clip(np.round(y_pred), 1, 5).astype(int)\n",
    "y_pred_round"
   ]
  },
  {
   "cell_type": "code",
   "execution_count": null,
   "id": "9f1cda38",
   "metadata": {},
   "outputs": [
    {
     "name": "stdout",
     "output_type": "stream",
     "text": [
      "MAE = 0.38791021704673767\n",
      "RMSE = 0.9821829837181838\n",
      "Precision = 0.3713346854198785\n",
      "Recall = 0.23314191253710934\n",
      "F1 = 0.23919003411591327\n"
     ]
    }
   ],
   "source": [
    "mae = mean_absolute_error(y_test, y_pred)\n",
    "rmse = np.sqrt(mean_squared_error(y_test, y_pred))\n",
    "precision = precision_score(y_test, y_pred_round, average='macro')\n",
    "recall = recall_score(y_test, y_pred_round, average='macro')\n",
    "f1 = f1_score(y_test, y_pred_round, average='macro')\n",
    "\n",
    "print(\"MAE = \" + str(mae))\n",
    "print(\"RMSE = \" + str(rmse))\n",
    "print(\"Precision = \" + str(precision))\n",
    "print(\"Recall = \" + str(recall))\n",
    "print(\"F1 = \" + str(f1))"
   ]
  },
  {
   "cell_type": "markdown",
   "id": "82d1e9a0",
   "metadata": {},
   "source": [
    "Una vez probados los dos modelos basados en redes neuronales, podemos concluir que el modelo de `Multi Layer Perceptron` obtiene unos resultados muy superiores a los de `Generalized Matrix Factorization`."
   ]
  }
 ],
 "metadata": {
  "kernelspec": {
   "display_name": "Python 3",
   "language": "python",
   "name": "python3"
  },
  "language_info": {
   "codemirror_mode": {
    "name": "ipython",
    "version": 3
   },
   "file_extension": ".py",
   "mimetype": "text/x-python",
   "name": "python",
   "nbconvert_exporter": "python",
   "pygments_lexer": "ipython3",
   "version": "3.11.9"
  }
 },
 "nbformat": 4,
 "nbformat_minor": 5
}
